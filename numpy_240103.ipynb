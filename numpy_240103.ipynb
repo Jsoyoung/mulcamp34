{
  "cells": [
    {
      "cell_type": "markdown",
      "metadata": {
        "id": "view-in-github",
        "colab_type": "text"
      },
      "source": [
        "<a href=\"https://colab.research.google.com/github/Jsoyoung/mulcamp34/blob/main/numpy_240103.ipynb\" target=\"_parent\"><img src=\"https://colab.research.google.com/assets/colab-badge.svg\" alt=\"Open In Colab\"/></a>"
      ]
    },
    {
      "cell_type": "markdown",
      "id": "0004de9c-c229-4c72-9014-386ab4187874",
      "metadata": {
        "id": "0004de9c-c229-4c72-9014-386ab4187874"
      },
      "source": [
        "## NumPy\n",
        "- 선형대수, 행렬 수치연산과 관련된 라이브러리"
      ]
    },
    {
      "cell_type": "code",
      "execution_count": null,
      "id": "6ae93d9c-5f70-42e9-8895-3c734fc64c1d",
      "metadata": {
        "id": "6ae93d9c-5f70-42e9-8895-3c734fc64c1d",
        "outputId": "895a0a1b-dabf-4d4a-a771-978019472f8c"
      },
      "outputs": [
        {
          "name": "stdout",
          "output_type": "stream",
          "text": [
            "1.26.3\n"
          ]
        }
      ],
      "source": [
        "import numpy as np  # Numpy 라이브러리를 불러오기    # ModuleNotFoundError: No module named '~~' 오류 : ~~ 라이브러리 설치하기!\n",
        "                                                   # !pip install ~~ : 가상환경 말고 주피터랩 안에서 임시로 설치하는 방법\n",
        "\n",
        "print(np.__version__)"
      ]
    },
    {
      "cell_type": "code",
      "execution_count": null,
      "id": "fdd3276f-5b33-4975-831c-44e09ae7fb3b",
      "metadata": {
        "id": "fdd3276f-5b33-4975-831c-44e09ae7fb3b",
        "outputId": "dc47ffe6-b0ea-45ea-e69d-4264ad6c9559"
      },
      "outputs": [
        {
          "data": {
            "text/plain": [
              "[1, 2, 3, 4, 3, 4, 5, 6]"
            ]
          },
          "execution_count": 4,
          "metadata": {},
          "output_type": "execute_result"
        }
      ],
      "source": [
        "num1 = [1,2,3,4]  # 리스트 형식\n",
        "num2 = [3,4,5,6]\n",
        "\n",
        "num1 + num2"
      ]
    },
    {
      "cell_type": "code",
      "execution_count": null,
      "id": "5746078d-645c-40df-ab84-2389986267b0",
      "metadata": {
        "id": "5746078d-645c-40df-ab84-2389986267b0",
        "outputId": "19dd5b86-0510-4ef6-feef-713b564a4325"
      },
      "outputs": [
        {
          "data": {
            "text/plain": [
              "array([1, 2, 3, 4])"
            ]
          },
          "execution_count": 6,
          "metadata": {},
          "output_type": "execute_result"
        }
      ],
      "source": [
        "# 데이터를 numpy 배열로 변경\n",
        "\n",
        "arr1 = np.array(num1)\n",
        "arr2 = np.array(num2)\n",
        "arr1"
      ]
    },
    {
      "cell_type": "code",
      "execution_count": null,
      "id": "98d4e617-dfab-42c6-8417-8b9f6b7c9558",
      "metadata": {
        "id": "98d4e617-dfab-42c6-8417-8b9f6b7c9558",
        "outputId": "a7c4b0dd-e37b-4b77-9696-554241c0f593"
      },
      "outputs": [
        {
          "data": {
            "text/plain": [
              "array([3, 4, 5, 6])"
            ]
          },
          "execution_count": 8,
          "metadata": {},
          "output_type": "execute_result"
        }
      ],
      "source": [
        "arr2"
      ]
    },
    {
      "cell_type": "code",
      "execution_count": null,
      "id": "391bf985-7e07-4ab8-b434-1c271bb844e7",
      "metadata": {
        "id": "391bf985-7e07-4ab8-b434-1c271bb844e7",
        "outputId": "283c7e4b-62bc-410b-dc46-dbaed00bc874"
      },
      "outputs": [
        {
          "data": {
            "text/plain": [
              "array([ 4,  6,  8, 10])"
            ]
          },
          "execution_count": 9,
          "metadata": {},
          "output_type": "execute_result"
        }
      ],
      "source": [
        "arr1 + arr2"
      ]
    },
    {
      "cell_type": "code",
      "execution_count": null,
      "id": "eb2bb9e8-8e42-419f-81d3-293fdb991c26",
      "metadata": {
        "id": "eb2bb9e8-8e42-419f-81d3-293fdb991c26",
        "outputId": "59438358-d99d-49a3-ba05-099d252731a8"
      },
      "outputs": [
        {
          "data": {
            "text/plain": [
              "array([0, 1, 2, 3, 4, 5])"
            ]
          },
          "execution_count": 12,
          "metadata": {},
          "output_type": "execute_result"
        }
      ],
      "source": [
        "data1 = [0,1,2,3,4,5]\n",
        "a1 = np.array(data1)\n",
        "a1"
      ]
    },
    {
      "cell_type": "code",
      "execution_count": null,
      "id": "0766073e-5127-42c4-afb6-c2f96be8ce56",
      "metadata": {
        "id": "0766073e-5127-42c4-afb6-c2f96be8ce56",
        "outputId": "109a5987-d3b4-4316-a7d0-23dafdea5b70"
      },
      "outputs": [
        {
          "data": {
            "text/plain": [
              "dtype('int32')"
            ]
          },
          "execution_count": 14,
          "metadata": {},
          "output_type": "execute_result"
        }
      ],
      "source": [
        "a1.dtype   # 데이터 타입 확인\n",
        "           # Python : int    # Numpy : int8, int16, int32, int64"
      ]
    },
    {
      "cell_type": "code",
      "execution_count": null,
      "id": "ce3e9d5e-3322-470c-8d43-2a37b12318a4",
      "metadata": {
        "id": "ce3e9d5e-3322-470c-8d43-2a37b12318a4",
        "outputId": "3e847abf-d421-4aa1-f68c-fb8216d38838"
      },
      "outputs": [
        {
          "data": {
            "text/plain": [
              "dtype('float64')"
            ]
          },
          "execution_count": 16,
          "metadata": {},
          "output_type": "execute_result"
        }
      ],
      "source": [
        "np.array([0.5, 2, 0.01, 8]).dtype"
      ]
    },
    {
      "cell_type": "markdown",
      "id": "e6e5331f-3d7f-4a51-833a-cbee3f4b16e7",
      "metadata": {
        "id": "e6e5331f-3d7f-4a51-833a-cbee3f4b16e7"
      },
      "source": [
        "## Numpy 배열 생성\n",
        "- 1차원, 2차원, 3차원... 배열 생성"
      ]
    },
    {
      "cell_type": "code",
      "execution_count": null,
      "id": "d365a02b-9ed4-4186-bbe1-af7171c316fe",
      "metadata": {
        "id": "d365a02b-9ed4-4186-bbe1-af7171c316fe",
        "outputId": "6835d7fd-c097-4b6d-e5ec-8f75a9c82877"
      },
      "outputs": [
        {
          "data": {
            "text/plain": [
              "array([0, 2, 4, 6, 8])"
            ]
          },
          "execution_count": 18,
          "metadata": {},
          "output_type": "execute_result"
        }
      ],
      "source": [
        "np.arange(0, 10, 2)"
      ]
    },
    {
      "cell_type": "code",
      "execution_count": null,
      "id": "8109dcd7-0dca-4188-96fb-5b3e9ade1987",
      "metadata": {
        "id": "8109dcd7-0dca-4188-96fb-5b3e9ade1987",
        "outputId": "ef7ed5d9-03fb-4bf7-9177-706837bc616b"
      },
      "outputs": [
        {
          "data": {
            "text/plain": [
              "array([1, 2, 3, 4, 5, 6, 7, 8, 9])"
            ]
          },
          "execution_count": 19,
          "metadata": {},
          "output_type": "execute_result"
        }
      ],
      "source": [
        "np.arange(1,10)"
      ]
    },
    {
      "cell_type": "code",
      "execution_count": null,
      "id": "3c23a6a9-8d19-4837-a106-f40752bd304f",
      "metadata": {
        "id": "3c23a6a9-8d19-4837-a106-f40752bd304f",
        "outputId": "9d183d06-7137-4974-8cab-ff445e9c9271"
      },
      "outputs": [
        {
          "data": {
            "text/plain": [
              "array([0, 1, 2, 3, 4, 5, 6, 7, 8, 9])"
            ]
          },
          "execution_count": 20,
          "metadata": {},
          "output_type": "execute_result"
        }
      ],
      "source": [
        "np.arange(10)"
      ]
    },
    {
      "cell_type": "code",
      "execution_count": null,
      "id": "d6da0449-6261-446a-9dee-9997d7b40746",
      "metadata": {
        "id": "d6da0449-6261-446a-9dee-9997d7b40746",
        "outputId": "7b33f6e9-a1b0-497a-fb96-01bce7120a2b"
      },
      "outputs": [
        {
          "data": {
            "text/plain": [
              "array([[ 0,  1,  2],\n",
              "       [ 3,  4,  5],\n",
              "       [ 6,  7,  8],\n",
              "       [ 9, 10, 11]])"
            ]
          },
          "execution_count": 22,
          "metadata": {},
          "output_type": "execute_result"
        }
      ],
      "source": [
        "np.arange(12).reshape(4,3)"
      ]
    },
    {
      "cell_type": "code",
      "execution_count": null,
      "id": "48a9fa76-8c82-4bd8-9cd1-79323db11446",
      "metadata": {
        "id": "48a9fa76-8c82-4bd8-9cd1-79323db11446",
        "outputId": "790d497b-34dd-4fe0-8159-02e83463ce70"
      },
      "outputs": [
        {
          "ename": "ValueError",
          "evalue": "cannot reshape array of size 12 into shape (4,5)",
          "output_type": "error",
          "traceback": [
            "\u001b[1;31m---------------------------------------------------------------------------\u001b[0m",
            "\u001b[1;31mValueError\u001b[0m                                Traceback (most recent call last)",
            "Cell \u001b[1;32mIn[23], line 1\u001b[0m\n\u001b[1;32m----> 1\u001b[0m \u001b[43mnp\u001b[49m\u001b[38;5;241;43m.\u001b[39;49m\u001b[43marange\u001b[49m\u001b[43m(\u001b[49m\u001b[38;5;241;43m12\u001b[39;49m\u001b[43m)\u001b[49m\u001b[38;5;241;43m.\u001b[39;49m\u001b[43mreshape\u001b[49m\u001b[43m(\u001b[49m\u001b[38;5;241;43m4\u001b[39;49m\u001b[43m,\u001b[49m\u001b[38;5;241;43m5\u001b[39;49m\u001b[43m)\u001b[49m\n",
            "\u001b[1;31mValueError\u001b[0m: cannot reshape array of size 12 into shape (4,5)"
          ]
        }
      ],
      "source": [
        "np.arange(12).reshape(4,5)  # 4*5 배열에 들어갈 원소 개수가 부족하면 에러 발생"
      ]
    },
    {
      "cell_type": "code",
      "execution_count": null,
      "id": "abf96df8-aec5-4abd-ab86-998e99033ad0",
      "metadata": {
        "id": "abf96df8-aec5-4abd-ab86-998e99033ad0",
        "outputId": "5792469d-c73b-431c-b2f7-9535ab8ff2d6"
      },
      "outputs": [
        {
          "data": {
            "text/plain": [
              "array([[[ 0,  1,  2],\n",
              "        [ 3,  4,  5]],\n",
              "\n",
              "       [[ 6,  7,  8],\n",
              "        [ 9, 10, 11]]])"
            ]
          },
          "execution_count": 31,
          "metadata": {},
          "output_type": "execute_result"
        }
      ],
      "source": [
        "np.arange(12).reshape(2,2,3)"
      ]
    },
    {
      "cell_type": "code",
      "execution_count": null,
      "id": "85049657-744a-4edc-b356-b043f5c36ea9",
      "metadata": {
        "id": "85049657-744a-4edc-b356-b043f5c36ea9",
        "outputId": "eb2e9afc-3739-4a14-b98c-b9cce3c152a7"
      },
      "outputs": [
        {
          "data": {
            "text/plain": [
              "(4, 3)"
            ]
          },
          "execution_count": 32,
          "metadata": {},
          "output_type": "execute_result"
        }
      ],
      "source": [
        "b1 = np.arange(12).reshape(4,3)\n",
        "b1.shape  # 출력값 튜플"
      ]
    },
    {
      "cell_type": "code",
      "execution_count": null,
      "id": "2c1a7900-3a68-4d50-88ec-2d82d0ef733f",
      "metadata": {
        "id": "2c1a7900-3a68-4d50-88ec-2d82d0ef733f",
        "outputId": "b24122b6-1199-4295-9d29-830a4c67afe4"
      },
      "outputs": [
        {
          "data": {
            "text/plain": [
              "(5,)"
            ]
          },
          "execution_count": 33,
          "metadata": {},
          "output_type": "execute_result"
        }
      ],
      "source": [
        "b2 = np.arange(5)\n",
        "b2.shape  # 1차원 배열 표시 방법 : (n,)"
      ]
    },
    {
      "cell_type": "code",
      "execution_count": null,
      "id": "3512d0e7-5a9a-4185-b97c-689ef935a8ba",
      "metadata": {
        "id": "3512d0e7-5a9a-4185-b97c-689ef935a8ba",
        "outputId": "4faea07e-c12a-4c9e-892b-900376fbf42e"
      },
      "outputs": [
        {
          "data": {
            "text/plain": [
              "array([ 0. ,  2.5,  5. ,  7.5, 10. ])"
            ]
          },
          "execution_count": 34,
          "metadata": {},
          "output_type": "execute_result"
        }
      ],
      "source": [
        "# 범위의 시작과 끝 정하기 배열 생성\n",
        "np.linspace(0,10,5)  # 0과 10 사이에 숫자가 5개 있도록 만들어달라"
      ]
    },
    {
      "cell_type": "code",
      "execution_count": null,
      "id": "f396286d-88e6-4f45-a0f2-874b6aae94c5",
      "metadata": {
        "id": "f396286d-88e6-4f45-a0f2-874b6aae94c5",
        "outputId": "d99c3ce6-0d27-463b-ba0e-e9f78a593680"
      },
      "outputs": [
        {
          "data": {
            "text/plain": [
              "array([0.        , 0.16534698, 0.33069396, 0.49604095, 0.66138793,\n",
              "       0.82673491, 0.99208189, 1.15742887, 1.32277585, 1.48812284,\n",
              "       1.65346982, 1.8188168 , 1.98416378, 2.14951076, 2.31485774,\n",
              "       2.48020473, 2.64555171, 2.81089869, 2.97624567, 3.14159265])"
            ]
          },
          "execution_count": 35,
          "metadata": {},
          "output_type": "execute_result"
        }
      ],
      "source": [
        "np.linspace(0, np.pi, 20)"
      ]
    },
    {
      "cell_type": "code",
      "execution_count": null,
      "id": "6d511c83-8f47-4dbd-aa42-3fbfd2ab1c00",
      "metadata": {
        "id": "6d511c83-8f47-4dbd-aa42-3fbfd2ab1c00",
        "outputId": "fa0ec823-0b10-45df-ec21-7cc0c4890245"
      },
      "outputs": [
        {
          "data": {
            "text/plain": [
              "array([0., 0., 0., 0., 0., 0., 0., 0., 0., 0.])"
            ]
          },
          "execution_count": 36,
          "metadata": {},
          "output_type": "execute_result"
        }
      ],
      "source": [
        "np.zeros(10)"
      ]
    },
    {
      "cell_type": "code",
      "execution_count": null,
      "id": "ac38eff8-645b-4c9b-88fa-3ecc23f0ce05",
      "metadata": {
        "id": "ac38eff8-645b-4c9b-88fa-3ecc23f0ce05",
        "outputId": "903f2b6f-dafa-4323-d011-3faf84da6f1b"
      },
      "outputs": [
        {
          "data": {
            "text/plain": [
              "array([[0., 0.],\n",
              "       [0., 0.]])"
            ]
          },
          "execution_count": 37,
          "metadata": {},
          "output_type": "execute_result"
        }
      ],
      "source": [
        "np.zeros((2,2))"
      ]
    },
    {
      "cell_type": "code",
      "execution_count": null,
      "id": "dc9ca361-0e13-4cbe-8c21-f4431fd4f455",
      "metadata": {
        "id": "dc9ca361-0e13-4cbe-8c21-f4431fd4f455",
        "outputId": "6c6aa3fe-cb07-4555-ae11-9f1c4ac8f793"
      },
      "outputs": [
        {
          "data": {
            "text/plain": [
              "array([1., 1., 1., 1., 1., 1., 1., 1., 1., 1.])"
            ]
          },
          "execution_count": 38,
          "metadata": {},
          "output_type": "execute_result"
        }
      ],
      "source": [
        "np.ones(10)"
      ]
    },
    {
      "cell_type": "code",
      "execution_count": null,
      "id": "d874bced-ab49-4af5-807e-2d17e54b8dcd",
      "metadata": {
        "id": "d874bced-ab49-4af5-807e-2d17e54b8dcd",
        "outputId": "df8e0a9a-cf50-4a98-87f8-b648a58f8850"
      },
      "outputs": [
        {
          "data": {
            "text/plain": [
              "array([[1., 1.],\n",
              "       [1., 1.]])"
            ]
          },
          "execution_count": 39,
          "metadata": {},
          "output_type": "execute_result"
        }
      ],
      "source": [
        "np.ones((2,2))"
      ]
    },
    {
      "cell_type": "markdown",
      "id": "5cb086d7-aa86-4839-a133-0ac5b741d2fd",
      "metadata": {
        "id": "5cb086d7-aa86-4839-a133-0ac5b741d2fd"
      },
      "source": [
        "## Numpy 기초 문법 배우는 이유\n",
        "- 문과생 : 데이터 분석가, 기초문법 있구나! 하고 넘어가면 끝\n",
        "- 이공계 : 수치연산, 배열, 수식 활용해서 문제 풀이\n",
        "          + 클래스, 딥러닝 클래스, NumPy를 활용해서 딥러닝 알고리즘 적용하여 클래스 & 라이브러리\n",
        "          + 밑바닥부터 시작하는 딥러닝3"
      ]
    },
    {
      "cell_type": "code",
      "execution_count": null,
      "id": "6d5c2a13-1775-4346-a3ed-74aa190b8c12",
      "metadata": {
        "id": "6d5c2a13-1775-4346-a3ed-74aa190b8c12",
        "outputId": "1d0b5a98-ac22-43bd-a17c-e112bbfb6458"
      },
      "outputs": [
        {
          "data": {
            "text/plain": [
              "array([[1., 0., 0.],\n",
              "       [0., 1., 0.],\n",
              "       [0., 0., 1.]])"
            ]
          },
          "execution_count": 40,
          "metadata": {},
          "output_type": "execute_result"
        }
      ],
      "source": [
        "# 단위행렬\n",
        "arr_I = np.eye(3)\n",
        "arr_I"
      ]
    },
    {
      "cell_type": "code",
      "execution_count": null,
      "id": "dbeb0d83-db97-4849-b616-d62e7a2d12c3",
      "metadata": {
        "id": "dbeb0d83-db97-4849-b616-d62e7a2d12c3",
        "outputId": "12fa97fc-8337-4926-8910-66d0c698eea6"
      },
      "outputs": [
        {
          "data": {
            "text/plain": [
              "(3, 3)"
            ]
          },
          "execution_count": 41,
          "metadata": {},
          "output_type": "execute_result"
        }
      ],
      "source": [
        "arr_I.shape"
      ]
    },
    {
      "cell_type": "code",
      "execution_count": null,
      "id": "478f4917-2023-466b-80ab-45cf8f3f4bef",
      "metadata": {
        "id": "478f4917-2023-466b-80ab-45cf8f3f4bef",
        "outputId": "e878c403-f922-4284-f751-6522692e1faa"
      },
      "outputs": [
        {
          "data": {
            "text/plain": [
              "array(['1.5', '0.62'], dtype='<U4')"
            ]
          },
          "execution_count": 42,
          "metadata": {},
          "output_type": "execute_result"
        }
      ],
      "source": [
        "np.array(['1.5', '0.62'])  # 데이터 형변환"
      ]
    },
    {
      "cell_type": "code",
      "execution_count": null,
      "id": "60caa54a-44b9-4dc6-9649-35b08543e962",
      "metadata": {
        "id": "60caa54a-44b9-4dc6-9649-35b08543e962",
        "outputId": "ad94b42a-720a-42be-f55e-9401de816645"
      },
      "outputs": [
        {
          "data": {
            "text/plain": [
              "dtype('float64')"
            ]
          },
          "execution_count": 43,
          "metadata": {},
          "output_type": "execute_result"
        }
      ],
      "source": [
        "# astype()  # pandas에서 사용 가능\n",
        "arr = np.array(['1.5', '0.62'])\n",
        "num_arr = arr.astype(float)  # astype을 통해 숫자 형태로 변경  # float: 실수\n",
        "num_arr.dtype"
      ]
    },
    {
      "cell_type": "code",
      "execution_count": null,
      "id": "78558a62-d630-4a66-9e50-ecdcfaa0fc7c",
      "metadata": {
        "id": "78558a62-d630-4a66-9e50-ecdcfaa0fc7c",
        "outputId": "efcf08da-8356-4d75-dd92-4fbd184b1ebf"
      },
      "outputs": [
        {
          "data": {
            "text/plain": [
              "array([10, 21,  0,  4,  5])"
            ]
          },
          "execution_count": 44,
          "metadata": {},
          "output_type": "execute_result"
        }
      ],
      "source": [
        "num_f1 = np.array([10, 21, 0.549, 4.75, 5.98])\n",
        "num_f1 = num_f1.astype(int)  # int는 실수와 같이 쓸 때는 별로,, 값이 유실됨  # 일치시키고 싶으면 float 형태로 변환하는 게 좋음\n",
        "num_f1"
      ]
    },
    {
      "cell_type": "code",
      "execution_count": null,
      "id": "8a575112-3a3a-4b38-b1b5-282c9cf07062",
      "metadata": {
        "id": "8a575112-3a3a-4b38-b1b5-282c9cf07062",
        "outputId": "ee76fbca-df9b-4284-fe11-6e639e591f2f"
      },
      "outputs": [
        {
          "data": {
            "text/plain": [
              "array([[0.86285307, 0.35853185, 0.29890949],\n",
              "       [0.49654064, 0.92957784, 0.18903782]])"
            ]
          },
          "execution_count": 45,
          "metadata": {},
          "output_type": "execute_result"
        }
      ],
      "source": [
        "# p.224\n",
        "# 난수 : 무작위로 숫자를 추출한다\n",
        "\n",
        "np.random.rand(2, 3)  # rand: 0~1 사이의 실수 난수를 가짐. 괄호 안은 배열"
      ]
    },
    {
      "cell_type": "code",
      "execution_count": null,
      "id": "94e77a85-5d57-4e25-a1e7-f9dc35b42819",
      "metadata": {
        "id": "94e77a85-5d57-4e25-a1e7-f9dc35b42819",
        "outputId": "197354bf-0525-4142-9755-449683c9365a"
      },
      "outputs": [
        {
          "data": {
            "text/plain": [
              "array([39, 59, 21, 13, 34, 72, 91, 32, 15, 12])"
            ]
          },
          "execution_count": 47,
          "metadata": {},
          "output_type": "execute_result"
        }
      ],
      "source": [
        "np.random.randint(1, 100, 10)  # randint: 범위 지정 후 그 사이의 난수"
      ]
    },
    {
      "cell_type": "code",
      "execution_count": null,
      "id": "79768e81-6b47-4dae-8327-eff8fd0cc856",
      "metadata": {
        "id": "79768e81-6b47-4dae-8327-eff8fd0cc856"
      },
      "outputs": [],
      "source": [
        "# 로또 번호 생성기"
      ]
    },
    {
      "cell_type": "code",
      "execution_count": null,
      "id": "a15e4de8-119c-4289-8701-b3ab766bcc5f",
      "metadata": {
        "id": "a15e4de8-119c-4289-8701-b3ab766bcc5f",
        "outputId": "d6cb92cd-3869-4cdb-cd6f-9dfd5aee47ff"
      },
      "outputs": [
        {
          "data": {
            "text/plain": [
              "array([21,  4, 12, 36,  5, 11])"
            ]
          },
          "execution_count": 56,
          "metadata": {},
          "output_type": "execute_result"
        }
      ],
      "source": [
        "np.random.randint(1, 45, 6)"
      ]
    },
    {
      "cell_type": "code",
      "execution_count": null,
      "id": "a75fa2bb-8298-42b0-90c2-9132898856c6",
      "metadata": {
        "id": "a75fa2bb-8298-42b0-90c2-9132898856c6",
        "outputId": "b8b79a22-ddff-4ffa-b159-50b52950a2cf"
      },
      "outputs": [
        {
          "name": "stdout",
          "output_type": "stream",
          "text": [
            "로또 번호:  [1, 11, 17, 28, 32, 33]\n"
          ]
        }
      ],
      "source": [
        "import random\n",
        "\n",
        "def generate_lotto_numbers():\n",
        "    lotto_numbers = []\n",
        "\n",
        "    while len(lotto_numbers) < 6:\n",
        "        number = random.randint(1, 45)\n",
        "        if number not in lotto_numbers:\n",
        "            lotto_numbers.append(number)\n",
        "\n",
        "    return sorted(lotto_numbers)\n",
        "\n",
        "if __name__ == \"__main__\":\n",
        "    lotto_numbers = generate_lotto_numbers()\n",
        "    print(\"로또 번호: \", lotto_numbers)\n"
      ]
    },
    {
      "cell_type": "code",
      "execution_count": null,
      "id": "7c3da1db-d1e9-4270-944e-dd3ce9f424cb",
      "metadata": {
        "id": "7c3da1db-d1e9-4270-944e-dd3ce9f424cb",
        "outputId": "cf2988d1-1acd-45db-8c2b-f9f46413a0cd"
      },
      "outputs": [
        {
          "name": "stdout",
          "output_type": "stream",
          "text": [
            "로또 번호: [27, 27, 28, 29, 30, 36]\n"
          ]
        }
      ],
      "source": [
        "import random\n",
        "\n",
        "def generate_lotto_numbers():\n",
        "    lotto_numbers = [random.randint(1, 45) for _ in range(6)]\n",
        "    lotto_numbers.sort()\n",
        "    return lotto_numbers\n",
        "\n",
        "if __name__ == \"__main__\":\n",
        "    lotto_result = generate_lotto_numbers()\n",
        "    print(\"로또 번호: {}\".format(lotto_result))"
      ]
    },
    {
      "cell_type": "code",
      "execution_count": null,
      "id": "f84d85e4-cab8-4da3-a279-0021699145f5",
      "metadata": {
        "id": "f84d85e4-cab8-4da3-a279-0021699145f5",
        "outputId": "926ac0ae-e5bb-4594-a216-033c4d45c031"
      },
      "outputs": [
        {
          "name": "stdout",
          "output_type": "stream",
          "text": [
            "생성된 로또 번호: [9, 13, 23, 33, 35, 36]\n"
          ]
        }
      ],
      "source": [
        "import random\n",
        "\n",
        "def generate_lotto_numbers():  # 로또번호 생성 함수\n",
        "    lotto_numbers = set()   # 중복된 요소 제거\n",
        "\n",
        "    while len(lotto_numbers) < 6:\n",
        "        number = random.randint(1, 45)\n",
        "        lotto_numbers.add(number)\n",
        "\n",
        "    return sorted(lotto_numbers)  # 시퀀스 오름차순 정렬\n",
        "\n",
        "# 로또 번호 생성\n",
        "lotto_numbers = generate_lotto_numbers()\n",
        "print(\"생성된 로또 번호:\", lotto_numbers)"
      ]
    },
    {
      "cell_type": "markdown",
      "id": "fb268575-1640-4805-bcd0-3055da2ff565",
      "metadata": {
        "id": "fb268575-1640-4805-bcd0-3055da2ff565"
      },
      "source": [
        "## 배열의 연산\n",
        "p.225"
      ]
    },
    {
      "cell_type": "code",
      "execution_count": null,
      "id": "f1f0ed47-1573-450c-aee7-56cf5e7c495b",
      "metadata": {
        "id": "f1f0ed47-1573-450c-aee7-56cf5e7c495b",
        "outputId": "7dc600ae-e3c8-47a4-a3fc-3d697dc677ad"
      },
      "outputs": [
        {
          "name": "stdout",
          "output_type": "stream",
          "text": [
            "[11 22 33 44]\n",
            "[ 9 18 27 36]\n",
            "[ 10  40  90 160]\n",
            "[10. 10. 10. 10.]\n"
          ]
        }
      ],
      "source": [
        "arr1 = np.array([10, 20, 30, 40])\n",
        "arr2 = np.array([1, 2, 3, 4])\n",
        "\n",
        "print(arr1 + arr2)\n",
        "print(arr1 - arr2)\n",
        "print(arr1 * arr2)\n",
        "print(arr1 / arr2)"
      ]
    },
    {
      "cell_type": "markdown",
      "id": "32396dbb-4879-4d31-8d15-afd6ba148a50",
      "metadata": {
        "id": "32396dbb-4879-4d31-8d15-afd6ba148a50"
      },
      "source": [
        "## 비교연산"
      ]
    },
    {
      "cell_type": "code",
      "execution_count": null,
      "id": "37715168-77d3-4a24-af13-bc9c991a9074",
      "metadata": {
        "id": "37715168-77d3-4a24-af13-bc9c991a9074",
        "outputId": "f213c1b0-99fd-4943-cf1e-aca760bca035"
      },
      "outputs": [
        {
          "data": {
            "text/plain": [
              "array([False, False,  True,  True])"
            ]
          },
          "execution_count": 64,
          "metadata": {},
          "output_type": "execute_result"
        }
      ],
      "source": [
        "arr1 > 20"
      ]
    },
    {
      "cell_type": "markdown",
      "id": "476624b5-92db-4a43-9afa-04f5ffa607e9",
      "metadata": {
        "id": "476624b5-92db-4a43-9afa-04f5ffa607e9"
      },
      "source": [
        "## 통계 연산\n",
        "- Numpy, 합, 평균, 표준 편차, 분산, 최솟값, 최댓값, 누적합, 누적 곱 메서드가 존재한다.\n",
        "    + 기술통계량 (Descriptive Statistics) : 현재 데이터 상태를 표현(=묘사, Describe) 한다.\n",
        "\n",
        "- 통계 : 평균이 전부다! (Mean is Everything)\n",
        "    + 모수 통계\n",
        "    + 비모수 통계\n",
        "    + 베이지안 통계\n",
        "      "
      ]
    },
    {
      "cell_type": "code",
      "execution_count": null,
      "id": "9494ba92-8c9c-49ec-8900-aa4fd5f9cfdf",
      "metadata": {
        "id": "9494ba92-8c9c-49ec-8900-aa4fd5f9cfdf",
        "outputId": "8d483b71-1d61-4b9f-eec2-b14cc8c28ed8"
      },
      "outputs": [
        {
          "data": {
            "text/plain": [
              "array([0, 1, 2, 3, 4])"
            ]
          },
          "execution_count": 65,
          "metadata": {},
          "output_type": "execute_result"
        }
      ],
      "source": [
        "arr3 = np.arange(5)\n",
        "arr3"
      ]
    },
    {
      "cell_type": "code",
      "execution_count": null,
      "id": "3fac7088-cdf9-4b82-a56c-92c56970e666",
      "metadata": {
        "id": "3fac7088-cdf9-4b82-a56c-92c56970e666",
        "outputId": "5ad1a795-201d-4869-ce32-b5edb5926aa0"
      },
      "outputs": [
        {
          "data": {
            "text/plain": [
              "10"
            ]
          },
          "execution_count": 66,
          "metadata": {},
          "output_type": "execute_result"
        }
      ],
      "source": [
        "arr3.sum()"
      ]
    },
    {
      "cell_type": "code",
      "execution_count": null,
      "id": "50e1c268-e23c-4599-a02f-bf89baa69d6d",
      "metadata": {
        "id": "50e1c268-e23c-4599-a02f-bf89baa69d6d",
        "outputId": "ef013b90-b372-46f9-829c-a2203bd81148"
      },
      "outputs": [
        {
          "data": {
            "text/plain": [
              "2.0"
            ]
          },
          "execution_count": 68,
          "metadata": {},
          "output_type": "execute_result"
        }
      ],
      "source": [
        "arr3.mean()"
      ]
    },
    {
      "cell_type": "code",
      "execution_count": null,
      "id": "a30ca9d1-13c1-4370-b036-f314195c5029",
      "metadata": {
        "id": "a30ca9d1-13c1-4370-b036-f314195c5029",
        "outputId": "4e72db98-4d6d-4516-cdc7-2bfa80ef9d7d"
      },
      "outputs": [
        {
          "data": {
            "text/plain": [
              "1.4142135623730951"
            ]
          },
          "execution_count": 69,
          "metadata": {},
          "output_type": "execute_result"
        }
      ],
      "source": [
        "arr3.std() # 표준편차"
      ]
    },
    {
      "cell_type": "code",
      "execution_count": null,
      "id": "b7efe00b-f1bb-4959-97f5-8487d99e6607",
      "metadata": {
        "id": "b7efe00b-f1bb-4959-97f5-8487d99e6607",
        "outputId": "03e20e60-0c6c-4af7-e096-698f1a9248d9"
      },
      "outputs": [
        {
          "data": {
            "text/plain": [
              "2.0"
            ]
          },
          "execution_count": 70,
          "metadata": {},
          "output_type": "execute_result"
        }
      ],
      "source": [
        "arr3.var() # 분산"
      ]
    },
    {
      "cell_type": "markdown",
      "id": "fd87610d-c300-4493-b43f-2ffdca051125",
      "metadata": {
        "id": "fd87610d-c300-4493-b43f-2ffdca051125"
      },
      "source": [
        "## 누적합과 누적곱\n",
        "- cumsum() : 누적합\n",
        "- cumprod() : 누적곱"
      ]
    },
    {
      "cell_type": "code",
      "execution_count": null,
      "id": "36955ca0-906f-483c-9c8e-58a28c98a19f",
      "metadata": {
        "id": "36955ca0-906f-483c-9c8e-58a28c98a19f",
        "outputId": "2ec96ce6-0673-404e-f755-8ec2a2565054"
      },
      "outputs": [
        {
          "data": {
            "text/plain": [
              "array([1, 2, 3, 4])"
            ]
          },
          "execution_count": 71,
          "metadata": {},
          "output_type": "execute_result"
        }
      ],
      "source": [
        "arr4 = np.arange(1,5)\n",
        "arr4"
      ]
    },
    {
      "cell_type": "code",
      "execution_count": null,
      "id": "2ef65a7a-e26d-4591-b179-2f4eece1ccaf",
      "metadata": {
        "id": "2ef65a7a-e26d-4591-b179-2f4eece1ccaf",
        "outputId": "2a60cbfe-7210-4e9d-9503-c2cbcee06f31"
      },
      "outputs": [
        {
          "data": {
            "text/plain": [
              "array([ 1,  3,  6, 10])"
            ]
          },
          "execution_count": 72,
          "metadata": {},
          "output_type": "execute_result"
        }
      ],
      "source": [
        "arr4.cumsum()"
      ]
    },
    {
      "cell_type": "code",
      "execution_count": null,
      "id": "0443dc1d-a10c-47a3-8bd3-db1f72eff4a1",
      "metadata": {
        "id": "0443dc1d-a10c-47a3-8bd3-db1f72eff4a1",
        "outputId": "9be4e937-f0b5-4d06-b156-db0c97716c52"
      },
      "outputs": [
        {
          "data": {
            "text/plain": [
              "array([ 1,  2,  6, 24])"
            ]
          },
          "execution_count": 73,
          "metadata": {},
          "output_type": "execute_result"
        }
      ],
      "source": [
        "arr4.cumprod()"
      ]
    },
    {
      "cell_type": "markdown",
      "id": "5fec93d5-536d-4c94-b470-9f89e435bc99",
      "metadata": {
        "id": "5fec93d5-536d-4c94-b470-9f89e435bc99"
      },
      "source": [
        "## 행렬연산\n",
        "- 선형 대수(Linear Algebra)를 위한 2차원 배열 연산도 지원\n",
        "- p229, 행렬곱, 전치행렬, 역행렬, 행렬식 사용 예시"
      ]
    },
    {
      "cell_type": "code",
      "execution_count": null,
      "id": "baa63f4b-33df-478a-8bfd-15669336db1d",
      "metadata": {
        "id": "baa63f4b-33df-478a-8bfd-15669336db1d",
        "outputId": "f25f5c57-d8ee-4f54-da1d-e31a2a08d481"
      },
      "outputs": [
        {
          "data": {
            "text/plain": [
              "array([[0, 1],\n",
              "       [2, 3]])"
            ]
          },
          "execution_count": 74,
          "metadata": {},
          "output_type": "execute_result"
        }
      ],
      "source": [
        "A = np.array([0, 1, 2, 3]).reshape(2, 2)\n",
        "A"
      ]
    },
    {
      "cell_type": "code",
      "execution_count": null,
      "id": "d3e537cb-151c-405f-a37a-fcd733ef4ce3",
      "metadata": {
        "id": "d3e537cb-151c-405f-a37a-fcd733ef4ce3",
        "outputId": "f0aa0d8e-e0fc-492d-a2ed-74f201fb97ba"
      },
      "outputs": [
        {
          "data": {
            "text/plain": [
              "array([[3, 2],\n",
              "       [0, 1]])"
            ]
          },
          "execution_count": 75,
          "metadata": {},
          "output_type": "execute_result"
        }
      ],
      "source": [
        "B = np.array([3, 2, 0, 1]).reshape(2, 2)\n",
        "B"
      ]
    },
    {
      "cell_type": "code",
      "execution_count": null,
      "id": "9ff000cd-5563-4a29-9295-f592f5eeed96",
      "metadata": {
        "id": "9ff000cd-5563-4a29-9295-f592f5eeed96",
        "outputId": "88209466-0df8-4049-c898-cd26f810f6f5"
      },
      "outputs": [
        {
          "data": {
            "text/plain": [
              "array([[0, 1],\n",
              "       [6, 7]])"
            ]
          },
          "execution_count": 76,
          "metadata": {},
          "output_type": "execute_result"
        }
      ],
      "source": [
        "A.dot(B)  # 행렬 곱"
      ]
    },
    {
      "cell_type": "code",
      "execution_count": null,
      "id": "1e1fb6fb-26a0-4630-9852-c68b5203f2b3",
      "metadata": {
        "id": "1e1fb6fb-26a0-4630-9852-c68b5203f2b3",
        "outputId": "0caafe2e-4975-4b42-adde-e02eed9ba5ce"
      },
      "outputs": [
        {
          "data": {
            "text/plain": [
              "array([[0, 2],\n",
              "       [1, 3]])"
            ]
          },
          "execution_count": 77,
          "metadata": {},
          "output_type": "execute_result"
        }
      ],
      "source": [
        "A.transpose()  # 전치 행렬"
      ]
    },
    {
      "cell_type": "code",
      "execution_count": null,
      "id": "af613c48-1ea5-4578-9d05-8159d9ce0277",
      "metadata": {
        "id": "af613c48-1ea5-4578-9d05-8159d9ce0277",
        "outputId": "6469489d-8105-4dbe-e379-1295778c3c0d"
      },
      "outputs": [
        {
          "data": {
            "text/plain": [
              "array([[-1.5,  0.5],\n",
              "       [ 1. ,  0. ]])"
            ]
          },
          "execution_count": 78,
          "metadata": {},
          "output_type": "execute_result"
        }
      ],
      "source": [
        "np.linalg.inv(A)  # 역행렬"
      ]
    },
    {
      "cell_type": "markdown",
      "id": "debde7f9-6329-4d0a-a59f-0ee86e9f7348",
      "metadata": {
        "id": "debde7f9-6329-4d0a-a59f-0ee86e9f7348"
      },
      "source": [
        "## 배열의 인덱싱과 슬라이싱(p.230)\n",
        "- string, list, tuple과 동일한 방법으로 접근"
      ]
    },
    {
      "cell_type": "code",
      "execution_count": null,
      "id": "05247fa5-fd1f-4588-83fb-0a0fa0b31565",
      "metadata": {
        "id": "05247fa5-fd1f-4588-83fb-0a0fa0b31565",
        "outputId": "12ac3dda-16f6-4ebf-898d-afe2fb6d88df"
      },
      "outputs": [
        {
          "data": {
            "text/plain": [
              "array([ 0, 10, 20, 30, 40, 50])"
            ]
          },
          "execution_count": 80,
          "metadata": {},
          "output_type": "execute_result"
        }
      ],
      "source": [
        "a1 = np.array([0, 10, 20, 30, 40, 50])\n",
        "a1"
      ]
    },
    {
      "cell_type": "code",
      "execution_count": null,
      "id": "49ab5ee3-a9a7-425e-ba49-c0a591c9b3a0",
      "metadata": {
        "id": "49ab5ee3-a9a7-425e-ba49-c0a591c9b3a0",
        "outputId": "440224c9-05f3-436d-a626-43a0d3fbd005"
      },
      "outputs": [
        {
          "data": {
            "text/plain": [
              "30"
            ]
          },
          "execution_count": 82,
          "metadata": {},
          "output_type": "execute_result"
        }
      ],
      "source": [
        "a1[3]"
      ]
    },
    {
      "cell_type": "code",
      "execution_count": null,
      "id": "a007dd06-14b7-4452-9512-bc4b3cac2d78",
      "metadata": {
        "id": "a007dd06-14b7-4452-9512-bc4b3cac2d78",
        "outputId": "5427d16d-c342-4130-cd23-9c152b6b9a57"
      },
      "outputs": [
        {
          "data": {
            "text/plain": [
              "array([ 0, 10, 20, 30, 40, 70])"
            ]
          },
          "execution_count": 83,
          "metadata": {},
          "output_type": "execute_result"
        }
      ],
      "source": [
        "# 50을 70으로 변경하고 싶음\n",
        "a1[5] = 70\n",
        "a1"
      ]
    },
    {
      "cell_type": "code",
      "execution_count": null,
      "id": "4ee0bdc8-b72a-44f6-bd7a-b7a7dc51c641",
      "metadata": {
        "id": "4ee0bdc8-b72a-44f6-bd7a-b7a7dc51c641",
        "outputId": "98dd12fa-f27d-4d22-a6b0-695412a4bb99"
      },
      "outputs": [
        {
          "data": {
            "text/plain": [
              "array([ 0, 20, 40])"
            ]
          },
          "execution_count": 84,
          "metadata": {},
          "output_type": "execute_result"
        }
      ],
      "source": [
        "# 리스트 통해서 추출\n",
        "a1[[0, 2, 4]]  # 인덱스 위치 -> 리스트화"
      ]
    },
    {
      "cell_type": "code",
      "execution_count": null,
      "id": "acb72ebb-5d03-4180-9db5-ae97e47de3c3",
      "metadata": {
        "id": "acb72ebb-5d03-4180-9db5-ae97e47de3c3",
        "outputId": "40b953e8-bd7b-4bf5-a882-0c76687a6249"
      },
      "outputs": [
        {
          "data": {
            "text/plain": [
              "array([ 0, 20, 40])"
            ]
          },
          "execution_count": 88,
          "metadata": {},
          "output_type": "execute_result"
        }
      ],
      "source": [
        "idx_list = [0, 2, 4]\n",
        "a1[idx_list]  # 위의 경우보다 이렇게 하는 것이 더 일반적"
      ]
    },
    {
      "cell_type": "code",
      "execution_count": null,
      "id": "0119301d-f7e7-4966-87ff-7c22f440a343",
      "metadata": {
        "id": "0119301d-f7e7-4966-87ff-7c22f440a343",
        "outputId": "9da2383e-0abd-44e6-85d2-25784233aa24"
      },
      "outputs": [
        {
          "data": {
            "text/plain": [
              "array([[10, 20, 30],\n",
              "       [40, 50, 60],\n",
              "       [70, 80, 90]])"
            ]
          },
          "execution_count": 87,
          "metadata": {},
          "output_type": "execute_result"
        }
      ],
      "source": [
        "a2 = np.arange(10, 100, 10).reshape(3, 3)\n",
        "a2  # 첫번째 열, 첫번째 행 0부터 시작"
      ]
    },
    {
      "cell_type": "code",
      "execution_count": null,
      "id": "00dd8804-8332-46ab-a8bc-f1871400d97e",
      "metadata": {
        "id": "00dd8804-8332-46ab-a8bc-f1871400d97e",
        "outputId": "54b69492-fd9f-49a3-878b-e5bcc46d2e49"
      },
      "outputs": [
        {
          "data": {
            "text/plain": [
              "20"
            ]
          },
          "execution_count": 98,
          "metadata": {},
          "output_type": "execute_result"
        }
      ],
      "source": [
        "a2[0,1]"
      ]
    },
    {
      "cell_type": "code",
      "execution_count": null,
      "id": "f11019aa-e21f-461d-94ef-44e52065b0e3",
      "metadata": {
        "id": "f11019aa-e21f-461d-94ef-44e52065b0e3",
        "outputId": "368a8ce4-75e1-453e-d6a1-4f8e335e77f0"
      },
      "outputs": [
        {
          "data": {
            "text/plain": [
              "array([[10, 20, 30],\n",
              "       [40, 50, 60],\n",
              "       [70, 80, 95]])"
            ]
          },
          "execution_count": 99,
          "metadata": {},
          "output_type": "execute_result"
        }
      ],
      "source": [
        "# 90을 95로 변경\n",
        "a2[2, 2] = 95     # pandas 가공할 때도 유사하게 사용됨\n",
        "a2"
      ]
    },
    {
      "cell_type": "code",
      "execution_count": null,
      "id": "70b1bab8-29d5-4c41-997d-f9147efcffb7",
      "metadata": {
        "id": "70b1bab8-29d5-4c41-997d-f9147efcffb7",
        "outputId": "1556e125-7659-4037-f63e-de0ddee4c32a"
      },
      "outputs": [
        {
          "data": {
            "text/plain": [
              "array([[10, 20, 30],\n",
              "       [41, 50, 60],\n",
              "       [70, 80, 95]])"
            ]
          },
          "execution_count": 100,
          "metadata": {},
          "output_type": "execute_result"
        }
      ],
      "source": [
        "a2[1,0] = 41\n",
        "a2"
      ]
    },
    {
      "cell_type": "code",
      "execution_count": null,
      "id": "02720af7-5a4d-44a7-8568-efa37fd17ed1",
      "metadata": {
        "id": "02720af7-5a4d-44a7-8568-efa37fd17ed1",
        "outputId": "69a18a8a-1502-401b-e64f-3f8eff7de16b"
      },
      "outputs": [
        {
          "data": {
            "text/plain": [
              "array([[ 1,  2,  3],\n",
              "       [41, 50, 60],\n",
              "       [70, 80, 95]])"
            ]
          },
          "execution_count": 101,
          "metadata": {},
          "output_type": "execute_result"
        }
      ],
      "source": [
        "a2[0] = [1, 2, 3]  # 좋지 못한 코드\n",
        "a2"
      ]
    },
    {
      "cell_type": "code",
      "execution_count": null,
      "id": "92d3cb2e-15fb-45e8-9eb4-e8ac19f0b472",
      "metadata": {
        "id": "92d3cb2e-15fb-45e8-9eb4-e8ac19f0b472",
        "outputId": "5b9ac934-f418-4e65-dfd1-e99d8179c7bd"
      },
      "outputs": [
        {
          "data": {
            "text/plain": [
              "array([[ 4,  5,  6],\n",
              "       [41, 50, 60],\n",
              "       [70, 80, 95]])"
            ]
          },
          "execution_count": 103,
          "metadata": {},
          "output_type": "execute_result"
        }
      ],
      "source": [
        "# 정석\n",
        "a2[0] = np.array([4,5,6])  # a2[0]이 배열이므로 형식을 배열(array)로 맞춰주는 것\n",
        "a2"
      ]
    },
    {
      "cell_type": "markdown",
      "id": "c4a3ba0a-6abb-4e4e-8ce1-fb70a5157ecc",
      "metadata": {
        "id": "c4a3ba0a-6abb-4e4e-8ce1-fb70a5157ecc"
      },
      "source": [
        "- 2차원 배열의 행과 열 위치 지정해서 원소 추출\n",
        "    + (행의 위치1, 열의 위치1 / 행의 위치2, 열의 위치2)"
      ]
    },
    {
      "cell_type": "code",
      "execution_count": null,
      "id": "acf8bac8-969b-44fe-b3d5-d0db0de654ef",
      "metadata": {
        "id": "acf8bac8-969b-44fe-b3d5-d0db0de654ef",
        "outputId": "7b10e5c6-eb31-4882-950c-684caf23c0d6"
      },
      "outputs": [
        {
          "data": {
            "text/plain": [
              "array([[ 4,  5,  6],\n",
              "       [41, 50, 60],\n",
              "       [70, 80, 95]])"
            ]
          },
          "execution_count": 105,
          "metadata": {},
          "output_type": "execute_result"
        }
      ],
      "source": [
        "a2"
      ]
    },
    {
      "cell_type": "code",
      "execution_count": null,
      "id": "f60c10fd-bde0-40ac-92d6-ed10dca44e7a",
      "metadata": {
        "id": "f60c10fd-bde0-40ac-92d6-ed10dca44e7a",
        "outputId": "6a3f49ad-bfe9-441c-e4ff-2505db153c60"
      },
      "outputs": [
        {
          "data": {
            "text/plain": [
              "array([ 4, 80])"
            ]
          },
          "execution_count": 104,
          "metadata": {},
          "output_type": "execute_result"
        }
      ],
      "source": [
        "a2[[0, 2], [0, 1]]  # ([첫번째 행, 두번째 행], [첫번째 열, 두번째 열])"
      ]
    },
    {
      "cell_type": "code",
      "execution_count": null,
      "id": "9d8ee995-740e-459b-99ff-8683f08d8b48",
      "metadata": {
        "id": "9d8ee995-740e-459b-99ff-8683f08d8b48",
        "outputId": "a21c67e8-6395-40d0-f244-07562c1f89c7"
      },
      "outputs": [
        {
          "data": {
            "text/plain": [
              "(4, 80)"
            ]
          },
          "execution_count": 108,
          "metadata": {},
          "output_type": "execute_result"
        }
      ],
      "source": [
        "a2[0, 0] , a2[2, 1]  # 위 코드 값의 의미"
      ]
    },
    {
      "cell_type": "code",
      "execution_count": null,
      "id": "19300e61-26aa-4698-a5de-99f796d55663",
      "metadata": {
        "id": "19300e61-26aa-4698-a5de-99f796d55663",
        "outputId": "7b4c8c7b-9fb4-452d-d524-0838710bf95f"
      },
      "outputs": [
        {
          "data": {
            "text/plain": [
              "(6, 5)"
            ]
          },
          "execution_count": 107,
          "metadata": {},
          "output_type": "execute_result"
        }
      ],
      "source": [
        "a2[0, 2], a2[0, 1]"
      ]
    },
    {
      "cell_type": "markdown",
      "id": "53d0f153-de3a-45e9-b7f0-b9859af31eeb",
      "metadata": {
        "id": "53d0f153-de3a-45e9-b7f0-b9859af31eeb"
      },
      "source": [
        "## 배열 조건문\n",
        "- pandas 문법과 유사하다"
      ]
    },
    {
      "cell_type": "code",
      "execution_count": null,
      "id": "9866df40-8095-4695-950b-a8eef8e92b27",
      "metadata": {
        "id": "9866df40-8095-4695-950b-a8eef8e92b27",
        "outputId": "8135884d-e4eb-4c61-d3a1-290c0ac7c4f9"
      },
      "outputs": [
        {
          "data": {
            "text/plain": [
              "array([1, 2, 3, 4, 5, 6])"
            ]
          },
          "execution_count": 110,
          "metadata": {},
          "output_type": "execute_result"
        }
      ],
      "source": [
        "a = np.array([1, 2, 3, 4, 5, 6])\n",
        "a"
      ]
    },
    {
      "cell_type": "code",
      "execution_count": null,
      "id": "00095800-067c-40a3-bb57-e57def4a405f",
      "metadata": {
        "id": "00095800-067c-40a3-bb57-e57def4a405f",
        "outputId": "5883c619-5194-433b-bf8e-91098201d93e"
      },
      "outputs": [
        {
          "data": {
            "text/plain": [
              "[array([False, False, False,  True,  True,  True])]"
            ]
          },
          "execution_count": 112,
          "metadata": {},
          "output_type": "execute_result"
        }
      ],
      "source": [
        "[a>3]"
      ]
    },
    {
      "cell_type": "code",
      "execution_count": null,
      "id": "42450b32-d82f-417f-b6d6-f6b85315f6ce",
      "metadata": {
        "id": "42450b32-d82f-417f-b6d6-f6b85315f6ce",
        "outputId": "91bd02e2-285d-4d18-f301-a77c293a6f51"
      },
      "outputs": [
        {
          "data": {
            "text/plain": [
              "array([4, 5, 6])"
            ]
          },
          "execution_count": 111,
          "metadata": {},
          "output_type": "execute_result"
        }
      ],
      "source": [
        "a[a>3]"
      ]
    },
    {
      "cell_type": "code",
      "execution_count": null,
      "id": "bc721b00-b7f4-483d-b8bd-ec0a27d47241",
      "metadata": {
        "id": "bc721b00-b7f4-483d-b8bd-ec0a27d47241",
        "outputId": "578c4144-1a56-4399-8ad1-fe50e5ae8b08"
      },
      "outputs": [
        {
          "data": {
            "text/plain": [
              "array([False,  True, False,  True, False,  True])"
            ]
          },
          "execution_count": 113,
          "metadata": {},
          "output_type": "execute_result"
        }
      ],
      "source": [
        "a % 2 == 0  # 실무에서는 이런 코드를 작성하는 것이 핵심 !!!"
      ]
    },
    {
      "cell_type": "markdown",
      "id": "c69ca370-a06e-4c0c-8514-a362002fa2f4",
      "metadata": {
        "id": "c69ca370-a06e-4c0c-8514-a362002fa2f4"
      },
      "source": [
        "## 배열의 슬라이싱(p.234)"
      ]
    },
    {
      "cell_type": "code",
      "execution_count": null,
      "id": "23f9ae37-98bf-46ce-803f-da825bec0498",
      "metadata": {
        "id": "23f9ae37-98bf-46ce-803f-da825bec0498",
        "outputId": "fa2e1bb8-2052-469a-cb15-7366ded97863"
      },
      "outputs": [
        {
          "data": {
            "text/plain": [
              "array([1, 2, 3])"
            ]
          },
          "execution_count": 115,
          "metadata": {},
          "output_type": "execute_result"
        }
      ],
      "source": [
        "b1 = np.array([0, 1, 2, 3, 4, 5])\n",
        "b1[1:4]"
      ]
    },
    {
      "cell_type": "code",
      "execution_count": null,
      "id": "79d36caa-a7cf-4ab5-bf70-69fc198fd17b",
      "metadata": {
        "id": "79d36caa-a7cf-4ab5-bf70-69fc198fd17b",
        "outputId": "7a35b2cc-d5fb-4685-976d-41a7abd2a04f"
      },
      "outputs": [
        {
          "data": {
            "text/plain": [
              "array([0, 1, 2])"
            ]
          },
          "execution_count": 116,
          "metadata": {},
          "output_type": "execute_result"
        }
      ],
      "source": [
        "b1[:3]"
      ]
    },
    {
      "cell_type": "code",
      "execution_count": null,
      "id": "5bc8dc32-7487-45b0-a125-81a47730cd80",
      "metadata": {
        "id": "5bc8dc32-7487-45b0-a125-81a47730cd80",
        "outputId": "88799c1b-c3bf-49ac-94e3-9ee25b319cc5"
      },
      "outputs": [
        {
          "data": {
            "text/plain": [
              "array([2, 3, 4, 5])"
            ]
          },
          "execution_count": 117,
          "metadata": {},
          "output_type": "execute_result"
        }
      ],
      "source": [
        "b1[2:]"
      ]
    },
    {
      "cell_type": "code",
      "execution_count": null,
      "id": "0e97a8cb-0caa-423e-ab97-8488561bf8c3",
      "metadata": {
        "id": "0e97a8cb-0caa-423e-ab97-8488561bf8c3",
        "outputId": "0fda5101-3194-4281-96ec-f3daf4ddf353"
      },
      "outputs": [
        {
          "data": {
            "text/plain": [
              "array([0, 2])"
            ]
          },
          "execution_count": 118,
          "metadata": {},
          "output_type": "execute_result"
        }
      ],
      "source": [
        "b1[0:4:2]"
      ]
    },
    {
      "cell_type": "code",
      "execution_count": null,
      "id": "3a474480-7e92-46d6-8e7a-08d06992638e",
      "metadata": {
        "id": "3a474480-7e92-46d6-8e7a-08d06992638e",
        "outputId": "783069e4-307d-47c3-a74d-4a79744f4ca3"
      },
      "outputs": [
        {
          "data": {
            "text/plain": [
              "array([ 0,  1, 25, 35, 45,  5])"
            ]
          },
          "execution_count": 119,
          "metadata": {},
          "output_type": "execute_result"
        }
      ],
      "source": [
        "b1[2:5] = np.array([25, 35, 45])  # 시작위치2 부터 끝위치 4(5-1)까지 원소값 변경\n",
        "b1"
      ]
    },
    {
      "cell_type": "code",
      "execution_count": null,
      "id": "bd24b6a7-9a09-4493-8c88-05b0216ab279",
      "metadata": {
        "id": "bd24b6a7-9a09-4493-8c88-05b0216ab279",
        "outputId": "08cb9746-aa46-4445-b847-4ce43464d494"
      },
      "outputs": [
        {
          "data": {
            "text/plain": [
              "array([ 0,  1, 25, 60, 60, 60])"
            ]
          },
          "execution_count": 120,
          "metadata": {},
          "output_type": "execute_result"
        }
      ],
      "source": [
        "b1[3:6] = 60\n",
        "b1"
      ]
    },
    {
      "cell_type": "code",
      "execution_count": null,
      "id": "fc5807b3-1d88-42ec-840e-310fdba6a3be",
      "metadata": {
        "id": "fc5807b3-1d88-42ec-840e-310fdba6a3be",
        "outputId": "4ab6dc9a-24b0-445e-ea05-03ecebe7d85f"
      },
      "outputs": [
        {
          "data": {
            "text/plain": [
              "array([[10, 20, 30],\n",
              "       [40, 50, 60],\n",
              "       [70, 80, 90]])"
            ]
          },
          "execution_count": 121,
          "metadata": {},
          "output_type": "execute_result"
        }
      ],
      "source": [
        "b2 = np.arange(10, 100, 10).reshape(3, 3)\n",
        "b2"
      ]
    },
    {
      "cell_type": "code",
      "execution_count": null,
      "id": "12e0451b-76d7-43bb-8c12-069430b69d7f",
      "metadata": {
        "id": "12e0451b-76d7-43bb-8c12-069430b69d7f",
        "outputId": "63387fca-f804-4dac-a8ff-9415e1a4d062"
      },
      "outputs": [
        {
          "data": {
            "text/plain": [
              "array([[50, 60],\n",
              "       [80, 90]])"
            ]
          },
          "execution_count": 122,
          "metadata": {},
          "output_type": "execute_result"
        }
      ],
      "source": [
        "b2[1:3, 1:3]  #[행 시작위치:행 끝위치(3-1) : 열 시작위치: 열 끝위치(3-1)]"
      ]
    },
    {
      "cell_type": "code",
      "execution_count": null,
      "id": "c13a0a00-0072-430c-b58e-d71c282f61f7",
      "metadata": {
        "id": "c13a0a00-0072-430c-b58e-d71c282f61f7",
        "outputId": "48f823af-d7c1-4f86-b893-ce4d56b2a076"
      },
      "outputs": [
        {
          "data": {
            "text/plain": [
              "array([[50, 60],\n",
              "       [80, 90]])"
            ]
          },
          "execution_count": 123,
          "metadata": {},
          "output_type": "execute_result"
        }
      ],
      "source": [
        "b2[1:, 1:]"
      ]
    },
    {
      "cell_type": "code",
      "execution_count": null,
      "id": "37429364-7fb8-4e0b-8051-d737ac5f168a",
      "metadata": {
        "id": "37429364-7fb8-4e0b-8051-d737ac5f168a",
        "outputId": "e6a2a3de-3185-431a-b9fd-90319bdebc65"
      },
      "outputs": [
        {
          "data": {
            "text/plain": [
              "'a'"
            ]
          },
          "execution_count": 124,
          "metadata": {},
          "output_type": "execute_result"
        }
      ],
      "source": [
        "nums = [1, 2, 3, ['a', 'b']]\n",
        "nums[3][0]"
      ]
    },
    {
      "cell_type": "code",
      "execution_count": null,
      "id": "5429a6ff-d12a-474d-9e0a-6cb2386b0ba8",
      "metadata": {
        "id": "5429a6ff-d12a-474d-9e0a-6cb2386b0ba8",
        "outputId": "425e093b-2fcf-4a8d-d6bf-030bf240ddbb"
      },
      "outputs": [
        {
          "data": {
            "text/plain": [
              "array([50, 60])"
            ]
          },
          "execution_count": 125,
          "metadata": {},
          "output_type": "execute_result"
        }
      ],
      "source": [
        "b2[1][1:3]  # [행][열 슬라이싱]"
      ]
    },
    {
      "cell_type": "markdown",
      "id": "63bf6222-d3f5-4045-a2eb-b84e77d4ee9d",
      "metadata": {
        "id": "63bf6222-d3f5-4045-a2eb-b84e77d4ee9d"
      },
      "source": [
        "## NumPy 조건문\n",
        "- np.where : 단일 조건문\n",
        "- np.select : 다중 조건문"
      ]
    },
    {
      "cell_type": "code",
      "execution_count": null,
      "id": "f1f9d78f-6660-444f-863a-55ac7548ff48",
      "metadata": {
        "id": "f1f9d78f-6660-444f-863a-55ac7548ff48",
        "outputId": "8f99d9f6-cb5d-4069-ee11-f2ffddfbcf6e"
      },
      "outputs": [
        {
          "data": {
            "text/plain": [
              "array([0, 1, 2, 3, 4, 5, 6, 7, 8, 9])"
            ]
          },
          "execution_count": 126,
          "metadata": {},
          "output_type": "execute_result"
        }
      ],
      "source": [
        "arr = np.arange(10)\n",
        "arr"
      ]
    },
    {
      "cell_type": "code",
      "execution_count": null,
      "id": "c4a7396d-8ec2-4b7e-8148-16e7b61d25e2",
      "metadata": {
        "id": "c4a7396d-8ec2-4b7e-8148-16e7b61d25e2",
        "outputId": "6a54b355-ee82-4462-82ca-815419a9b4e2"
      },
      "outputs": [
        {
          "data": {
            "text/plain": [
              "array([ 0,  1,  2,  3,  4, 50, 60, 70, 80, 90])"
            ]
          },
          "execution_count": 127,
          "metadata": {},
          "output_type": "execute_result"
        }
      ],
      "source": [
        "# 0, 1, 2, 3, 4, 50, 60, 70, 80, 90\n",
        "np.where(arr < 5, arr, arr * 10)  # 조건문이 하나일 때는 이렇게"
      ]
    },
    {
      "cell_type": "code",
      "execution_count": null,
      "id": "0199c17c-f589-4730-8411-2aaf13e720c1",
      "metadata": {
        "id": "0199c17c-f589-4730-8411-2aaf13e720c1",
        "outputId": "4b0436a0-7440-4e99-dd88-57befa6ca045"
      },
      "outputs": [
        {
          "data": {
            "text/plain": [
              "array([0, 1, 2, 3, 4, 5, 6, 7, 8, 9])"
            ]
          },
          "execution_count": 128,
          "metadata": {},
          "output_type": "execute_result"
        }
      ],
      "source": [
        "arr = np.arange(10)\n",
        "arr"
      ]
    },
    {
      "cell_type": "code",
      "execution_count": null,
      "id": "e3cd5bcb-efdf-4974-9744-95939ce5f19a",
      "metadata": {
        "id": "e3cd5bcb-efdf-4974-9744-95939ce5f19a",
        "outputId": "7a1f94b4-92ac-4ecf-a6ec-2a9184bd9323"
      },
      "outputs": [
        {
          "data": {
            "text/plain": [
              "array([100, 101,   2,   3,   4,   5,  12,  14,  16,  18])"
            ]
          },
          "execution_count": 129,
          "metadata": {},
          "output_type": "execute_result"
        }
      ],
      "source": [
        "# 100, 101, 2, 3, 4, 5, 12, 14, 16, 18\n",
        "# 2 미만일 때는 100을 더해라\n",
        "# 5 초과일 때는 곱하기 2를 해줘라\n",
        "\n",
        "# 조건식과 대응되는 결과를 리스트로 만들기\n",
        "cond_list = [arr > 5, arr < 2]\n",
        "choice_list = [arr * 2, arr + 100]\n",
        "\n",
        "np.select(cond_list, choice_list, default = arr)"
      ]
    }
  ],
  "metadata": {
    "kernelspec": {
      "display_name": "Python 3 (ipykernel)",
      "language": "python",
      "name": "python3"
    },
    "language_info": {
      "codemirror_mode": {
        "name": "ipython",
        "version": 3
      },
      "file_extension": ".py",
      "mimetype": "text/x-python",
      "name": "python",
      "nbconvert_exporter": "python",
      "pygments_lexer": "ipython3",
      "version": "3.12.1"
    },
    "colab": {
      "provenance": [],
      "toc_visible": true,
      "include_colab_link": true
    }
  },
  "nbformat": 4,
  "nbformat_minor": 5
}