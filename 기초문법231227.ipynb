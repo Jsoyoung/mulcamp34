{
  "nbformat": 4,
  "nbformat_minor": 0,
  "metadata": {
    "colab": {
      "provenance": [],
      "toc_visible": true,
      "authorship_tag": "ABX9TyNLQ66Z/TUB1Yga7kwdfxX3",
      "include_colab_link": true
    },
    "kernelspec": {
      "name": "python3",
      "display_name": "Python 3"
    },
    "language_info": {
      "name": "python"
    }
  },
  "cells": [
    {
      "cell_type": "markdown",
      "metadata": {
        "id": "view-in-github",
        "colab_type": "text"
      },
      "source": [
        "<a href=\"https://colab.research.google.com/github/Jsoyoung/mulcamp34/blob/main/%EA%B8%B0%EC%B4%88%EB%AC%B8%EB%B2%95231227.ipynb\" target=\"_parent\"><img src=\"https://colab.research.google.com/assets/colab-badge.svg\" alt=\"Open In Colab\"/></a>"
      ]
    },
    {
      "cell_type": "markdown",
      "source": [
        "# Chapter 3. 파이썬을 계산기처럼\n",
        "\n",
        "- 파이썬의 장점 : 범용성\n",
        "- 데이터 분석, 간단한 프로그램, 앱개발, 보안관련, 게임개발 가능\n",
        "- 기업에서 머신러닝, 딥러닝을 요구하기 시작하면서 뜸"
      ],
      "metadata": {
        "id": "yv4RPSiZopZi"
      }
    },
    {
      "cell_type": "markdown",
      "source": [
        "## 진로 관련 팁\n",
        "- 데이터 분석가 : 기본언어 Python, 현업(의료기관은 R 수요 높음, 통계)\n",
        "- 개발자 : 기본언어 Python, 이 과정 수료 후 장기적으로는 React, Java"
      ],
      "metadata": {
        "id": "PzzbXmtqqi8s"
      }
    },
    {
      "cell_type": "markdown",
      "source": [
        "## 사칙연산"
      ],
      "metadata": {
        "id": "FVXe6bc1rR-h"
      }
    },
    {
      "cell_type": "code",
      "source": [
        "1+1 # 정수"
      ],
      "metadata": {
        "colab": {
          "base_uri": "https://localhost:8080/"
        },
        "id": "J6r4kDWHrU2u",
        "outputId": "ad20c98c-a651-4223-d316-4f89863246c3"
      },
      "execution_count": null,
      "outputs": [
        {
          "output_type": "execute_result",
          "data": {
            "text/plain": [
              "2"
            ]
          },
          "metadata": {},
          "execution_count": 1
        }
      ]
    },
    {
      "cell_type": "code",
      "source": [
        "5-2 # 정수 연산 결과값은 정수로 반환"
      ],
      "metadata": {
        "colab": {
          "base_uri": "https://localhost:8080/"
        },
        "id": "arU6n8mfrWRo",
        "outputId": "8c40089d-130e-494b-e444-eeb8d5626cc9"
      },
      "execution_count": null,
      "outputs": [
        {
          "output_type": "execute_result",
          "data": {
            "text/plain": [
              "3"
            ]
          },
          "metadata": {},
          "execution_count": 2
        }
      ]
    },
    {
      "cell_type": "code",
      "source": [
        "5  -2"
      ],
      "metadata": {
        "colab": {
          "base_uri": "https://localhost:8080/"
        },
        "id": "y-SQ-_YtraKJ",
        "outputId": "63fa5417-4909-4b81-a432-739f4f92b211"
      },
      "execution_count": null,
      "outputs": [
        {
          "output_type": "execute_result",
          "data": {
            "text/plain": [
              "3"
            ]
          },
          "metadata": {},
          "execution_count": 3
        }
      ]
    },
    {
      "cell_type": "code",
      "source": [
        "15*2"
      ],
      "metadata": {
        "colab": {
          "base_uri": "https://localhost:8080/"
        },
        "id": "22x8nCx0rfIc",
        "outputId": "305aa1b6-b374-4365-dc04-c7ac4236d204"
      },
      "execution_count": null,
      "outputs": [
        {
          "output_type": "execute_result",
          "data": {
            "text/plain": [
              "30"
            ]
          },
          "metadata": {},
          "execution_count": 4
        }
      ]
    },
    {
      "cell_type": "code",
      "source": [
        "# 나눗셈\n",
        "# Python 3.x 버전은 실수로 처리\n",
        "# Python 2.x 버전은 정수로 처리\n",
        "10/2 # 정수 / 정수 > 반환값은 실수형으로 반환"
      ],
      "metadata": {
        "colab": {
          "base_uri": "https://localhost:8080/"
        },
        "id": "9fZ5kFZBrlR8",
        "outputId": "a981ba98-e7c0-440a-cf4a-0c3ceeb63f6f"
      },
      "execution_count": null,
      "outputs": [
        {
          "output_type": "execute_result",
          "data": {
            "text/plain": [
              "5.0"
            ]
          },
          "metadata": {},
          "execution_count": 6
        }
      ]
    },
    {
      "cell_type": "markdown",
      "source": [
        "- 실수연산"
      ],
      "metadata": {
        "id": "X82MeCMcsNhi"
      }
    },
    {
      "cell_type": "code",
      "source": [
        "print(1.2 + 5.2) # 덧셈\n",
        "print(5.4 - 2.2) # 뺄셈\n",
        "print(4.3 * 2.2) # 곱셈\n",
        "print(3.4 / 1.7) # 나눗셈\n",
        "# 최종결과 확인할 때 웬만하면 print 사용하기\n",
        "# 웹개발, IDE 환경에서 코드 작성 시, print() 필수이기 때문"
      ],
      "metadata": {
        "colab": {
          "base_uri": "https://localhost:8080/"
        },
        "id": "4bMwCrMNsR1t",
        "outputId": "d1bc86ea-d3ba-4e75-8ccd-222208d7200e"
      },
      "execution_count": null,
      "outputs": [
        {
          "output_type": "stream",
          "name": "stdout",
          "text": [
            "6.4\n",
            "3.2\n",
            "9.46\n",
            "2.0\n"
          ]
        }
      ]
    },
    {
      "cell_type": "markdown",
      "source": [
        "### 연산규칙\n",
        "- (1) 괄호안 계산\n",
        "- (2) 지수 계산\n",
        "- (3) 곱셈과 나눗셈 계산\n",
        "- (4) 덧셈과 뺄셈 계산\n",
        "- (5) 같은 순위 연산이면, 왼쪽에서 오른쪽으로\n",
        "- (6) 중복된 괄호가 있을 경우, 안쪽에서부터 처리"
      ],
      "metadata": {
        "id": "4D4cTy3OtV-Y"
      }
    },
    {
      "cell_type": "code",
      "source": [
        "print(2+3*4)"
      ],
      "metadata": {
        "colab": {
          "base_uri": "https://localhost:8080/"
        },
        "id": "sY1DUxMit23W",
        "outputId": "f231b066-b52f-4da3-f973-d0c7186dd3eb"
      },
      "execution_count": null,
      "outputs": [
        {
          "output_type": "stream",
          "name": "stdout",
          "text": [
            "14\n"
          ]
        }
      ]
    },
    {
      "cell_type": "code",
      "source": [
        "print(3/2*4-5/2)"
      ],
      "metadata": {
        "colab": {
          "base_uri": "https://localhost:8080/"
        },
        "id": "IwhbhQMzuARR",
        "outputId": "7a06561e-358a-433b-8363-e0c9c4517850"
      },
      "execution_count": null,
      "outputs": [
        {
          "output_type": "stream",
          "name": "stdout",
          "text": [
            "3.5\n"
          ]
        }
      ]
    },
    {
      "cell_type": "code",
      "source": [
        "print((5*4-15)+((5-2)*(9-7)))"
      ],
      "metadata": {
        "colab": {
          "base_uri": "https://localhost:8080/"
        },
        "id": "wLpcnZPEuRp8",
        "outputId": "5ad1ad6f-f3e8-4f56-df9f-ca849b5fb69d"
      },
      "execution_count": null,
      "outputs": [
        {
          "output_type": "stream",
          "name": "stdout",
          "text": [
            "11\n"
          ]
        }
      ]
    },
    {
      "cell_type": "markdown",
      "source": [
        "## type()\n",
        "- 함수 : 특정 기능을 수행하도록 만든 매직박스\n",
        "  + 특정함수를 조건만 맞춰주면 동작\n",
        "  "
      ],
      "metadata": {
        "id": "7uhvsREauyJ-"
      }
    },
    {
      "cell_type": "markdown",
      "source": [
        "함수의 종류\n",
        "- 내장(built-in) 함수 : 파이썬 설치와 함께 제공하는 기본적인 함수\n",
        "  + print(), type()\n",
        "  + 종류가 몇 개인가요? (몰라요,,)\n",
        "  + Documentation : 함수를 설명해주는 문서 보는 법 익힐 것 (다 영어임)\n",
        "\n",
        "- 라이브러리에서 제공하는 함수\n",
        "  + R : 패키지, Python : 라이브러리\n",
        "  + 목적이 분명\n",
        "   - 웹사이트 개발 : 웹사이트와 관련된 라이브러리를 별도 설치 필요\n",
        "   - 통계분석 : 통계분석과 관련된 라이브러리를 별도 설치 필요\n",
        "   - 시각화 : 시각화와 관련된 라이브러리 설치\n",
        "   - 게임개발 : 게임개발과 관련된 라이브러리 설치\n",
        "   - 수치연산 주요 라이브러리 : numpy, scipy"
      ],
      "metadata": {
        "id": "YFh3fYQdzqrZ"
      }
    },
    {
      "cell_type": "code",
      "source": [
        "# 파이썬에서는 정수를 어떻게 표현할까?\n",
        "# 파이썬에서는 실수를 어떻게 표현할까?\n",
        "print(type(3))"
      ],
      "metadata": {
        "colab": {
          "base_uri": "https://localhost:8080/"
        },
        "id": "vW09Vkzpuokp",
        "outputId": "8934cfc8-c1bc-4260-b1b9-37aaa883c9ac"
      },
      "execution_count": null,
      "outputs": [
        {
          "output_type": "stream",
          "name": "stdout",
          "text": [
            "<class 'int'>\n"
          ]
        }
      ]
    },
    {
      "cell_type": "code",
      "source": [
        "print(type(3.5))"
      ],
      "metadata": {
        "colab": {
          "base_uri": "https://localhost:8080/"
        },
        "id": "0zDLMIz1u3mf",
        "outputId": "21086b3d-f639-43de-ffc3-cdec41f97e04"
      },
      "execution_count": null,
      "outputs": [
        {
          "output_type": "stream",
          "name": "stdout",
          "text": [
            "<class 'float'>\n"
          ]
        }
      ]
    },
    {
      "cell_type": "markdown",
      "source": [
        "- class는 파이썬 객체지향 언어임"
      ],
      "metadata": {
        "id": "ZamNasrT1ymV"
      }
    },
    {
      "cell_type": "markdown",
      "source": [
        "## 거듭제곱과 나머지\n",
        "- 숫자 A를 n번 곱하는 거듭제곱(Power)\n",
        "  + A는 밑, n을 지수라고 표현"
      ],
      "metadata": {
        "id": "LQGIAAJu2C2a"
      }
    },
    {
      "cell_type": "code",
      "source": [
        "2*2*2*2*2"
      ],
      "metadata": {
        "colab": {
          "base_uri": "https://localhost:8080/"
        },
        "id": "a58xzZRG2WLq",
        "outputId": "74c29e83-726f-4af6-8ded-1848fd3f3816"
      },
      "execution_count": null,
      "outputs": [
        {
          "output_type": "execute_result",
          "data": {
            "text/plain": [
              "32"
            ]
          },
          "metadata": {},
          "execution_count": 24
        }
      ]
    },
    {
      "cell_type": "code",
      "source": [
        "2 ** 5  # 거듭제곱"
      ],
      "metadata": {
        "colab": {
          "base_uri": "https://localhost:8080/"
        },
        "id": "wf4KuDxq2cM7",
        "outputId": "9fdd87d4-6686-45f0-de60-adcb516e9521"
      },
      "execution_count": null,
      "outputs": [
        {
          "output_type": "execute_result",
          "data": {
            "text/plain": [
              "32"
            ]
          },
          "metadata": {},
          "execution_count": 25
        }
      ]
    },
    {
      "cell_type": "markdown",
      "source": [
        "- 나머지 구하는 방법"
      ],
      "metadata": {
        "id": "jPQ5GD9L2o4f"
      }
    },
    {
      "cell_type": "code",
      "source": [
        "13 % 5 # 나머지"
      ],
      "metadata": {
        "colab": {
          "base_uri": "https://localhost:8080/"
        },
        "id": "OffVjnZJ2fwx",
        "outputId": "24ccb3aa-d4f4-4f95-f272-e488afd196b3"
      },
      "execution_count": null,
      "outputs": [
        {
          "output_type": "execute_result",
          "data": {
            "text/plain": [
              "3"
            ]
          },
          "metadata": {},
          "execution_count": 26
        }
      ]
    },
    {
      "cell_type": "code",
      "source": [
        "# 몫을 구하고 싶음\n",
        "13 // 5"
      ],
      "metadata": {
        "colab": {
          "base_uri": "https://localhost:8080/"
        },
        "id": "ifXefknY2wYR",
        "outputId": "3dd4508b-edf2-4b20-e4dc-be7e1c6c68c8"
      },
      "execution_count": null,
      "outputs": [
        {
          "output_type": "execute_result",
          "data": {
            "text/plain": [
              "2"
            ]
          },
          "metadata": {},
          "execution_count": 28
        }
      ]
    },
    {
      "cell_type": "markdown",
      "source": [
        "- 교재 표 3-1(p34) 산술연산자 표 정리"
      ],
      "metadata": {
        "id": "xF0FpR4m2-GU"
      }
    },
    {
      "cell_type": "markdown",
      "source": [
        "## 과학적 표기법(scientific notation)\n",
        "- 아주 큰 수, 작은 수를 다뤄야 하는 케이스\n",
        "  + 빛은 초당 30만 km\n",
        "  + 단위를 m/s 표현하면, 300,000,000m/s\n",
        "  + 3x10^8"
      ],
      "metadata": {
        "id": "OX-0qH_X3erj"
      }
    },
    {
      "cell_type": "code",
      "source": [
        "3*10**8"
      ],
      "metadata": {
        "colab": {
          "base_uri": "https://localhost:8080/"
        },
        "id": "yYPImRU74NYE",
        "outputId": "aed9a2fb-eb1a-4dd8-f044-061335b3bcc6"
      },
      "execution_count": null,
      "outputs": [
        {
          "output_type": "execute_result",
          "data": {
            "text/plain": [
              "300000000"
            ]
          },
          "metadata": {},
          "execution_count": 29
        }
      ]
    },
    {
      "cell_type": "code",
      "source": [
        "3e8  # 과학적 표기법 / e에 숫자 붙으면 그만큼 0이 붙는 것"
      ],
      "metadata": {
        "colab": {
          "base_uri": "https://localhost:8080/"
        },
        "id": "xNlLNgHp4P_E",
        "outputId": "42ee4db1-e849-4048-e191-22aad56e78d7"
      },
      "execution_count": null,
      "outputs": [
        {
          "output_type": "execute_result",
          "data": {
            "text/plain": [
              "300000000.0"
            ]
          },
          "metadata": {},
          "execution_count": 30
        }
      ]
    },
    {
      "cell_type": "code",
      "source": [
        "3e-4  # e에 마이너스 붙으면 소수점 자리 개수 말하는 것"
      ],
      "metadata": {
        "colab": {
          "base_uri": "https://localhost:8080/"
        },
        "id": "A3zY48kL4R3R",
        "outputId": "13a147eb-bea0-4652-b366-daefd786a869"
      },
      "execution_count": null,
      "outputs": [
        {
          "output_type": "execute_result",
          "data": {
            "text/plain": [
              "0.0003"
            ]
          },
          "metadata": {},
          "execution_count": 31
        }
      ]
    },
    {
      "cell_type": "code",
      "source": [
        "1e-4"
      ],
      "metadata": {
        "colab": {
          "base_uri": "https://localhost:8080/"
        },
        "id": "ixt849Lf4vgD",
        "outputId": "e8adcc9e-b94c-4784-a5f9-9d59fe5376b6"
      },
      "execution_count": null,
      "outputs": [
        {
          "output_type": "execute_result",
          "data": {
            "text/plain": [
              "0.0001"
            ]
          },
          "metadata": {},
          "execution_count": 32
        }
      ]
    },
    {
      "cell_type": "markdown",
      "source": [
        "## 진수 표현과 변환\n",
        "- 우리는 일상생활에서는 10진법\n",
        "- 60진법 : 60초가 1분이고, 60분이 1시간\n",
        "- 12진법 : 오전 12시간, 오후 12시간, 1년 12달\n",
        "- 컴퓨터 프로그래밍, 숫자 0과 1로 이루어진 2진법 수행\n",
        "- 8진법 : 0~7까지의 숫자\n",
        "- 16진법 : 0~9, a,b,c,d,e,f\n",
        "- 메서드\n",
        "  + bin() : 10진수를 2진수로\n",
        "  + oct() : 10진수를 8진수로\n",
        "  + hex() : 10진수를 16진수로"
      ],
      "metadata": {
        "id": "lN7jB5bx5Wko"
      }
    },
    {
      "cell_type": "code",
      "source": [
        "17 # 10진법"
      ],
      "metadata": {
        "colab": {
          "base_uri": "https://localhost:8080/"
        },
        "id": "nT6OxLJ26Nuv",
        "outputId": "465f4bc6-5d27-42f7-c93d-930902515275"
      },
      "execution_count": null,
      "outputs": [
        {
          "output_type": "execute_result",
          "data": {
            "text/plain": [
              "17"
            ]
          },
          "metadata": {},
          "execution_count": 33
        }
      ]
    },
    {
      "cell_type": "code",
      "source": [
        "0b10001 # 2진법"
      ],
      "metadata": {
        "colab": {
          "base_uri": "https://localhost:8080/"
        },
        "id": "cdxozOG26QgB",
        "outputId": "73ee5222-80bd-40bd-bf70-d69a1b27c160"
      },
      "execution_count": null,
      "outputs": [
        {
          "output_type": "execute_result",
          "data": {
            "text/plain": [
              "17"
            ]
          },
          "metadata": {},
          "execution_count": 34
        }
      ]
    },
    {
      "cell_type": "code",
      "source": [
        "0o21 # 8진법"
      ],
      "metadata": {
        "colab": {
          "base_uri": "https://localhost:8080/"
        },
        "id": "joWLwgGZ4wx_",
        "outputId": "6e4f26e1-6956-4192-dc7b-a606d06b0d51"
      },
      "execution_count": null,
      "outputs": [
        {
          "output_type": "execute_result",
          "data": {
            "text/plain": [
              "17"
            ]
          },
          "metadata": {},
          "execution_count": 35
        }
      ]
    },
    {
      "cell_type": "code",
      "source": [
        "0x11 # 16진법"
      ],
      "metadata": {
        "colab": {
          "base_uri": "https://localhost:8080/"
        },
        "id": "bJE-s8es6kgX",
        "outputId": "2b23746d-7fa6-40d6-e433-38d0930da08c"
      },
      "execution_count": null,
      "outputs": [
        {
          "output_type": "execute_result",
          "data": {
            "text/plain": [
              "17"
            ]
          },
          "metadata": {},
          "execution_count": 36
        }
      ]
    },
    {
      "cell_type": "markdown",
      "source": [
        "## 논리 연산 및 비교 연산 ( 매우 중요 )\n",
        "- 참/거짓\n",
        "- 논리 연산을 잘 활용하는 것이 프로그래밍의 핵심"
      ],
      "metadata": {
        "id": "o4aMp6wU7IoX"
      }
    },
    {
      "cell_type": "code",
      "source": [
        "print(True)"
      ],
      "metadata": {
        "colab": {
          "base_uri": "https://localhost:8080/"
        },
        "id": "hYDaWvNn73zS",
        "outputId": "7c6073b3-f503-49b1-b9bf-1e62bdb1623c"
      },
      "execution_count": null,
      "outputs": [
        {
          "output_type": "stream",
          "name": "stdout",
          "text": [
            "True\n"
          ]
        }
      ]
    },
    {
      "cell_type": "code",
      "source": [
        "print(False)"
      ],
      "metadata": {
        "colab": {
          "base_uri": "https://localhost:8080/"
        },
        "id": "qDpEO-EC76PP",
        "outputId": "1037a59d-36f5-4cca-cba5-1e8e342db41c"
      },
      "execution_count": null,
      "outputs": [
        {
          "output_type": "stream",
          "name": "stdout",
          "text": [
            "False\n"
          ]
        }
      ]
    },
    {
      "cell_type": "code",
      "source": [
        "print(type(True))"
      ],
      "metadata": {
        "colab": {
          "base_uri": "https://localhost:8080/"
        },
        "id": "5Go7xbF87_6I",
        "outputId": "95f4f36e-7c71-4054-fb70-4d32bc9a0a2f"
      },
      "execution_count": null,
      "outputs": [
        {
          "output_type": "stream",
          "name": "stdout",
          "text": [
            "<class 'bool'>\n"
          ]
        }
      ]
    },
    {
      "cell_type": "markdown",
      "source": [
        "### 논리 연산자\n",
        "- and : A and B : A와 B 모두 참일때 참\n",
        "\n",
        "- or : A or B : A와 B 중 하나라도 참이면 참, 둘다 거짓일 때 거짓\n",
        "\n",
        "- not : not A : A가 참일 때 거짓, A가 거짓일 때 참"
      ],
      "metadata": {
        "id": "JFwVPoOd8Vdc"
      }
    },
    {
      "cell_type": "code",
      "source": [
        "# 교집합\n",
        "# True 또는 False 결과가 나오도록 조건식을 만들어야 함\n",
        "print(True and True)\n",
        "print(True and False)\n",
        "print(False and True)\n",
        "print(False and False)"
      ],
      "metadata": {
        "colab": {
          "base_uri": "https://localhost:8080/"
        },
        "id": "YnPTXDufBT9b",
        "outputId": "cc82f145-c49e-4a9d-82eb-ce33d764e03c"
      },
      "execution_count": null,
      "outputs": [
        {
          "output_type": "stream",
          "name": "stdout",
          "text": [
            "True\n",
            "False\n",
            "False\n",
            "False\n"
          ]
        }
      ]
    },
    {
      "cell_type": "code",
      "source": [
        "# 합집합\n",
        "print(True or True)\n",
        "print(True or False)\n",
        "print(False or True)\n",
        "print(False or False)"
      ],
      "metadata": {
        "colab": {
          "base_uri": "https://localhost:8080/"
        },
        "id": "riMV8ZAKCGks",
        "outputId": "80a7fdfc-9a77-4c2a-ddc7-33ff5c205019"
      },
      "execution_count": null,
      "outputs": [
        {
          "output_type": "stream",
          "name": "stdout",
          "text": [
            "True\n",
            "True\n",
            "True\n",
            "False\n"
          ]
        }
      ]
    },
    {
      "cell_type": "code",
      "source": [
        "not False"
      ],
      "metadata": {
        "colab": {
          "base_uri": "https://localhost:8080/"
        },
        "id": "Qg8YTFqoCZdW",
        "outputId": "ce49fb1b-be91-4114-9267-56783b6e4200"
      },
      "execution_count": null,
      "outputs": [
        {
          "output_type": "execute_result",
          "data": {
            "text/plain": [
              "True"
            ]
          },
          "metadata": {},
          "execution_count": 49
        }
      ]
    },
    {
      "cell_type": "markdown",
      "source": [
        "### 비교 연산자"
      ],
      "metadata": {
        "id": "tdCaRfqPCeaq"
      }
    },
    {
      "cell_type": "code",
      "source": [
        "# True 또는 False 결과가 나오도록 \"의도적\"으로 조건식을 만들어야 함\n",
        "1 == 2  # a와 b가 같다"
      ],
      "metadata": {
        "colab": {
          "base_uri": "https://localhost:8080/"
        },
        "id": "YceR1AHGCbbP",
        "outputId": "8d71843f-d947-44d8-db28-9f54e0a90629"
      },
      "execution_count": null,
      "outputs": [
        {
          "output_type": "execute_result",
          "data": {
            "text/plain": [
              "False"
            ]
          },
          "metadata": {},
          "execution_count": 50
        }
      ]
    },
    {
      "cell_type": "code",
      "source": [
        "1 != 2  # a와 b는 같지 않다"
      ],
      "metadata": {
        "colab": {
          "base_uri": "https://localhost:8080/"
        },
        "id": "XiBHIPzzDFjY",
        "outputId": "a47d1c69-aee2-45a8-af70-0aaa15fcd773"
      },
      "execution_count": null,
      "outputs": [
        {
          "output_type": "execute_result",
          "data": {
            "text/plain": [
              "True"
            ]
          },
          "metadata": {},
          "execution_count": 52
        }
      ]
    },
    {
      "cell_type": "code",
      "source": [
        "1 <= 2 # a는 b보다 작거나 같다"
      ],
      "metadata": {
        "colab": {
          "base_uri": "https://localhost:8080/"
        },
        "id": "IpHmu5VLDOdn",
        "outputId": "3915ee0f-6c22-4e49-e2fb-29f9e6b26ff4"
      },
      "execution_count": null,
      "outputs": [
        {
          "output_type": "execute_result",
          "data": {
            "text/plain": [
              "True"
            ]
          },
          "metadata": {},
          "execution_count": 53
        }
      ]
    },
    {
      "cell_type": "code",
      "source": [
        "1 < 2 # a가 b보다 작다"
      ],
      "metadata": {
        "colab": {
          "base_uri": "https://localhost:8080/"
        },
        "id": "Pf-FMarqDWfX",
        "outputId": "83ca065d-e47a-4f2e-d1f2-0ab526e262c5"
      },
      "execution_count": null,
      "outputs": [
        {
          "output_type": "execute_result",
          "data": {
            "text/plain": [
              "True"
            ]
          },
          "metadata": {},
          "execution_count": 54
        }
      ]
    },
    {
      "cell_type": "code",
      "source": [
        "1 >= 2 # a가 b보다 크거나 같다"
      ],
      "metadata": {
        "colab": {
          "base_uri": "https://localhost:8080/"
        },
        "id": "Xasrmr2WDa4K",
        "outputId": "456515e3-16b5-4345-f7ea-85f2109376f1"
      },
      "execution_count": null,
      "outputs": [
        {
          "output_type": "execute_result",
          "data": {
            "text/plain": [
              "False"
            ]
          },
          "metadata": {},
          "execution_count": 55
        }
      ]
    },
    {
      "cell_type": "code",
      "source": [
        "1 > 2 # a가 b보다 크다"
      ],
      "metadata": {
        "colab": {
          "base_uri": "https://localhost:8080/"
        },
        "id": "jbyljynCDg81",
        "outputId": "6b89d2f6-6535-4049-e7d0-292f80f9fae0"
      },
      "execution_count": null,
      "outputs": [
        {
          "output_type": "execute_result",
          "data": {
            "text/plain": [
              "False"
            ]
          },
          "metadata": {},
          "execution_count": 56
        }
      ]
    },
    {
      "cell_type": "markdown",
      "source": [
        "### 비교연산자 + 논리연산자"
      ],
      "metadata": {
        "id": "uJmYi96DD8TW"
      }
    },
    {
      "cell_type": "code",
      "source": [
        "1 > 0 and -2 < 0 # 비교연산자(1순위) 논리연산자(2순위)\n",
        "# True and True 여서 결과값 True"
      ],
      "metadata": {
        "colab": {
          "base_uri": "https://localhost:8080/"
        },
        "id": "_pE2rkvADl9Q",
        "outputId": "d20cfe73-8ff8-4831-8a18-c4edf0bfe2f5"
      },
      "execution_count": null,
      "outputs": [
        {
          "output_type": "execute_result",
          "data": {
            "text/plain": [
              "True"
            ]
          },
          "metadata": {},
          "execution_count": 58
        }
      ]
    },
    {
      "cell_type": "code",
      "source": [
        "# 괄호 안이 먼저 연산\n",
        "((3 < 0) and (-5 > 0)) and (1 > 5)"
      ],
      "metadata": {
        "colab": {
          "base_uri": "https://localhost:8080/"
        },
        "id": "HlQK08X9EbZV",
        "outputId": "9bf5b25d-e2cb-4b27-fe2f-aa279a4abd63"
      },
      "execution_count": null,
      "outputs": [
        {
          "output_type": "execute_result",
          "data": {
            "text/plain": [
              "False"
            ]
          },
          "metadata": {},
          "execution_count": 60
        }
      ]
    },
    {
      "cell_type": "markdown",
      "source": [
        "# Chapter 4. 변수와 자료형\n",
        "- 깃허브\n",
        "  - Repo 1: 학습 또는 교육, MulCamp-lectures\n",
        "    + pandas, 시각화, django\n",
        "  - Repo 2: 멀캠 세미 프로젝트\n",
        "  - Repo 3: 00공모전\n",
        "\n",
        "  - 옵션: 자기 소개 Repo\n",
        "    + 링크 추가(Repo2)\n",
        "\n",
        "  ---이렇게는 금지\n",
        "    - mulcamp24_1227\n",
        "    - mulcamp24_1228\n",
        "\n",
        "  --- 1월 3~4일 이후 개별면담 진행"
      ],
      "metadata": {
        "id": "XZM9tPYVeBG9"
      }
    },
    {
      "cell_type": "markdown",
      "source": [
        "## 변수 (p.42)\n"
      ],
      "metadata": {
        "id": "EAx8tv68fD1n"
      }
    },
    {
      "cell_type": "code",
      "source": [
        "# 단순 계산기\n",
        "1+1"
      ],
      "metadata": {
        "colab": {
          "base_uri": "https://localhost:8080/"
        },
        "id": "9Dg8VnsTfKA9",
        "outputId": "519b54c9-076c-4b9c-9428-0651116b8262"
      },
      "execution_count": 61,
      "outputs": [
        {
          "output_type": "execute_result",
          "data": {
            "text/plain": [
              "2"
            ]
          },
          "metadata": {},
          "execution_count": 61
        }
      ]
    },
    {
      "cell_type": "markdown",
      "source": [
        "변수명 = data"
      ],
      "metadata": {
        "id": "jlikomVLfZbr"
      }
    },
    {
      "cell_type": "code",
      "source": [
        "# 변수 : Variable, 데이터\n",
        "a = 100\n",
        "b = 1110"
      ],
      "metadata": {
        "id": "H3REyNB4fPNU"
      },
      "execution_count": 66,
      "outputs": []
    },
    {
      "cell_type": "code",
      "source": [
        "print(a)  # a값을 바꾸었다면 반드시 실행 후 print하기\n",
        "print(b)"
      ],
      "metadata": {
        "colab": {
          "base_uri": "https://localhost:8080/"
        },
        "id": "ObzpN4HVfVS8",
        "outputId": "462cce95-b72a-4279-8985-7b6d990535a2"
      },
      "execution_count": 67,
      "outputs": [
        {
          "output_type": "stream",
          "name": "stdout",
          "text": [
            "100\n",
            "1110\n"
          ]
        }
      ]
    },
    {
      "cell_type": "code",
      "source": [
        "# 런타임 > 이후 셀 실행 : 선택된 셀부터 이후 셀들 모두 실행됨"
      ],
      "metadata": {
        "id": "cJZav6QagCAq"
      },
      "execution_count": 64,
      "outputs": []
    },
    {
      "cell_type": "markdown",
      "source": [
        "### 변수명 짓기 규칙\n",
        "- snake, camel\n"
      ],
      "metadata": {
        "id": "Dq5her2-gzkU"
      }
    },
    {
      "cell_type": "code",
      "source": [
        "# snake\n",
        "num_a = 100\n",
        "num_b = 110\n",
        "\n",
        "# camel\n",
        "myStudent = \"evan\"\n",
        "mySchool = \"학교이름\"\n",
        "\n",
        "# 주의해야할 것\n",
        "# 3star = \"이장군\"  # 앞에 숫자가 오면 안됨\n"
      ],
      "metadata": {
        "id": "80WbKW6yhCgn"
      },
      "execution_count": 71,
      "outputs": []
    },
    {
      "cell_type": "code",
      "source": [
        "print(num_a)"
      ],
      "metadata": {
        "colab": {
          "base_uri": "https://localhost:8080/"
        },
        "id": "G5sT-DSShzfj",
        "outputId": "69c40ba1-6885-4494-d9af-bb39acf7efb8"
      },
      "execution_count": 72,
      "outputs": [
        {
          "output_type": "stream",
          "name": "stdout",
          "text": [
            "100\n"
          ]
        }
      ]
    },
    {
      "cell_type": "code",
      "source": [
        "# print = 100 (금지, 안됨!!)\n",
        "print(num_a) # 내장함수명을 변수명으로 만들면 안됨!(print를 변수명으로 만들어서 오류)\n",
        "# 변수 관련 오류가 났을 때 런타임 > 세션 다시 시작 하면 변수가 초기화되므로 오류 수정 가능"
      ],
      "metadata": {
        "id": "d875aHBah7NK"
      },
      "execution_count": 73,
      "outputs": []
    },
    {
      "cell_type": "code",
      "source": [
        "num = 1\n",
        "Num = 100"
      ],
      "metadata": {
        "id": "B5EcZw_xivra"
      },
      "execution_count": 1,
      "outputs": []
    },
    {
      "cell_type": "code",
      "source": [
        "print(num)\n",
        "print(Num)"
      ],
      "metadata": {
        "colab": {
          "base_uri": "https://localhost:8080/"
        },
        "id": "g1o8NvaHiGFx",
        "outputId": "01d1cf42-f166-4030-ac27-f71695d5f40f"
      },
      "execution_count": 2,
      "outputs": [
        {
          "output_type": "stream",
          "name": "stdout",
          "text": [
            "1\n",
            "100\n"
          ]
        }
      ]
    },
    {
      "cell_type": "code",
      "source": [
        "my student = \"evan\" # 변수명 작성시, 공백 있음 안됨"
      ],
      "metadata": {
        "id": "0vsBIj14i3XV"
      },
      "execution_count": null,
      "outputs": []
    },
    {
      "cell_type": "markdown",
      "source": [
        "### 예약어는 변수명으로 이용할 수 없음\n",
        "- (p.45)\n",
        "- print, None, True, etc."
      ],
      "metadata": {
        "id": "Fs1Sv7etlIYs"
      }
    },
    {
      "cell_type": "markdown",
      "source": [
        "### 변수의 반대어 : 상수\n",
        "- 한번 지정 후, 변하지 않는 고정 값\n"
      ],
      "metadata": {
        "id": "P2YzDEr7lYYt"
      }
    },
    {
      "cell_type": "code",
      "source": [
        "# 상수\n",
        "pi = 3.14"
      ],
      "metadata": {
        "id": "vcNLE_5llhmo"
      },
      "execution_count": 3,
      "outputs": []
    },
    {
      "cell_type": "code",
      "source": [
        "# 실제 변수를 만들어보기\n",
        "num1 = input(\"숫자를 입력해주세요!!\")  # 숫자를 입력해도 기본값은 문자열로 반환\n",
        "num2 = input(\"숫자를 입력해주세요!!\")\n",
        "\n",
        "print(num1, num2)"
      ],
      "metadata": {
        "colab": {
          "base_uri": "https://localhost:8080/"
        },
        "id": "zSV26jxBloNK",
        "outputId": "ee9991c2-77cf-444d-91a1-c3d6d46a6ca6"
      },
      "execution_count": 5,
      "outputs": [
        {
          "output_type": "stream",
          "name": "stdout",
          "text": [
            "숫자를 입력해주세요!!100\n",
            "숫자를 입력해주세요!!200\n",
            "100 200\n"
          ]
        }
      ]
    },
    {
      "cell_type": "code",
      "source": [
        "print(num1 + num2)\n",
        "print(num2 + num1)"
      ],
      "metadata": {
        "colab": {
          "base_uri": "https://localhost:8080/"
        },
        "id": "xBnzbsYosF1e",
        "outputId": "f86b3e4b-ee1d-41e1-cdc6-7d330694abb2"
      },
      "execution_count": 9,
      "outputs": [
        {
          "output_type": "stream",
          "name": "stdout",
          "text": [
            "100200\n",
            "200100\n"
          ]
        }
      ]
    },
    {
      "cell_type": "code",
      "source": [
        "print(type(num1))  # <class 'str'> 문자열\n",
        "print(type(num2)) # <class 'str'> 문자열"
      ],
      "metadata": {
        "colab": {
          "base_uri": "https://localhost:8080/"
        },
        "id": "4GyRxD3RsWaw",
        "outputId": "651d2169-5b85-40bc-9da1-1a47ef3685f7"
      },
      "execution_count": 8,
      "outputs": [
        {
          "output_type": "stream",
          "name": "stdout",
          "text": [
            "<class 'str'>\n",
            "<class 'str'>\n"
          ]
        }
      ]
    },
    {
      "cell_type": "code",
      "source": [
        "print(int(num1)+int(num2))"
      ],
      "metadata": {
        "colab": {
          "base_uri": "https://localhost:8080/"
        },
        "id": "GoQS8olstymi",
        "outputId": "a9a424b8-b72e-4363-a885-d93745096fd9"
      },
      "execution_count": 13,
      "outputs": [
        {
          "output_type": "stream",
          "name": "stdout",
          "text": [
            "300\n"
          ]
        }
      ]
    },
    {
      "cell_type": "code",
      "source": [
        "# 하고 싶은 것 : 사칙연산\n",
        "# 해결방안 : 문자열 100을 숫자 100으로 변경하면 될 것 같음\n",
        "# 코드를 찾기\n",
        "\n",
        "# 구글링 후 코드 복사 > 한 줄씩 이해 후 적용 > 원래 코드는 주석 처리\n",
        "\n",
        "# string_num = \"42\"\n",
        "# int_num = int(string_num)\n",
        "# print(int_num)  # Output: 42\n",
        "\n",
        "num_a = int(num1)\n",
        "num_b = int(num2)\n",
        "print(num_a + num_b)"
      ],
      "metadata": {
        "colab": {
          "base_uri": "https://localhost:8080/"
        },
        "id": "3cXZ2DPOs87n",
        "outputId": "73840b23-dce8-439d-ed0c-15a294c39c87"
      },
      "execution_count": 15,
      "outputs": [
        {
          "output_type": "stream",
          "name": "stdout",
          "text": [
            "300\n"
          ]
        }
      ]
    },
    {
      "cell_type": "code",
      "source": [
        "# 프로그래밍 문자열로 표현하고 싶다!\n",
        "\"\" or ''"
      ],
      "metadata": {
        "id": "1t8M2LM-l6Cd"
      },
      "execution_count": null,
      "outputs": []
    },
    {
      "cell_type": "code",
      "source": [
        "a = '100' # 문자열 100\n",
        "b = '5000' # 문자열 5000"
      ],
      "metadata": {
        "id": "1cC2FcH0rj39"
      },
      "execution_count": null,
      "outputs": []
    }
  ]
}