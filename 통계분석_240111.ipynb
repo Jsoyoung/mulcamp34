{
  "cells": [
    {
      "cell_type": "markdown",
      "metadata": {
        "id": "view-in-github",
        "colab_type": "text"
      },
      "source": [
        "<a href=\"https://colab.research.google.com/github/Jsoyoung/mulcamp34/blob/main/%ED%86%B5%EA%B3%84%EB%B6%84%EC%84%9D_240111.ipynb\" target=\"_parent\"><img src=\"https://colab.research.google.com/assets/colab-badge.svg\" alt=\"Open In Colab\"/></a>"
      ]
    },
    {
      "cell_type": "markdown",
      "id": "8885f8c7-806f-4a2a-b086-92c5b33fb706",
      "metadata": {
        "id": "8885f8c7-806f-4a2a-b086-92c5b33fb706"
      },
      "source": [
        "# 통계검정\n",
        "- 교재 p294"
      ]
    },
    {
      "cell_type": "markdown",
      "id": "aaaa192e-30e4-4d78-a539-83abdc306d57",
      "metadata": {
        "id": "aaaa192e-30e4-4d78-a539-83abdc306d57"
      },
      "source": [
        "## 문제 상황\n",
        "- 편의점 감자튀김(무게 130g으로 알려져 있음)\n",
        "- 학생이 무게 하나 잼. 122.02g 밖에 되지 않음\n",
        "- 2주간 매일 감자튀김을 사서 무게를 측정\n",
        "    + 14개의 표본의 평균 계산했는데, 128.451g -> 학생이 편의점에 항의\n",
        "    + 편의점 : 그저 우연이다\n",
        "- 14개 표본의 평균이 128.451g으로 나온 건 정말 우연인가?"
      ]
    },
    {
      "cell_type": "markdown",
      "id": "4359c5a9-a7fc-4542-98b6-711b86c77ddd",
      "metadata": {
        "id": "4359c5a9-a7fc-4542-98b6-711b86c77ddd"
      },
      "source": [
        "### 질문\n",
        "- 어떤 통계 검정 방법을 사용해야 할까? :\n",
        "    + t-test, One Sample T-test\n",
        "    + 표본 14개 -> 정규성 검정 진행 후, 정규성 검정 통과할 때, One Sample T-Test\n",
        "\n",
        "- 귀무가설과 대립가설을 설정해보기\n",
        "    + 귀무가설 : 모평균(130g)과 표본평균(128.451)이 같다.\n",
        "    + 대립가설 : 모평균(130g)과 표본평균(128.451)이 같지 않다. (양측검정)\n",
        "    + 대립가설 : 모평균(130g)이 표본평균(128.451)보다 크다. (단측검정)\n",
        "- 교재 p302 단측검정과 양측검정 설명"
      ]
    },
    {
      "cell_type": "code",
      "execution_count": null,
      "id": "1a572d7b-0eb6-4b71-875a-b37e5662b292",
      "metadata": {
        "id": "1a572d7b-0eb6-4b71-875a-b37e5662b292",
        "outputId": "72fa1a37-10c4-4cee-e5f5-3e0bd6ba31e4"
      },
      "outputs": [
        {
          "name": "stdout",
          "output_type": "stream",
          "text": [
            "Requirement already satisfied: scipy in c:\\users\\jeong\\desktop\\projectds\\venv\\lib\\site-packages (1.11.4)\n",
            "Requirement already satisfied: numpy<1.28.0,>=1.21.6 in c:\\users\\jeong\\desktop\\projectds\\venv\\lib\\site-packages (from scipy) (1.26.3)\n"
          ]
        }
      ],
      "source": [
        "!pip install scipy"
      ]
    },
    {
      "cell_type": "code",
      "execution_count": null,
      "id": "efc2fac4-6718-496f-8d87-7cd892419721",
      "metadata": {
        "id": "efc2fac4-6718-496f-8d87-7cd892419721"
      },
      "outputs": [],
      "source": [
        "# p294\n",
        "import numpy as np\n",
        "import pandas as pd\n",
        "from scipy import stats"
      ]
    },
    {
      "cell_type": "code",
      "execution_count": null,
      "id": "8b1b1e1e-1774-40e0-a252-74f2ed26bcd3",
      "metadata": {
        "id": "8b1b1e1e-1774-40e0-a252-74f2ed26bcd3"
      },
      "outputs": [],
      "source": [
        "%precision 3\n",
        "np.random.seed(1111)"
      ]
    },
    {
      "cell_type": "code",
      "execution_count": null,
      "id": "04bcbd7b-2971-4e21-a3a8-211e1dfbffa4",
      "metadata": {
        "id": "04bcbd7b-2971-4e21-a3a8-211e1dfbffa4",
        "outputId": "03df01ea-43dc-4f5b-d52f-310d40cc4866"
      },
      "outputs": [
        {
          "data": {
            "text/plain": [
              "'1.11.4'"
            ]
          },
          "execution_count": 6,
          "metadata": {},
          "output_type": "execute_result"
        }
      ],
      "source": [
        "import scipy\n",
        "scipy.__version__"
      ]
    },
    {
      "cell_type": "code",
      "execution_count": null,
      "id": "73169804-0b6d-43a4-90bf-269ec7d6c368",
      "metadata": {
        "id": "73169804-0b6d-43a4-90bf-269ec7d6c368",
        "outputId": "2bd5b38e-10d9-437f-d27e-5865f41b4a23"
      },
      "outputs": [
        {
          "data": {
            "text/plain": [
              "array([122.02, 131.73, 130.6 , 131.82, 132.05, 126.12, 124.43, 132.89,\n",
              "       122.79, 129.95, 126.14, 134.45, 127.64, 125.68])"
            ]
          },
          "execution_count": 8,
          "metadata": {},
          "output_type": "execute_result"
        }
      ],
      "source": [
        "df = pd.read_csv('data/ch11_potato.csv')\n",
        "sample = np.array(df['무게'])\n",
        "sample"
      ]
    },
    {
      "cell_type": "code",
      "execution_count": null,
      "id": "44fa27e0-fdf6-4926-b069-f2a063046ded",
      "metadata": {
        "id": "44fa27e0-fdf6-4926-b069-f2a063046ded",
        "outputId": "67845b08-dee1-4c14-e6be-f25737ad37e6"
      },
      "outputs": [
        {
          "data": {
            "text/plain": [
              "128.4507142857143"
            ]
          },
          "execution_count": 9,
          "metadata": {},
          "output_type": "execute_result"
        }
      ],
      "source": [
        "# 표본평균\n",
        "s_mean = np.mean(sample)\n",
        "s_mean"
      ]
    },
    {
      "cell_type": "markdown",
      "id": "8f6acaec-def6-45db-b44b-1c2d3e384cb5",
      "metadata": {
        "id": "8f6acaec-def6-45db-b44b-1c2d3e384cb5"
      },
      "source": [
        "### A 학생의 관심\n",
        "- (14개의) 표본평균이 모평균 130g보다 적은지 여부\n",
        "- 여기서는 감자튀김의 표본집단이 정규분포를 따르고 있다 -> 정규성 검정을 할 필요가 없다\n",
        "    + 비모수 검정을 쓸 필요가 없다\n",
        "    + 모수 검정을 하면 된다\n",
        "- 모분산이 9임을 알고 있다고 전제한다."
      ]
    },
    {
      "cell_type": "code",
      "execution_count": null,
      "id": "73bcd60f-58c9-4cb0-a3f7-f0ed5630e7e6",
      "metadata": {
        "id": "73bcd60f-58c9-4cb0-a3f7-f0ed5630e7e6",
        "outputId": "f2083279-5d17-481d-aa57-a3912cd833ac"
      },
      "outputs": [
        {
          "data": {
            "text/plain": [
              "128.68118313069039"
            ]
          },
          "execution_count": 12,
          "metadata": {},
          "output_type": "execute_result"
        }
      ],
      "source": [
        "rv = stats.norm(130,  # 모평균\n",
        "                np.sqrt(9/14))  # 9 모분산, 14 표본의 개수\n",
        "rv.isf(0.95)  # 0.95 신뢰구간 95%\n",
        "# 임계값"
      ]
    },
    {
      "cell_type": "code",
      "execution_count": null,
      "id": "7630b93d-0c01-4c53-aa8c-868b97c77470",
      "metadata": {
        "id": "7630b93d-0c01-4c53-aa8c-868b97c77470",
        "outputId": "0c00711c-288a-4024-9826-b48e6752ba2c"
      },
      "outputs": [
        {
          "data": {
            "text/plain": [
              "129.0990765647245"
            ]
          },
          "execution_count": 13,
          "metadata": {},
          "output_type": "execute_result"
        }
      ],
      "source": [
        "rv = stats.norm(130,  # 모평균\n",
        "                np.sqrt(9/30))  # 9 모분산, 30 표본의 개수\n",
        "rv.isf(0.95)  # 0.95 신뢰구간 95%"
      ]
    },
    {
      "cell_type": "code",
      "execution_count": null,
      "id": "8ed7f661-30f8-4a21-88ff-5fa52388444d",
      "metadata": {
        "id": "8ed7f661-30f8-4a21-88ff-5fa52388444d"
      },
      "outputs": [],
      "source": [
        "# 이 같은 결과를 t통계량(검정통계량)으로 변환 -> p.value값으로 변환"
      ]
    },
    {
      "cell_type": "markdown",
      "id": "11786b64-f570-4af3-ac42-fc7256ef2e82",
      "metadata": {
        "id": "11786b64-f570-4af3-ac42-fc7256ef2e82"
      },
      "source": [
        "### 검정통계량"
      ]
    },
    {
      "cell_type": "code",
      "execution_count": null,
      "id": "c4d774b8-dd85-4497-9439-6c887315e1b5",
      "metadata": {
        "id": "c4d774b8-dd85-4497-9439-6c887315e1b5",
        "outputId": "45f031bd-c469-488b-c42a-f6d8a6300822"
      },
      "outputs": [
        {
          "data": {
            "text/plain": [
              "-1.932298779026813"
            ]
          },
          "execution_count": 14,
          "metadata": {},
          "output_type": "execute_result"
        }
      ],
      "source": [
        "# 모평균 130\n",
        "z = (s_mean - 130) / np.sqrt(9/14)\n",
        "z  # t-통계량을 구한 것"
      ]
    },
    {
      "cell_type": "code",
      "execution_count": null,
      "id": "957f1911-f3ef-4eec-811b-94cded949071",
      "metadata": {
        "id": "957f1911-f3ef-4eec-811b-94cded949071",
        "outputId": "5df4fb51-e445-4738-b31e-8448fa6345ed"
      },
      "outputs": [
        {
          "data": {
            "text/plain": [
              "-1.6448536269514722"
            ]
          },
          "execution_count": 15,
          "metadata": {},
          "output_type": "execute_result"
        }
      ],
      "source": [
        "# 검정 통계량에 관한 임계값을 구하기\n",
        "rv = stats.norm()\n",
        "rv.isf(0.95)"
      ]
    },
    {
      "cell_type": "code",
      "execution_count": null,
      "id": "50ac1082-0144-4d79-90bc-7d8ad1f80a76",
      "metadata": {
        "id": "50ac1082-0144-4d79-90bc-7d8ad1f80a76",
        "outputId": "534102c1-10e4-4847-c9ba-cdfea6c24e25"
      },
      "outputs": [
        {
          "data": {
            "text/plain": [
              "-1.6448536269514722"
            ]
          },
          "execution_count": 17,
          "metadata": {},
          "output_type": "execute_result"
        }
      ],
      "source": [
        "z = (s_mean - 130) / np.sqrt(9/30)\n",
        "rv = stats.norm()\n",
        "rv.isf(0.95)  # 표본 개수가 달라졌지만(z값이 달라짐) 임계값이 같음 -> 표준정규분포표 때문"
      ]
    },
    {
      "cell_type": "code",
      "execution_count": null,
      "id": "7082a25c-9ca4-4c0d-bf08-9663071d6baf",
      "metadata": {
        "id": "7082a25c-9ca4-4c0d-bf08-9663071d6baf",
        "outputId": "03395b7f-dae9-4631-86a1-c6c1b243cfec"
      },
      "outputs": [
        {
          "data": {
            "text/plain": [
              "0.026661319523126635"
            ]
          },
          "execution_count": 18,
          "metadata": {},
          "output_type": "execute_result"
        }
      ],
      "source": [
        "rv.cdf(z)  # 유의수준 0.05보다 p값이 작음\n",
        "\n",
        "# 귀무가설 : 모평균 130g은 표본평균 128.451g과 같다\n",
        "# 대립가설 : 모평균 130g은 표본평균 128.451g과 다르다.\n",
        "\n",
        "# 귀무가설을 기각한다.(=대립가설 채택)\n",
        "\n",
        "# 대립가설 채택을 한다는 말은 통계에서 존재하지 않음\n",
        "# 귀무가설 채택 or 귀무가설 기각"
      ]
    },
    {
      "cell_type": "code",
      "execution_count": null,
      "id": "876d5003-37f7-4f3d-b3a4-942b37caf7e4",
      "metadata": {
        "id": "876d5003-37f7-4f3d-b3a4-942b37caf7e4",
        "outputId": "b7c47511-f7c0-49ab-a3f1-d1ff05d48afc"
      },
      "outputs": [
        {
          "data": {
            "text/plain": [
              "(-1.959963984540054, 1.959963984540054)"
            ]
          },
          "execution_count": 19,
          "metadata": {},
          "output_type": "execute_result"
        }
      ],
      "source": [
        "# 양측검정\n",
        "z = (s_mean - 130) / np.sqrt(9/14)\n",
        "rv = stats.norm()\n",
        "rv.interval(0.95)  # 신뢰구간 95%"
      ]
    },
    {
      "cell_type": "code",
      "execution_count": null,
      "id": "47b5dde6-e2e2-4bcb-b962-31c480cbbe5a",
      "metadata": {
        "id": "47b5dde6-e2e2-4bcb-b962-31c480cbbe5a",
        "outputId": "859ec8b6-4b12-46a8-ca19-87833c0a2845"
      },
      "outputs": [
        {
          "data": {
            "text/plain": [
              "0.05332263904625327"
            ]
          },
          "execution_count": 20,
          "metadata": {},
          "output_type": "execute_result"
        }
      ],
      "source": [
        "rv.cdf(z) * 2"
      ]
    },
    {
      "cell_type": "markdown",
      "id": "7894fa3a-b6cd-4cc1-a843-da25e5a5b507",
      "metadata": {
        "id": "7894fa3a-b6cd-4cc1-a843-da25e5a5b507"
      },
      "source": [
        "## 질문\n",
        "- 단측검정, 양측검정을 어떤 상황에서 구분해서 사용하나요?\n",
        "    + 양측검정 : A와 B가 같지 않다\n",
        "      - 해석 : 우리가 모두 아는 평균 가지고 비교 가능\n",
        "    + 단측검정 : A > B, B > A"
      ]
    },
    {
      "cell_type": "markdown",
      "id": "5873c459-683d-4ed8-a08e-a4c0c0282869",
      "metadata": {
        "id": "5873c459-683d-4ed8-a08e-a4c0c0282869"
      },
      "source": [
        "## 가설검정의 두 가지 오류\n",
        "- 제 1종 오류 : 귀무가설이 옳을 때 귀무가설을 기각하는 오류\n",
        "- 제 2종 오류 : 대립가설이 옳을 때 귀무가설을 채택하는 오류"
      ]
    },
    {
      "cell_type": "markdown",
      "id": "9e363f9c-01b9-444b-aa98-5c713a15e09d",
      "metadata": {
        "id": "9e363f9c-01b9-444b-aa98-5c713a15e09d"
      },
      "source": [
        "### 제 1종 오류\n",
        "- 실제로 평균이 130g인데도 불구하고 평균은 130g보다 작다고 결론을 내리는 상황\n",
        "    + False Positive(오탐)"
      ]
    },
    {
      "cell_type": "code",
      "execution_count": null,
      "id": "6329a347-127c-4ba9-aa57-85704b6d5752",
      "metadata": {
        "id": "6329a347-127c-4ba9-aa57-85704b6d5752",
        "outputId": "a06f9839-a3f3-47ea-c5fc-2249074eca16"
      },
      "outputs": [
        {
          "data": {
            "text/plain": [
              "0.052"
            ]
          },
          "execution_count": 30,
          "metadata": {},
          "output_type": "execute_result"
        }
      ],
      "source": [
        "rv = stats.norm(130, 3)\n",
        "c = stats.norm().isf(0.95)\n",
        "n_samples = 10000\n",
        "cnt = 0\n",
        "for _ in range(n_samples):\n",
        "    sample_ = np.round(rv.rvs(14), 2)\n",
        "    s_mean_ = np.mean(sample_)\n",
        "    z = (s_mean_ - 130) / np.sqrt(9/14)\n",
        "    if z < c:\n",
        "        cnt += 1\n",
        "cnt / n_samples"
      ]
    },
    {
      "cell_type": "code",
      "execution_count": null,
      "id": "771b57f2-1909-49f5-8ee1-25cd4a9fa5ca",
      "metadata": {
        "id": "771b57f2-1909-49f5-8ee1-25cd4a9fa5ca"
      },
      "outputs": [],
      "source": [
        "- 1종 오류를 범할 비율은 0.053 / 약 5%의 비율로 130g보다 작다고 잘못 탐지하는 것과 같다.\n",
        "- 1종 오류를 범할 확률을 위험률\n",
        "- 좀 더 엄격하게 적용하고 싶다고 하면 유의수준 1%에서 가설검정을 수행"
      ]
    },
    {
      "cell_type": "markdown",
      "id": "921ae3a1-2748-4ca0-9fd8-3fa8481729a4",
      "metadata": {
        "id": "921ae3a1-2748-4ca0-9fd8-3fa8481729a4"
      },
      "source": [
        "### 제 2종 오류\n",
        "- 실제로 표본평균이 130g보다 작음에도 불구하고 표본평균은 130g보다 작다라는 결론을 얻을 수 없는 상황\n",
        "    + 본래 검출해야 하는 것을 검출하지 못했으므로 미탐 false negative"
      ]
    },
    {
      "cell_type": "code",
      "execution_count": null,
      "id": "d36cbd50-1431-4e79-8f84-f59c954cd2b2",
      "metadata": {
        "id": "d36cbd50-1431-4e79-8f84-f59c954cd2b2",
        "outputId": "9c7f2d34-d0ad-4a63-b821-25b77b4c56f8"
      },
      "outputs": [
        {
          "data": {
            "text/plain": [
              "0.195"
            ]
          },
          "execution_count": 33,
          "metadata": {},
          "output_type": "execute_result"
        }
      ],
      "source": [
        "# p.306\n",
        "rv = stats.norm(128, 3)  # A 학생이 편의점에서 비밀문서, 실제로는 감자튀김의 평균이 128g\n",
        "\n",
        "c = stats.norm().isf(0.95)\n",
        "n_samples = 10000\n",
        "cnt = 0\n",
        "for _ in range(n_samples):\n",
        "    sample_ = np.round(rv.rvs(14), 2)\n",
        "    s_mean_ = np.mean(sample_)\n",
        "    z = (s_mean_ - 130) / np.sqrt(9/14)\n",
        "    if z >= c:\n",
        "        cnt += 1\n",
        "\n",
        "cnt / n_samples"
      ]
    },
    {
      "cell_type": "markdown",
      "id": "bac96dc0-e935-4ceb-8b92-088863024932",
      "metadata": {
        "id": "bac96dc0-e935-4ceb-8b92-088863024932"
      },
      "source": [
        "- 0.198의 의미는 검정력 / 제대로 탐지하지 못할 확률이 20% 되더라\n",
        "- 제 2종 오류는 언제나 모집단의 정보에 의존한다.\n",
        "    + 중요한 포인트 : 분석가는 모집단의 구체적인 정보를 알 방법이 없다.(모분산 알 수 x)\n",
        "    + 1종오류의 유의확률만 관리하면 2종오류는 알아서 관리된다.(1종오류확률 올라가면 2종오류확률 낮아지는 식이어서)"
      ]
    },
    {
      "cell_type": "code",
      "execution_count": null,
      "id": "dfc2a3b4-fff4-4afb-a3c6-161607594a41",
      "metadata": {
        "id": "dfc2a3b4-fff4-4afb-a3c6-161607594a41",
        "outputId": "935f0411-0180-4e0e-b655-4bac4135c4ed"
      },
      "outputs": [
        {
          "data": {
            "text/plain": [
              "0.019"
            ]
          },
          "execution_count": 35,
          "metadata": {},
          "output_type": "execute_result"
        }
      ],
      "source": [
        "rv = stats.norm(127, 3)  # 평균을 몇으로 세팅하냐에 따라서 오류를 범할 확률이 달라지는 것을 볼 수 있다.\n",
        "\n",
        "c = stats.norm().isf(0.95)\n",
        "n_samples = 10000\n",
        "cnt = 0\n",
        "for _ in range(n_samples):\n",
        "    sample_ = np.round(rv.rvs(14), 2)\n",
        "    s_mean_ = np.mean(sample_)\n",
        "    z = (s_mean_ - 130) / np.sqrt(9/14)\n",
        "    if z >= c:\n",
        "        cnt += 1\n",
        "\n",
        "cnt / n_samples"
      ]
    },
    {
      "cell_type": "markdown",
      "id": "d2a768dd-3904-49eb-adf8-1d52a3b67954",
      "metadata": {
        "id": "d2a768dd-3904-49eb-adf8-1d52a3b67954"
      },
      "source": [
        "### 모분산을 안다!!\n",
        "- 현실적으로 모집단을 아는 것은 불가능\n",
        "    + 건강보험과 통계 / 전국민 데이터가 있는 자료(국가)\n",
        "- 모분산을 알고 있다는 뜻은 모집단을 알고 있다 -> 모평균도 구할 수 있음 -> 모평균에 대한 검정을 우리가 굳이 할 필요가 있나?"
      ]
    },
    {
      "cell_type": "code",
      "execution_count": null,
      "id": "7183e91f-a6a5-498c-83bf-e9e06b8efda2",
      "metadata": {
        "id": "7183e91f-a6a5-498c-83bf-e9e06b8efda2"
      },
      "outputs": [],
      "source": [
        "def pmean_test(sample, mean0, alpha=0.05):\n",
        "    '''\n",
        "    sample : 표본 샘플 데이터\n",
        "    mean0 : 모평균을 제안(감자칩의 무게와 같이 이미 기 제안이 된 것)\n",
        "    alpha : 신뢰구간 95% 수준의 신뢰구간\n",
        "    '''\n",
        "    s_mean = np.mean(sample)\n",
        "    u_var = np.var(sample, ddof=1)\n",
        "    n = len(sample)\n",
        "    rv = stats.t(df=n-1)\n",
        "    interval = rv.interval(1-alpha)\n",
        "\n",
        "    t = (s_mean - mean0) / np.sqrt(u_var/n)\n",
        "    print(f't통계량 값: {t:.3f}')\n",
        "    if interval[0] <= t <= interval[1]:\n",
        "        print('귀무가설을 채택')\n",
        "    else:\n",
        "        print('귀무가설을 기각')\n",
        "\n",
        "    if t < 0:\n",
        "        p = rv.cdf(t) * 2\n",
        "    else:\n",
        "        p = (1 - rv.cdf(t)) * 2\n",
        "    print(f'p값은 {p:.3f}')"
      ]
    },
    {
      "cell_type": "code",
      "execution_count": null,
      "id": "317131b1-380b-4f3e-86e0-06517fa82465",
      "metadata": {
        "id": "317131b1-380b-4f3e-86e0-06517fa82465",
        "outputId": "8daa0cf6-0386-442f-98cf-b0c82bf64153"
      },
      "outputs": [
        {
          "name": "stdout",
          "output_type": "stream",
          "text": [
            "t통계량 값: -1.455\n",
            "귀무가설을 채택\n",
            "p값은 0.169\n"
          ]
        }
      ],
      "source": [
        "pmean_test(sample, 130)"
      ]
    },
    {
      "cell_type": "code",
      "execution_count": null,
      "id": "c1337932-d5ee-4d2f-9956-a95608258b29",
      "metadata": {
        "id": "c1337932-d5ee-4d2f-9956-a95608258b29",
        "outputId": "5d7eed24-bd84-4e67-e127-17cd78a84739"
      },
      "outputs": [
        {
          "data": {
            "text/plain": [
              "(-1.455, 0.169)"
            ]
          },
          "execution_count": 42,
          "metadata": {},
          "output_type": "execute_result"
        }
      ],
      "source": [
        "t, p = stats.ttest_1samp(sample, 130)\n",
        "t, p"
      ]
    },
    {
      "cell_type": "markdown",
      "id": "465349e4-85a9-40e0-a50d-86ea13f7ecc5",
      "metadata": {
        "id": "465349e4-85a9-40e0-a50d-86ea13f7ecc5"
      },
      "source": [
        "## 비전공자 / 이공계\n",
        "- 비전공자 : 해당되는 수식을 일반인들에게 어떻게 풀어서 쉽게 설명을 해줄 것인가가 포인트, 보고서 작성 시\n",
        "- 이공계 : 수식을 잘 정리해서 블로그 등 정리를 하는 것이 도움이 됨"
      ]
    },
    {
      "cell_type": "markdown",
      "id": "0d1172d6-6aea-4afc-89e9-52f0511a1d28",
      "metadata": {
        "id": "0d1172d6-6aea-4afc-89e9-52f0511a1d28"
      },
      "source": [
        "### z 통계량, t 통계량\n",
        "- 모집단을 알고, 모평균을 알고, 모분산을 다 알고 있다.\n",
        "    + z-검정 : z 통계량\n",
        "- 표본을 추출한다. 표본 평균을 알고, 표본 분산을 알고 있다.\n",
        "    + t-검정 : t 통계량"
      ]
    },
    {
      "cell_type": "markdown",
      "id": "af0e5a1f-c6ab-46a7-87fa-848e8eb9c8a6",
      "metadata": {
        "id": "af0e5a1f-c6ab-46a7-87fa-848e8eb9c8a6"
      },
      "source": [
        "# 2표본 문제에 관한 가설검정\n",
        "- 대응표본 : 정규분포를 가정할 수 있음(정규성 검정 통과)\n",
        "    + 정규성 검정 통과 : 대응표본 t-검정\n",
        "    + 정규성 검정 통과 실패 : 비모수 검정, 윌콕슨의 부호순위검정\n",
        "      \n",
        "- 독립표본 : 정규분포를 가정할 수 있음\n",
        "    + 정규성 검정 통과 : 독립비교 t-검정\n",
        "    + 정규성 검정 통과 실패 : 맨-위트니의 U 검정"
      ]
    },
    {
      "cell_type": "markdown",
      "id": "8fcc9b6f-12b4-4859-878b-0e009fc6405d",
      "metadata": {
        "id": "8fcc9b6f-12b4-4859-878b-0e009fc6405d"
      },
      "source": [
        "### 대응표본 t-검정\n",
        "- A 학생은 친구 20명에게 1주일간 근력 운동을 하게 함(intervention, 개입)\n",
        "- 운동 전후에 집중력을 측정하는 테스트 받게 됨\n",
        "- 가설검정\n",
        "    + 귀무가설 : 근력운동 전후 집중력 평균 차이가 없다\n",
        "    + 대립가설 : 근력운동 전후 집중력 평균 차이가 있다\n",
        "\n",
        "- t test 귀무가설에서는 '평균 차이'가 꼭 언급되어야 함"
      ]
    },
    {
      "cell_type": "code",
      "execution_count": null,
      "id": "0d36c5e7-2bc5-46e3-b787-855e447ea34f",
      "metadata": {
        "id": "0d36c5e7-2bc5-46e3-b787-855e447ea34f",
        "outputId": "835c8f1a-8ca3-4224-c30a-74c2467201b8"
      },
      "outputs": [
        {
          "data": {
            "text/html": [
              "<div>\n",
              "<style scoped>\n",
              "    .dataframe tbody tr th:only-of-type {\n",
              "        vertical-align: middle;\n",
              "    }\n",
              "\n",
              "    .dataframe tbody tr th {\n",
              "        vertical-align: top;\n",
              "    }\n",
              "\n",
              "    .dataframe thead th {\n",
              "        text-align: right;\n",
              "    }\n",
              "</style>\n",
              "<table border=\"1\" class=\"dataframe\">\n",
              "  <thead>\n",
              "    <tr style=\"text-align: right;\">\n",
              "      <th></th>\n",
              "      <th>전</th>\n",
              "      <th>후</th>\n",
              "      <th>차</th>\n",
              "    </tr>\n",
              "  </thead>\n",
              "  <tbody>\n",
              "    <tr>\n",
              "      <th>0</th>\n",
              "      <td>59</td>\n",
              "      <td>41</td>\n",
              "      <td>-18</td>\n",
              "    </tr>\n",
              "    <tr>\n",
              "      <th>1</th>\n",
              "      <td>52</td>\n",
              "      <td>63</td>\n",
              "      <td>11</td>\n",
              "    </tr>\n",
              "    <tr>\n",
              "      <th>2</th>\n",
              "      <td>55</td>\n",
              "      <td>68</td>\n",
              "      <td>13</td>\n",
              "    </tr>\n",
              "    <tr>\n",
              "      <th>3</th>\n",
              "      <td>61</td>\n",
              "      <td>59</td>\n",
              "      <td>-2</td>\n",
              "    </tr>\n",
              "    <tr>\n",
              "      <th>4</th>\n",
              "      <td>59</td>\n",
              "      <td>84</td>\n",
              "      <td>25</td>\n",
              "    </tr>\n",
              "  </tbody>\n",
              "</table>\n",
              "</div>"
            ],
            "text/plain": [
              "    전   후   차\n",
              "0  59  41 -18\n",
              "1  52  63  11\n",
              "2  55  68  13\n",
              "3  61  59  -2\n",
              "4  59  84  25"
            ]
          },
          "execution_count": 49,
          "metadata": {},
          "output_type": "execute_result"
        }
      ],
      "source": [
        "import pandas as pd\n",
        "\n",
        "training_rel = pd.read_csv('data/ch11_training_rel.csv')\n",
        "training_rel['차'] = training_rel['후'] - training_rel['전']\n",
        "training_rel.head()"
      ]
    },
    {
      "cell_type": "code",
      "execution_count": null,
      "id": "b2c8e7f7-a183-4c6e-9f19-b7f048bf636b",
      "metadata": {
        "id": "b2c8e7f7-a183-4c6e-9f19-b7f048bf636b",
        "outputId": "59158bb2-9fcd-4485-83a5-5a178a8be6f3"
      },
      "outputs": [
        {
          "data": {
            "text/plain": [
              "(2.204, 0.040)"
            ]
          },
          "execution_count": 50,
          "metadata": {},
          "output_type": "execute_result"
        }
      ],
      "source": [
        "from scipy import stats\n",
        "t, p = stats.ttest_1samp(training_rel['차'], 0)\n",
        "t, p"
      ]
    },
    {
      "cell_type": "code",
      "execution_count": null,
      "id": "2bd1f1dd-c492-4766-a93e-1443cb1102a8",
      "metadata": {
        "id": "2bd1f1dd-c492-4766-a93e-1443cb1102a8",
        "outputId": "55ac73fa-666c-4a91-c472-df68370e4c9f"
      },
      "outputs": [
        {
          "data": {
            "text/plain": [
              "(2.204, 0.040)"
            ]
          },
          "execution_count": 51,
          "metadata": {},
          "output_type": "execute_result"
        }
      ],
      "source": [
        "# 위와 같은 결과, 다른 코드(차이 구하지 않고 검정 수행)\n",
        "t, p = stats.ttest_rel(training_rel['후'], training_rel['전'])\n",
        "t, p"
      ]
    },
    {
      "cell_type": "markdown",
      "id": "8058fd7d-82a7-4a8f-8534-bf6fbd43eaa0",
      "metadata": {
        "id": "8058fd7d-82a7-4a8f-8534-bf6fbd43eaa0"
      },
      "source": [
        "## 보고서 작성\n",
        "- t-통계량 / p-value 값\n",
        "- 전&후 시각화 코드 / 전 평균값, 후 평균값\n",
        "  \n",
        "- (1)두 그래프 차이를 보니 후 평균값이 더 높더라(기존)\n",
        "- (2)두 그래프의 평균 차이가 유의미하게 나타났고, 후 평균값이 더 높게 나타난 것 확인\n",
        "    + (2)-> 평균 차이를 언급하여 더 설득력 있는 보고로 여겨짐"
      ]
    },
    {
      "cell_type": "markdown",
      "id": "4a3cc60e-6c5c-4240-8434-215782b59a9c",
      "metadata": {
        "id": "4a3cc60e-6c5c-4240-8434-215782b59a9c"
      },
      "source": [
        "## 독립비교 t-검정\n",
        "- 교재는 p.318\n",
        "- 학생이 부쩍 늘었음\n",
        "   + A 학생 그룹 인문계열\n",
        "   + B 학생 그룹 체육계열, 운동을 많이 함\n",
        "- A 그룹, B 그룹 사이에 집중력 테스트의 평균에서 차이가 나지 않을까 생각하여 테스트를 함\n",
        "- 이 데이터로부터 어떤 검정을 수행해야 A 학생과 B 학생 학급의 집중력에 유의한 차이가 있을지 확인\n",
        "- 가설설정\n",
        "    + 귀무가설: A 그룹의 평균과 B 그룹의 평균 차이가 없다\n",
        "    + 대립가설: A 그룹의 평균과 B 그룹의 평균 차이가 있다.\n",
        "\n",
        "- 독립비교 t-검정 두 가지 가정\n",
        "    + 1) 각 그룹 데이터의 정규성을 검정\n",
        "    + 2) 두 그룹의 분산이 같다(=등분산성 검정), levene 검정 시행하더라"
      ]
    },
    {
      "cell_type": "code",
      "execution_count": null,
      "id": "580cff89-20a6-4a83-bfc4-3dbbb6ead38c",
      "metadata": {
        "id": "580cff89-20a6-4a83-bfc4-3dbbb6ead38c",
        "outputId": "118fa02b-b9f8-40ce-ace7-dff0bfd9c44f"
      },
      "outputs": [
        {
          "data": {
            "text/html": [
              "<div>\n",
              "<style scoped>\n",
              "    .dataframe tbody tr th:only-of-type {\n",
              "        vertical-align: middle;\n",
              "    }\n",
              "\n",
              "    .dataframe tbody tr th {\n",
              "        vertical-align: top;\n",
              "    }\n",
              "\n",
              "    .dataframe thead th {\n",
              "        text-align: right;\n",
              "    }\n",
              "</style>\n",
              "<table border=\"1\" class=\"dataframe\">\n",
              "  <thead>\n",
              "    <tr style=\"text-align: right;\">\n",
              "      <th></th>\n",
              "      <th>A</th>\n",
              "      <th>B</th>\n",
              "    </tr>\n",
              "  </thead>\n",
              "  <tbody>\n",
              "    <tr>\n",
              "      <th>0</th>\n",
              "      <td>47</td>\n",
              "      <td>49</td>\n",
              "    </tr>\n",
              "    <tr>\n",
              "      <th>1</th>\n",
              "      <td>50</td>\n",
              "      <td>52</td>\n",
              "    </tr>\n",
              "    <tr>\n",
              "      <th>2</th>\n",
              "      <td>37</td>\n",
              "      <td>54</td>\n",
              "    </tr>\n",
              "    <tr>\n",
              "      <th>3</th>\n",
              "      <td>60</td>\n",
              "      <td>48</td>\n",
              "    </tr>\n",
              "    <tr>\n",
              "      <th>4</th>\n",
              "      <td>39</td>\n",
              "      <td>51</td>\n",
              "    </tr>\n",
              "  </tbody>\n",
              "</table>\n",
              "</div>"
            ],
            "text/plain": [
              "    A   B\n",
              "0  47  49\n",
              "1  50  52\n",
              "2  37  54\n",
              "3  60  48\n",
              "4  39  51"
            ]
          },
          "execution_count": 52,
          "metadata": {},
          "output_type": "execute_result"
        }
      ],
      "source": [
        "training_ind = pd.read_csv('data/ch11_training_ind.csv')\n",
        "training_ind.head()"
      ]
    },
    {
      "cell_type": "code",
      "execution_count": null,
      "id": "67d4b232-8963-4974-82a9-2f4058f621dc",
      "metadata": {
        "id": "67d4b232-8963-4974-82a9-2f4058f621dc",
        "outputId": "d79e7d2b-ca2a-40c6-f276-8b45e11ff691"
      },
      "outputs": [
        {
          "data": {
            "text/plain": [
              "(-1.761, 0.086)"
            ]
          },
          "execution_count": 54,
          "metadata": {},
          "output_type": "execute_result"
        }
      ],
      "source": [
        "# p320\n",
        "t, p = stats.ttest_ind(training_ind['A'], training_ind['B'], equal_var = True) # 등분산성이 같다!\n",
        "t, p"
      ]
    },
    {
      "cell_type": "markdown",
      "id": "4f84826f-9d52-4a98-9c57-8de24b6650bd",
      "metadata": {
        "id": "4f84826f-9d52-4a98-9c57-8de24b6650bd"
      },
      "source": [
        "- 결론: 두 그룹의 평균 차이는 없더라, 귀무가설 채택(0.05보다 작음)"
      ]
    },
    {
      "cell_type": "code",
      "execution_count": null,
      "id": "72728612-9d3d-4a2c-b6de-43707045c759",
      "metadata": {
        "id": "72728612-9d3d-4a2c-b6de-43707045c759",
        "outputId": "7671814f-0445-4108-ff4e-ada977d55907"
      },
      "outputs": [
        {
          "data": {
            "text/plain": [
              "(-1.761, 0.087)"
            ]
          },
          "execution_count": 55,
          "metadata": {},
          "output_type": "execute_result"
        }
      ],
      "source": [
        "# Levene 검정 이후, 살펴봤더니 등분산성이 다르더라\n",
        "t, p = stats.ttest_ind(training_ind['A'], training_ind['B'], equal_var = False)\n",
        "t, p"
      ]
    },
    {
      "cell_type": "markdown",
      "id": "3a8ae61c-1d4b-4ac8-aa60-84ca22edb732",
      "metadata": {
        "id": "3a8ae61c-1d4b-4ac8-aa60-84ca22edb732"
      },
      "source": [
        "## 비모수 검정\n",
        "- 모수 검정에서 각 가정을 만족시키지 못할 때, 비모수검정을 쓰더라"
      ]
    },
    {
      "cell_type": "markdown",
      "id": "94e27fc8-140d-402d-b401-bfee69a2864c",
      "metadata": {
        "id": "94e27fc8-140d-402d-b401-bfee69a2864c"
      },
      "source": [
        "### 윌콕슨의 부호순위검정\n",
        "- 대응표본에서 차이에 정규분포를 만족시키지 못할 때\n",
        "    + 평균차이 아님(X)\n",
        "    + 중앙값 차이에 대한 검정(O)\n",
        "    + 중앙값 = 50% 에 해당하는 값"
      ]
    },
    {
      "cell_type": "code",
      "execution_count": null,
      "id": "a82ae72e-4ba0-4d1d-b28f-694bb8deaea3",
      "metadata": {
        "id": "a82ae72e-4ba0-4d1d-b28f-694bb8deaea3",
        "outputId": "4991cf0e-e570-4082-d778-fb6bb3ece186"
      },
      "outputs": [
        {
          "data": {
            "text/html": [
              "<div>\n",
              "<style scoped>\n",
              "    .dataframe tbody tr th:only-of-type {\n",
              "        vertical-align: middle;\n",
              "    }\n",
              "\n",
              "    .dataframe tbody tr th {\n",
              "        vertical-align: top;\n",
              "    }\n",
              "\n",
              "    .dataframe thead th {\n",
              "        text-align: right;\n",
              "    }\n",
              "</style>\n",
              "<table border=\"1\" class=\"dataframe\">\n",
              "  <thead>\n",
              "    <tr style=\"text-align: right;\">\n",
              "      <th></th>\n",
              "      <th>전</th>\n",
              "      <th>후</th>\n",
              "      <th>차</th>\n",
              "    </tr>\n",
              "  </thead>\n",
              "  <tbody>\n",
              "    <tr>\n",
              "      <th>0</th>\n",
              "      <td>59</td>\n",
              "      <td>41</td>\n",
              "      <td>-18</td>\n",
              "    </tr>\n",
              "    <tr>\n",
              "      <th>1</th>\n",
              "      <td>52</td>\n",
              "      <td>63</td>\n",
              "      <td>11</td>\n",
              "    </tr>\n",
              "    <tr>\n",
              "      <th>2</th>\n",
              "      <td>55</td>\n",
              "      <td>68</td>\n",
              "      <td>13</td>\n",
              "    </tr>\n",
              "    <tr>\n",
              "      <th>3</th>\n",
              "      <td>61</td>\n",
              "      <td>59</td>\n",
              "      <td>-2</td>\n",
              "    </tr>\n",
              "    <tr>\n",
              "      <th>4</th>\n",
              "      <td>59</td>\n",
              "      <td>84</td>\n",
              "      <td>25</td>\n",
              "    </tr>\n",
              "    <tr>\n",
              "      <th>5</th>\n",
              "      <td>45</td>\n",
              "      <td>37</td>\n",
              "      <td>-8</td>\n",
              "    </tr>\n",
              "  </tbody>\n",
              "</table>\n",
              "</div>"
            ],
            "text/plain": [
              "    전   후   차\n",
              "0  59  41 -18\n",
              "1  52  63  11\n",
              "2  55  68  13\n",
              "3  61  59  -2\n",
              "4  59  84  25\n",
              "5  45  37  -8"
            ]
          },
          "execution_count": 58,
          "metadata": {},
          "output_type": "execute_result"
        }
      ],
      "source": [
        "training_rel = pd.read_csv('data/ch11_training_rel.csv')\n",
        "toy_df = training_rel[:6].copy()\n",
        "toy_df['차'] = toy_df['후'] - toy_df['전']\n",
        "toy_df"
      ]
    },
    {
      "cell_type": "code",
      "execution_count": null,
      "id": "0af07ea9-658e-4ccc-a77a-9308286ee858",
      "metadata": {
        "id": "0af07ea9-658e-4ccc-a77a-9308286ee858",
        "outputId": "6c307956-e6f4-48fd-8992-128bc4e3b54a"
      },
      "outputs": [
        {
          "data": {
            "text/html": [
              "<div>\n",
              "<style scoped>\n",
              "    .dataframe tbody tr th:only-of-type {\n",
              "        vertical-align: middle;\n",
              "    }\n",
              "\n",
              "    .dataframe tbody tr th {\n",
              "        vertical-align: top;\n",
              "    }\n",
              "\n",
              "    .dataframe thead th {\n",
              "        text-align: right;\n",
              "    }\n",
              "</style>\n",
              "<table border=\"1\" class=\"dataframe\">\n",
              "  <thead>\n",
              "    <tr style=\"text-align: right;\">\n",
              "      <th></th>\n",
              "      <th>전</th>\n",
              "      <th>후</th>\n",
              "      <th>차</th>\n",
              "      <th>순위</th>\n",
              "    </tr>\n",
              "  </thead>\n",
              "  <tbody>\n",
              "    <tr>\n",
              "      <th>0</th>\n",
              "      <td>59</td>\n",
              "      <td>41</td>\n",
              "      <td>-18</td>\n",
              "      <td>5</td>\n",
              "    </tr>\n",
              "    <tr>\n",
              "      <th>1</th>\n",
              "      <td>52</td>\n",
              "      <td>63</td>\n",
              "      <td>11</td>\n",
              "      <td>3</td>\n",
              "    </tr>\n",
              "    <tr>\n",
              "      <th>2</th>\n",
              "      <td>55</td>\n",
              "      <td>68</td>\n",
              "      <td>13</td>\n",
              "      <td>4</td>\n",
              "    </tr>\n",
              "    <tr>\n",
              "      <th>3</th>\n",
              "      <td>61</td>\n",
              "      <td>59</td>\n",
              "      <td>-2</td>\n",
              "      <td>1</td>\n",
              "    </tr>\n",
              "    <tr>\n",
              "      <th>4</th>\n",
              "      <td>59</td>\n",
              "      <td>84</td>\n",
              "      <td>25</td>\n",
              "      <td>6</td>\n",
              "    </tr>\n",
              "    <tr>\n",
              "      <th>5</th>\n",
              "      <td>45</td>\n",
              "      <td>37</td>\n",
              "      <td>-8</td>\n",
              "      <td>2</td>\n",
              "    </tr>\n",
              "  </tbody>\n",
              "</table>\n",
              "</div>"
            ],
            "text/plain": [
              "    전   후   차  순위\n",
              "0  59  41 -18   5\n",
              "1  52  63  11   3\n",
              "2  55  68  13   4\n",
              "3  61  59  -2   1\n",
              "4  59  84  25   6\n",
              "5  45  37  -8   2"
            ]
          },
          "execution_count": 59,
          "metadata": {},
          "output_type": "execute_result"
        }
      ],
      "source": [
        "# 순위 적용\n",
        "diff = toy_df['후'] - toy_df['전']\n",
        "rank = stats.rankdata(abs(diff)).astype(int)\n",
        "toy_df['순위'] = rank\n",
        "toy_df"
      ]
    },
    {
      "cell_type": "code",
      "execution_count": null,
      "id": "7b1f31e5-044e-46c9-af1d-541d26389ed6",
      "metadata": {
        "id": "7b1f31e5-044e-46c9-af1d-541d26389ed6",
        "outputId": "9b771376-9c6f-4067-8c44-d2044af36b94"
      },
      "outputs": [
        {
          "data": {
            "text/plain": [
              "(8, 13)"
            ]
          },
          "execution_count": 61,
          "metadata": {},
          "output_type": "execute_result"
        }
      ],
      "source": [
        "import numpy as np\n",
        "\n",
        "r_minus = np.sum((diff < 0) * rank)\n",
        "r_plus = np.sum((diff > 0) * rank)\n",
        "\n",
        "r_minus, r_plus  # 검정통계량 8"
      ]
    },
    {
      "cell_type": "code",
      "execution_count": null,
      "id": "ae871629-6537-43eb-8809-63a509e3e3e8",
      "metadata": {
        "id": "ae871629-6537-43eb-8809-63a509e3e3e8",
        "outputId": "b4e5ab8c-a0d5-47d5-f98d-46a943df1e28"
      },
      "outputs": [
        {
          "data": {
            "text/html": [
              "<div>\n",
              "<style scoped>\n",
              "    .dataframe tbody tr th:only-of-type {\n",
              "        vertical-align: middle;\n",
              "    }\n",
              "\n",
              "    .dataframe tbody tr th {\n",
              "        vertical-align: top;\n",
              "    }\n",
              "\n",
              "    .dataframe thead th {\n",
              "        text-align: right;\n",
              "    }\n",
              "</style>\n",
              "<table border=\"1\" class=\"dataframe\">\n",
              "  <thead>\n",
              "    <tr style=\"text-align: right;\">\n",
              "      <th></th>\n",
              "      <th>전</th>\n",
              "      <th>후</th>\n",
              "      <th>차</th>\n",
              "      <th>순위</th>\n",
              "    </tr>\n",
              "  </thead>\n",
              "  <tbody>\n",
              "    <tr>\n",
              "      <th>0</th>\n",
              "      <td>59</td>\n",
              "      <td>60</td>\n",
              "      <td>1</td>\n",
              "      <td>1</td>\n",
              "    </tr>\n",
              "    <tr>\n",
              "      <th>1</th>\n",
              "      <td>52</td>\n",
              "      <td>54</td>\n",
              "      <td>2</td>\n",
              "      <td>2</td>\n",
              "    </tr>\n",
              "    <tr>\n",
              "      <th>2</th>\n",
              "      <td>55</td>\n",
              "      <td>58</td>\n",
              "      <td>3</td>\n",
              "      <td>3</td>\n",
              "    </tr>\n",
              "    <tr>\n",
              "      <th>3</th>\n",
              "      <td>61</td>\n",
              "      <td>65</td>\n",
              "      <td>4</td>\n",
              "      <td>4</td>\n",
              "    </tr>\n",
              "    <tr>\n",
              "      <th>4</th>\n",
              "      <td>59</td>\n",
              "      <td>64</td>\n",
              "      <td>5</td>\n",
              "      <td>5</td>\n",
              "    </tr>\n",
              "    <tr>\n",
              "      <th>5</th>\n",
              "      <td>45</td>\n",
              "      <td>51</td>\n",
              "      <td>6</td>\n",
              "      <td>6</td>\n",
              "    </tr>\n",
              "  </tbody>\n",
              "</table>\n",
              "</div>"
            ],
            "text/plain": [
              "    전   후  차  순위\n",
              "0  59  60  1   1\n",
              "1  52  54  2   2\n",
              "2  55  58  3   3\n",
              "3  61  65  4   4\n",
              "4  59  64  5   5\n",
              "5  45  51  6   6"
            ]
          },
          "execution_count": 62,
          "metadata": {},
          "output_type": "execute_result"
        }
      ],
      "source": [
        "toy_df['후'] = toy_df['전'] + np.arange(1, 7)\n",
        "diff = toy_df['후'] - toy_df['전']\n",
        "rank = stats.rankdata(abs(diff)).astype(int)\n",
        "toy_df['차'] = diff\n",
        "toy_df['순위'] = rank\n",
        "toy_df"
      ]
    },
    {
      "cell_type": "code",
      "execution_count": null,
      "id": "e1a5b6cc-79cd-44bb-b68e-28b2b9f95f91",
      "metadata": {
        "id": "e1a5b6cc-79cd-44bb-b68e-28b2b9f95f91",
        "outputId": "12d7b4af-d363-4ba8-fafc-fb004cbcbae6"
      },
      "outputs": [
        {
          "data": {
            "text/plain": [
              "(0, 21)"
            ]
          },
          "execution_count": 64,
          "metadata": {},
          "output_type": "execute_result"
        }
      ],
      "source": [
        "toy_df['후'] = toy_df['전'] + np.arange(1, 7)\n",
        "diff = toy_df['후'] - toy_df['전']\n",
        "rank = stats.rankdata(abs(diff)).astype(int)\n",
        "toy_df['차'] = diff\n",
        "toy_df['순위'] = rank\n",
        "\n",
        "r_minus = np.sum((diff < 0) * rank)\n",
        "r_plus = np.sum((diff > 0) * rank)\n",
        "\n",
        "r_minus, r_plus"
      ]
    },
    {
      "cell_type": "code",
      "execution_count": null,
      "id": "26bab8a8-6e38-4f3b-9293-facd45cf7ca2",
      "metadata": {
        "id": "26bab8a8-6e38-4f3b-9293-facd45cf7ca2",
        "outputId": "ea616810-6486-4c62-9863-6cb438eca670"
      },
      "outputs": [
        {
          "data": {
            "text/html": [
              "<div>\n",
              "<style scoped>\n",
              "    .dataframe tbody tr th:only-of-type {\n",
              "        vertical-align: middle;\n",
              "    }\n",
              "\n",
              "    .dataframe tbody tr th {\n",
              "        vertical-align: top;\n",
              "    }\n",
              "\n",
              "    .dataframe thead th {\n",
              "        text-align: right;\n",
              "    }\n",
              "</style>\n",
              "<table border=\"1\" class=\"dataframe\">\n",
              "  <thead>\n",
              "    <tr style=\"text-align: right;\">\n",
              "      <th></th>\n",
              "      <th>전</th>\n",
              "      <th>후</th>\n",
              "      <th>차</th>\n",
              "      <th>순위</th>\n",
              "    </tr>\n",
              "  </thead>\n",
              "  <tbody>\n",
              "    <tr>\n",
              "      <th>0</th>\n",
              "      <td>59</td>\n",
              "      <td>60</td>\n",
              "      <td>1</td>\n",
              "      <td>1</td>\n",
              "    </tr>\n",
              "    <tr>\n",
              "      <th>1</th>\n",
              "      <td>52</td>\n",
              "      <td>50</td>\n",
              "      <td>-2</td>\n",
              "      <td>2</td>\n",
              "    </tr>\n",
              "    <tr>\n",
              "      <th>2</th>\n",
              "      <td>55</td>\n",
              "      <td>52</td>\n",
              "      <td>-3</td>\n",
              "      <td>3</td>\n",
              "    </tr>\n",
              "    <tr>\n",
              "      <th>3</th>\n",
              "      <td>61</td>\n",
              "      <td>65</td>\n",
              "      <td>4</td>\n",
              "      <td>4</td>\n",
              "    </tr>\n",
              "    <tr>\n",
              "      <th>4</th>\n",
              "      <td>59</td>\n",
              "      <td>64</td>\n",
              "      <td>5</td>\n",
              "      <td>5</td>\n",
              "    </tr>\n",
              "    <tr>\n",
              "      <th>5</th>\n",
              "      <td>45</td>\n",
              "      <td>39</td>\n",
              "      <td>-6</td>\n",
              "      <td>6</td>\n",
              "    </tr>\n",
              "  </tbody>\n",
              "</table>\n",
              "</div>"
            ],
            "text/plain": [
              "    전   후  차  순위\n",
              "0  59  60  1   1\n",
              "1  52  50 -2   2\n",
              "2  55  52 -3   3\n",
              "3  61  65  4   4\n",
              "4  59  64  5   5\n",
              "5  45  39 -6   6"
            ]
          },
          "execution_count": 65,
          "metadata": {},
          "output_type": "execute_result"
        }
      ],
      "source": [
        "toy_df['후'] = toy_df['전'] + [1, -2, -3, 4, 5, -6]\n",
        "diff = toy_df['후'] - toy_df['전']\n",
        "rank = stats.rankdata(abs(diff)).astype(int)\n",
        "toy_df['차'] = diff\n",
        "toy_df['순위'] = rank\n",
        "toy_df"
      ]
    },
    {
      "cell_type": "code",
      "execution_count": null,
      "id": "afe7292b-dcc4-44b9-a7e6-cba12a053fda",
      "metadata": {
        "id": "afe7292b-dcc4-44b9-a7e6-cba12a053fda",
        "outputId": "704a8e17-b6d1-4c2d-c9d8-8d556ecb7684"
      },
      "outputs": [
        {
          "data": {
            "text/plain": [
              "(11, 10)"
            ]
          },
          "execution_count": 66,
          "metadata": {},
          "output_type": "execute_result"
        }
      ],
      "source": [
        "r_minus = np.sum((diff < 0) * rank)\n",
        "r_plus = np.sum((diff > 0) * rank)\n",
        "\n",
        "r_minus, r_plus  # 검정통계량 10\n",
        "\n",
        "# 순위가 많이 바뀔수록...../?"
      ]
    }
  ],
  "metadata": {
    "kernelspec": {
      "display_name": "Python 3 (ipykernel)",
      "language": "python",
      "name": "python3"
    },
    "language_info": {
      "codemirror_mode": {
        "name": "ipython",
        "version": 3
      },
      "file_extension": ".py",
      "mimetype": "text/x-python",
      "name": "python",
      "nbconvert_exporter": "python",
      "pygments_lexer": "ipython3",
      "version": "3.12.1"
    },
    "colab": {
      "provenance": [],
      "include_colab_link": true
    }
  },
  "nbformat": 4,
  "nbformat_minor": 5
}