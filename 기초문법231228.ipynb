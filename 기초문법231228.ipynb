{
  "nbformat": 4,
  "nbformat_minor": 0,
  "metadata": {
    "colab": {
      "provenance": [],
      "toc_visible": true,
      "authorship_tag": "ABX9TyOxE0GSvMfExa2My+Po/CcM",
      "include_colab_link": true
    },
    "kernelspec": {
      "name": "python3",
      "display_name": "Python 3"
    },
    "language_info": {
      "name": "python"
    }
  },
  "cells": [
    {
      "cell_type": "markdown",
      "metadata": {
        "id": "view-in-github",
        "colab_type": "text"
      },
      "source": [
        "<a href=\"https://colab.research.google.com/github/Jsoyoung/mulcamp34/blob/main/%EA%B8%B0%EC%B4%88%EB%AC%B8%EB%B2%95231228.ipynb\" target=\"_parent\"><img src=\"https://colab.research.google.com/assets/colab-badge.svg\" alt=\"Open In Colab\"/></a>"
      ]
    },
    {
      "cell_type": "markdown",
      "source": [],
      "metadata": {
        "id": "M5OR2_VmxgWl"
      }
    },
    {
      "cell_type": "markdown",
      "source": [
        "# 27일 리뷰\n",
        "- int, float, str, bool(True/False)\n",
        "- 리스트, 튜플"
      ],
      "metadata": {
        "id": "m21luYIHxiCL"
      }
    },
    {
      "cell_type": "markdown",
      "source": [
        "# 문자열 함수\n",
        "- 교재 (p.158)\n",
        "- 영어 : function, method"
      ],
      "metadata": {
        "id": "ndTFAp5NxFDA"
      }
    },
    {
      "cell_type": "markdown",
      "source": [
        "## split() : 문자열 분리"
      ],
      "metadata": {
        "id": "KJF1rM_92p_5"
      }
    },
    {
      "cell_type": "code",
      "source": [
        "coffee_menu_str = \"에스프레소,아메리카노,카페라테,카푸치노\"\n",
        "coffee_menu_str.split(',')\n",
        "\n",
        "# 결과해석\n",
        "# 내가 원하는 대로 결과가 나왔는가?\n",
        "# 반환값, Return 자료형 확인 필수 > type로 확인 가능"
      ],
      "metadata": {
        "colab": {
          "base_uri": "https://localhost:8080/"
        },
        "id": "Oqmn0QPLx_v2",
        "outputId": "6167c167-bb0c-4f89-cfe3-e22d7a4b2763"
      },
      "execution_count": 1,
      "outputs": [
        {
          "output_type": "execute_result",
          "data": {
            "text/plain": [
              "['에스프레소', '아메리카노', '카페라테', '카푸치노']"
            ]
          },
          "metadata": {},
          "execution_count": 1
        }
      ]
    },
    {
      "cell_type": "code",
      "source": [
        "\"에스프레소,아메리카노,카페라테,카푸치노\".split(',')"
      ],
      "metadata": {
        "colab": {
          "base_uri": "https://localhost:8080/"
        },
        "id": "mzp3uToWzjMK",
        "outputId": "1de67f2b-abb8-47ae-f069-d921e979883d"
      },
      "execution_count": 2,
      "outputs": [
        {
          "output_type": "execute_result",
          "data": {
            "text/plain": [
              "['에스프레소', '아메리카노', '카페라테', '카푸치노']"
            ]
          },
          "metadata": {},
          "execution_count": 2
        }
      ]
    },
    {
      "cell_type": "code",
      "source": [
        "\"에스프레소 아메리카노 카페라테 카푸치노\".split(' ')"
      ],
      "metadata": {
        "colab": {
          "base_uri": "https://localhost:8080/"
        },
        "id": "f8FZn9vHzvMk",
        "outputId": "23ef57bd-e68e-41e4-e419-0c7a5984c4cc"
      },
      "execution_count": 3,
      "outputs": [
        {
          "output_type": "execute_result",
          "data": {
            "text/plain": [
              "['에스프레소', '아메리카노', '카페라테', '카푸치노']"
            ]
          },
          "metadata": {},
          "execution_count": 3
        }
      ]
    },
    {
      "cell_type": "code",
      "source": [
        "\"에스프레소.아메리카노.카페라테.카푸치노\".split('.')"
      ],
      "metadata": {
        "colab": {
          "base_uri": "https://localhost:8080/"
        },
        "id": "Bjz54QBVz2-B",
        "outputId": "3bec6f16-c319-429a-a862-73a7cfee48cf"
      },
      "execution_count": 4,
      "outputs": [
        {
          "output_type": "execute_result",
          "data": {
            "text/plain": [
              "['에스프레소', '아메리카노', '카페라테', '카푸치노']"
            ]
          },
          "metadata": {},
          "execution_count": 4
        }
      ]
    },
    {
      "cell_type": "code",
      "source": [
        "phone_number = \"+82-01-2345-6789\"\n",
        "\n",
        "# +82만 추출하기\n",
        "print(phone_number.split('-')[0])\n",
        "\n",
        "# 정석\n",
        "# result = phone_number.split('-')\n",
        "# result[0]"
      ],
      "metadata": {
        "colab": {
          "base_uri": "https://localhost:8080/"
        },
        "id": "cNd8ZzWB0h2j",
        "outputId": "5410ade6-51f2-484e-bae4-480eb75b2bb2"
      },
      "execution_count": 6,
      "outputs": [
        {
          "output_type": "stream",
          "name": "stdout",
          "text": [
            "+82\n"
          ]
        }
      ]
    },
    {
      "cell_type": "code",
      "source": [
        "# maxsplit, 매개변수 (arguments, parameters)\n",
        "phone_number.split('-',maxsplit=2)"
      ],
      "metadata": {
        "colab": {
          "base_uri": "https://localhost:8080/"
        },
        "id": "XD93Ckip130B",
        "outputId": "0c1eb836-edfe-47a0-8bb2-2893d1c36c30"
      },
      "execution_count": 10,
      "outputs": [
        {
          "output_type": "execute_result",
          "data": {
            "text/plain": [
              "['+82', '01', '2345-6789']"
            ]
          },
          "metadata": {},
          "execution_count": 10
        }
      ]
    },
    {
      "cell_type": "markdown",
      "source": [
        "## strip() : 필요없는 문자열 삭제\n",
        "- 앞뒤 공백 혹은 개행문자와 같이 불필요한 부분을 지우고 싶을 때 사용"
      ],
      "metadata": {
        "id": "aSfsXiTj2zno"
      }
    },
    {
      "cell_type": "code",
      "source": [
        "tempText = ' Python '\n",
        "tempText.strip()"
      ],
      "metadata": {
        "colab": {
          "base_uri": "https://localhost:8080/",
          "height": 35
        },
        "id": "42vTAroD3fC_",
        "outputId": "7cac35b4-ca18-4f0d-edb6-74a11ca4c793"
      },
      "execution_count": 15,
      "outputs": [
        {
          "output_type": "execute_result",
          "data": {
            "text/plain": [
              "'Python'"
            ],
            "application/vnd.google.colaboratory.intrinsic+json": {
              "type": "string"
            }
          },
          "metadata": {},
          "execution_count": 15
        }
      ]
    },
    {
      "cell_type": "code",
      "source": [
        "tempText = 'aaaPythonaaa'\n",
        "# tempText[3:9] 고정적으로 사용하기에는 한계 있는 방법\n",
        "tempText.strip('a')"
      ],
      "metadata": {
        "colab": {
          "base_uri": "https://localhost:8080/",
          "height": 35
        },
        "id": "V-CIwiZ636QZ",
        "outputId": "964e190b-98b3-49e8-bf81-83e714cae4c0"
      },
      "execution_count": 17,
      "outputs": [
        {
          "output_type": "execute_result",
          "data": {
            "text/plain": [
              "'Python'"
            ],
            "application/vnd.google.colaboratory.intrinsic+json": {
              "type": "string"
            }
          },
          "metadata": {},
          "execution_count": 17
        }
      ]
    },
    {
      "cell_type": "code",
      "source": [
        "tempText = 'aaaaabbPythonbbaaaaaa'\n",
        "result = tempText.strip('a')\n",
        "result.strip('b')\n",
        "\n",
        "# 코딩은 1가지의 정답이 있는 것이 아님\n",
        "# 여러가지 정답 중에서 효율적인 정답을 찾는 과정이 코딩"
      ],
      "metadata": {
        "colab": {
          "base_uri": "https://localhost:8080/",
          "height": 35
        },
        "id": "yia-s0FS4gZx",
        "outputId": "544dea3a-a3a2-4345-dc9d-5858d6b63c6d"
      },
      "execution_count": 18,
      "outputs": [
        {
          "output_type": "execute_result",
          "data": {
            "text/plain": [
              "'Python'"
            ],
            "application/vnd.google.colaboratory.intrinsic+json": {
              "type": "string"
            }
          },
          "metadata": {},
          "execution_count": 18
        }
      ]
    },
    {
      "cell_type": "code",
      "source": [
        "tempText.strip('ab') # 특수문자 활용도 가능"
      ],
      "metadata": {
        "colab": {
          "base_uri": "https://localhost:8080/",
          "height": 35
        },
        "id": "JfNlxm7N42F5",
        "outputId": "5964f6b6-3106-45e4-f16d-e1c65f4d164e"
      },
      "execution_count": 19,
      "outputs": [
        {
          "output_type": "execute_result",
          "data": {
            "text/plain": [
              "'Python'"
            ],
            "application/vnd.google.colaboratory.intrinsic+json": {
              "type": "string"
            }
          },
          "metadata": {},
          "execution_count": 19
        }
      ]
    },
    {
      "cell_type": "code",
      "source": [
        "tempText = '\\n Python \\n\\n'  # 역슬래시 \\\n",
        "tempText.strip('\\n')"
      ],
      "metadata": {
        "colab": {
          "base_uri": "https://localhost:8080/",
          "height": 35
        },
        "id": "cjC235Fb89Ss",
        "outputId": "0428a7ad-118c-419e-8f4e-1faa13286e73"
      },
      "execution_count": 20,
      "outputs": [
        {
          "output_type": "execute_result",
          "data": {
            "text/plain": [
              "' Python '"
            ],
            "application/vnd.google.colaboratory.intrinsic+json": {
              "type": "string"
            }
          },
          "metadata": {},
          "execution_count": 20
        }
      ]
    },
    {
      "cell_type": "code",
      "source": [
        "tempText.strip(' \\n') # 앞에다 공백 넣어주면 제거 가능\n",
        "\n",
        "# lstrip(), 해당 텍스트의 왼쪽\n",
        "# rstrip(), 해당 텍스트의 오른쪽"
      ],
      "metadata": {
        "colab": {
          "base_uri": "https://localhost:8080/",
          "height": 35
        },
        "id": "ZT6bdKjS7mmF",
        "outputId": "5dc063ca-def0-43a4-f4f6-cd184761e937"
      },
      "execution_count": 21,
      "outputs": [
        {
          "output_type": "execute_result",
          "data": {
            "text/plain": [
              "'Python'"
            ],
            "application/vnd.google.colaboratory.intrinsic+json": {
              "type": "string"
            }
          },
          "metadata": {},
          "execution_count": 21
        }
      ]
    },
    {
      "cell_type": "markdown",
      "source": [
        "## join() : 문자열 연결\n",
        "- 더하기 연산자(+)로 두 문자열을 연결 가능"
      ],
      "metadata": {
        "id": "JynENm9J-CD8"
      }
    },
    {
      "cell_type": "code",
      "source": [
        "name1 = '철수'\n",
        "name2 = '영미'\n",
        "\n",
        "hello = '님, 주소와 전화 번호를 입력해 주세요'\n",
        "\n",
        "print(name1+hello)\n",
        "print(name2+hello)"
      ],
      "metadata": {
        "colab": {
          "base_uri": "https://localhost:8080/"
        },
        "id": "DUvT-rjb-Iqw",
        "outputId": "8dc15afc-17f3-4f4d-8d89-6a330758f4ce"
      },
      "execution_count": 22,
      "outputs": [
        {
          "output_type": "stream",
          "name": "stdout",
          "text": [
            "철수님, 주소와 전화 번호를 입력해 주세요\n",
            "영미님, 주소와 전화 번호를 입력해 주세요\n"
          ]
        }
      ]
    },
    {
      "cell_type": "code",
      "source": [
        "address_list = ['서울시', '서초구', '반포대로', '201(반포동)']\n",
        "\n",
        "# 리스트의 각 값을 모두 연결해서 하나의 텍스트로\n",
        "a = \" \"\n",
        "a.join(address_list)\n",
        "\n",
        "#a에 지정하지 않고 \".\".join(address_list) 해도 됨"
      ],
      "metadata": {
        "colab": {
          "base_uri": "https://localhost:8080/",
          "height": 35
        },
        "id": "nCseKrif-yq-",
        "outputId": "866bcb12-4ee3-4419-b612-956e162b88a5"
      },
      "execution_count": 23,
      "outputs": [
        {
          "output_type": "execute_result",
          "data": {
            "text/plain": [
              "'서울시 서초구 반포대로 201(반포동)'"
            ],
            "application/vnd.google.colaboratory.intrinsic+json": {
              "type": "string"
            }
          },
          "metadata": {},
          "execution_count": 23
        }
      ]
    },
    {
      "cell_type": "markdown",
      "source": [
        "## find() : 문자열 찾기\n",
        "- 문자열의 위치값을 반환\n"
      ],
      "metadata": {
        "id": "x7Rqiqu3__nk"
      }
    },
    {
      "cell_type": "code",
      "source": [
        "str_f = 'Python code.'\n",
        "print(\"찾는 문자열의 위치:\", str_f.find('Python'))\n",
        "print(\"찾는 문자열의 위치:\", str_f.find('code'))\n",
        "print(\"찾는 문자열의 위치:\", str_f.find('n'))\n",
        "print(\"찾는 문자열의 위치:\", str_f.find('java'))  # -1: 해당되는 문자 없음"
      ],
      "metadata": {
        "colab": {
          "base_uri": "https://localhost:8080/"
        },
        "id": "3Qc5udWCAwPq",
        "outputId": "8fdd4631-6350-4a90-99a4-b506d1af8a4f"
      },
      "execution_count": 27,
      "outputs": [
        {
          "output_type": "stream",
          "name": "stdout",
          "text": [
            "찾는 문자열의 위치: 0\n",
            "찾는 문자열의 위치: 7\n",
            "찾는 문자열의 위치: 5\n",
            "찾는 문자열의 위치: -1\n"
          ]
        }
      ]
    },
    {
      "cell_type": "markdown",
      "source": [
        "## count() : 찾고자 하는 문자열의 횟수 반환\n",
        "- 만약, 찾을 문자열이 없으면 0으로 반환\n"
      ],
      "metadata": {
        "id": "20nRv-zQDGuq"
      }
    },
    {
      "cell_type": "code",
      "source": [
        "str_c = \"Python is powerful. Python is easy to learn. Python is open\"\n",
        "print(\"Python의 갯수는?\", str_c.count(\"Python\"))\n",
        "print(\"Python의 갯수는?\", str_c.count(\"powerful\"))\n",
        "print(\"Python의 갯수는?\", str_c.count(\"Java\"))"
      ],
      "metadata": {
        "colab": {
          "base_uri": "https://localhost:8080/"
        },
        "id": "3TsnhhHYDYB4",
        "outputId": "f61b4adb-5c79-4038-f9da-18232623ed06"
      },
      "execution_count": 30,
      "outputs": [
        {
          "output_type": "stream",
          "name": "stdout",
          "text": [
            "Python의 갯수는? 3\n",
            "Python의 갯수는? 1\n",
            "Python의 갯수는? 0\n"
          ]
        }
      ]
    },
    {
      "cell_type": "markdown",
      "source": [
        "## startswith, endswith\n",
        "- 각 문자열이 지정된 문자로 시작하는지 또는 끝나는지 체크(검사)할 때 사용\n"
      ],
      "metadata": {
        "id": "tEKmiUVoD8gu"
      }
    },
    {
      "cell_type": "code",
      "source": [
        "str_c = \"Python is powerful. Python is easy to learn. Python is open.\"\n",
        "print(\"Python으로 시작?\", str_c.startswith('Python'))\n",
        "print(\"Python으로 시작?\", str_c.startswith('is'))\n",
        "print(\"Python으로 시작?\", str_c.endswith('.'))\n",
        "print(\"Python으로 시작?\", str_c.endswith('!'))"
      ],
      "metadata": {
        "colab": {
          "base_uri": "https://localhost:8080/"
        },
        "id": "2wQ_C0V8EI3C",
        "outputId": "ea3e1260-0384-44b2-81ee-f5506326c3e6"
      },
      "execution_count": 35,
      "outputs": [
        {
          "output_type": "stream",
          "name": "stdout",
          "text": [
            "Python으로 시작? True\n",
            "Python으로 시작? False\n",
            "Python으로 시작? True\n",
            "Python으로 시작? False\n"
          ]
        }
      ]
    },
    {
      "cell_type": "markdown",
      "source": [
        "## replace() : 문자열 바꾸기\n",
        "- 지정한 문자열을 찾아서 바꾸는 메서드\n"
      ],
      "metadata": {
        "id": "HM_Swa3TE5KY"
      }
    },
    {
      "cell_type": "code",
      "source": [
        "str_a = 'Python is fast. Python is friendly. Python is open.'\n",
        "\n",
        "# Python을 IPython으로 바꾸기\n",
        "print(str_a.replace('Python', 'IPython'))"
      ],
      "metadata": {
        "colab": {
          "base_uri": "https://localhost:8080/"
        },
        "id": "xIx_rUlgFD2V",
        "outputId": "f9a78ac7-bb92-42bb-8da0-5bb9d7de4f7f"
      },
      "execution_count": 37,
      "outputs": [
        {
          "output_type": "stream",
          "name": "stdout",
          "text": [
            "IPython is fast. IPython is friendly. IPython is open.\n"
          ]
        }
      ]
    },
    {
      "cell_type": "code",
      "source": [
        "str_b = '[Python][is][fast]'\n",
        "str_b1 = str_b.replace('[', '') # 문자열에서 특정 문자 제거하는 효과\n",
        "str_b2 = str_b1.replace(']', ' ')\n",
        "result = str_b2.rstrip() # rstrip : 문장 뒤 공백을 지우기 위해 사용\n",
        "print(result)"
      ],
      "metadata": {
        "colab": {
          "base_uri": "https://localhost:8080/"
        },
        "id": "3UWXovymFp2m",
        "outputId": "d04a0b07-cf2a-4270-bda4-04031e0b4e39"
      },
      "execution_count": 44,
      "outputs": [
        {
          "output_type": "stream",
          "name": "stdout",
          "text": [
            "Python is fast\n"
          ]
        }
      ]
    },
    {
      "cell_type": "markdown",
      "source": [
        "# 리스트 함수\n",
        "- 교재(p.54)\n",
        "- 처음에 프로그래밍 공부할 때\n",
        "  + 1차는 교재 확인\n",
        "  + 프로젝트 진행 시 => 공식문서에 친숙\n",
        "  + 라이브러리 사용할 때, 공식문서를 보는 훈련을 해야 함"
      ],
      "metadata": {
        "id": "nBp5norAxIh6"
      }
    },
    {
      "cell_type": "markdown",
      "source": [
        "## append()\n",
        "- 리스트에서 항목 하나를 맨 마지막에 추가\n"
      ],
      "metadata": {
        "id": "3Zm80FHpN3hZ"
      }
    },
    {
      "cell_type": "code",
      "source": [
        "myFriends = ['James', 'Robert', 'Lisa', 'Mary']\n",
        "myFriends.append('Thomas')\n",
        "print(myFriends)\n",
        "\n",
        "# 위 문법과 비교\n",
        "# result= myFriends.append('Thomas')\n",
        "# print(result) : append는 변수 지정 시 오류발생"
      ],
      "metadata": {
        "colab": {
          "base_uri": "https://localhost:8080/"
        },
        "id": "SAOC_UXEN8P6",
        "outputId": "7f4441c2-6d9b-4fc4-920e-50f903205e5d"
      },
      "execution_count": 46,
      "outputs": [
        {
          "output_type": "stream",
          "name": "stdout",
          "text": [
            "['James', 'Robert', 'Lisa', 'Mary', 'Thomas']\n"
          ]
        }
      ]
    },
    {
      "cell_type": "markdown",
      "source": [
        "## extend()\n",
        "- 리스트에서 항목 여러 개를 맨 마지막에 추가"
      ],
      "metadata": {
        "id": "K4_eNlfwPRxQ"
      }
    },
    {
      "cell_type": "code",
      "source": [
        "myFriends = ['James', 'Robert', 'Lisa', 'Mary']\n",
        "myFriends.append('Thomas')\n",
        "\n",
        "newFriends = ['A', 'B', 'C']\n",
        "\n",
        "# myFriends.append(newFriends)\n",
        "# 결과값 : ['James', 'Robert', 'Lisa', 'Mary', 'Thomas', ['A', 'B', 'C']]\n",
        "\n",
        "myFriends.extend(newFriends)\n",
        "myFriends"
      ],
      "metadata": {
        "colab": {
          "base_uri": "https://localhost:8080/"
        },
        "id": "X3tIpXm1PXBP",
        "outputId": "35c23ec1-4880-419f-b369-44448a118789"
      },
      "execution_count": 48,
      "outputs": [
        {
          "output_type": "execute_result",
          "data": {
            "text/plain": [
              "['James', 'Robert', 'Lisa', 'Mary', 'Thomas', 'A', 'B', 'C']"
            ]
          },
          "metadata": {},
          "execution_count": 48
        }
      ]
    },
    {
      "cell_type": "markdown",
      "source": [
        "## insert()\n",
        "- 항목의 위치를 나타내는 인덱스 i에 data를 삽입"
      ],
      "metadata": {
        "id": "OTyf5KRvQNxa"
      }
    },
    {
      "cell_type": "code",
      "source": [
        "myFriends = ['James', 'Robert', 'Lisa', 'Mary']\n",
        "myFriends.insert(1, 'Evan')\n",
        "print(myFriends)"
      ],
      "metadata": {
        "colab": {
          "base_uri": "https://localhost:8080/"
        },
        "id": "TmhGyRchTD5B",
        "outputId": "2a27a844-9dc6-473b-ec90-e6257d5cdb84"
      },
      "execution_count": 49,
      "outputs": [
        {
          "output_type": "stream",
          "name": "stdout",
          "text": [
            "['James', 'Evan', 'Robert', 'Lisa', 'Mary']\n"
          ]
        }
      ]
    },
    {
      "cell_type": "markdown",
      "source": [
        "## 오전 수업 리뷰\n",
        "- 다양한 함수를 사용\n",
        "  + string, list 관련된 주요 메서드\n",
        "- 각 메서드명, 매개변수에 대해 처음 접함\n",
        "  + 주의 / 확인 : 함수를 실행 후 반환값, Return값을 확인해야 함 (리스트인지 텍스트인지 등)\n",
        "- 공식문서 확인\n",
        "  + 코드를 암기하려 하지 말고 공식문서 보는 방법을 익힘\n",
        "  + 코드 암기는 언제 필요할까? : 빅데이터 분석기사 실기 볼 때만 집중적 암기 or 코딩테스트"
      ],
      "metadata": {
        "id": "kI3Vn6-WTqCj"
      }
    },
    {
      "cell_type": "markdown",
      "source": [
        "# 클래스"
      ],
      "metadata": {
        "id": "48TUdG5VxJ52"
      }
    },
    {
      "cell_type": "markdown",
      "source": [
        "## 함수\n",
        "- 다른 개발자 분들이 만들어 놓은 함수를 갖다 씀\n",
        "- 이번 시간에 해야 하는 것 : 함수 직접 만들기\n",
        "  + 의미있는 함수를 만드는 것이 프로젝트\n",
        "- 프로그래밍을 한다! -> 재실행할거다, 재실행 또는 반복 실행을 하기 위한 방법론: 함수\n",
        "- 언제 함수를 만들어야 할까?\n",
        "  + 매일 반복적일 것 같은 느낌이 들 때 함수 만들면 됨\n",
        "  + 분석 프로젝트 시, 새로운 파생변수 만드는 매서드를 정의\n",
        "  + 개발자 : 속도를 빠르게 만들어주는 함수, ETL을 효율적으로 해주는 함수"
      ],
      "metadata": {
        "id": "mJo2MIrFnbop"
      }
    },
    {
      "cell_type": "code",
      "source": [
        "# 함수의 구조\n",
        "# 매개변수, 인자\n",
        "# p.116\n",
        "def 함수명([인자1, 인자2, ..., 인자n]):\n",
        "  # 코드 블록 indentation(들여쓰기, 스페이스2 or tab)\n",
        "  return 반환값"
      ],
      "metadata": {
        "id": "L5Apoxh6pf2H"
      },
      "execution_count": null,
      "outputs": []
    },
    {
      "cell_type": "code",
      "source": [
        "def mySum(a, b):\n",
        "  c = a + b\n",
        "  return c\n",
        "\n",
        "a = 1\n",
        "b = 1\n",
        "\n",
        "result = mySum(a,b)\n",
        "print(result)"
      ],
      "metadata": {
        "colab": {
          "base_uri": "https://localhost:8080/"
        },
        "id": "MPL2Cc0fqIJh",
        "outputId": "65b17a41-142d-45a4-af0e-f4dada152b5a"
      },
      "execution_count": 53,
      "outputs": [
        {
          "output_type": "stream",
          "name": "stdout",
          "text": [
            "2\n"
          ]
        }
      ]
    },
    {
      "cell_type": "markdown",
      "source": [
        "- 뺄셈 함수 만들기\n",
        "  + 함수명 : mySubtract"
      ],
      "metadata": {
        "id": "NhBeYCNDro2N"
      }
    },
    {
      "cell_type": "code",
      "source": [
        "def mySubtract(a,b):  # 무조건 a,b가 입력이 되어야 함. 필수 조건\n",
        "  c = a - b\n",
        "  return c\n",
        "\n",
        "a = 2\n",
        "b = 1\n",
        "\n",
        "result = mySubtract(a,b)\n",
        "print(result)"
      ],
      "metadata": {
        "colab": {
          "base_uri": "https://localhost:8080/"
        },
        "id": "6mvjyjsArr_T",
        "outputId": "5e4e4e0d-08b2-4920-eddc-6182b1996f75"
      },
      "execution_count": 54,
      "outputs": [
        {
          "output_type": "stream",
          "name": "stdout",
          "text": [
            "1\n"
          ]
        }
      ]
    },
    {
      "cell_type": "code",
      "source": [
        "x = 3\n",
        "y = 1\n",
        "\n",
        "result = mySubtract(x,y)\n",
        "print(result)"
      ],
      "metadata": {
        "colab": {
          "base_uri": "https://localhost:8080/"
        },
        "id": "TPaCQIaqs1EE",
        "outputId": "6de20c46-31c6-4dff-f292-1ad8f3cb82ec"
      },
      "execution_count": 55,
      "outputs": [
        {
          "output_type": "stream",
          "name": "stdout",
          "text": [
            "2\n"
          ]
        }
      ]
    },
    {
      "cell_type": "code",
      "source": [
        "m = 1\n",
        "\n",
        "\n",
        "result = mySubtract(m)\n",
        "print(result)\n",
        "# 오류 : TypeError: mySubtract() missing 1 required positional argument: 'b'"
      ],
      "metadata": {
        "id": "TUfafbfQtTH6"
      },
      "execution_count": 57,
      "outputs": []
    },
    {
      "cell_type": "code",
      "source": [
        "def mySubtract(a,b=0):  # b의 초기값을 0으로 설정 (일반적으로 b = None 씀)\n",
        "  c = a - b\n",
        "  return c\n",
        "\n",
        "M = 10\n",
        "result = mySubtract(M)\n",
        "print(result)\n",
        "\n",
        "K = 10\n",
        "N = 100\n",
        "Result = mySubtract(K,N)  # b가 0 -> 100으로 변경됨\n",
        "print(Result)"
      ],
      "metadata": {
        "colab": {
          "base_uri": "https://localhost:8080/"
        },
        "id": "9y_rgoUVvGGW",
        "outputId": "3557c16f-bd9c-46ba-e9b9-ebdb1ed6a972"
      },
      "execution_count": 60,
      "outputs": [
        {
          "output_type": "stream",
          "name": "stdout",
          "text": [
            "10\n",
            "-90\n"
          ]
        }
      ]
    },
    {
      "cell_type": "code",
      "source": [
        "def my_func():\n",
        "  print(\"My first function\")\n",
        "  print(\"This is a function!\")"
      ],
      "metadata": {
        "id": "_Nr2RF9Dz8hr"
      },
      "execution_count": 61,
      "outputs": []
    },
    {
      "cell_type": "code",
      "source": [
        "result = mySubtract(M,N)  # 반환값이 있는 메서드\n",
        "my_func()  # 반환값이 없는 메서드"
      ],
      "metadata": {
        "colab": {
          "base_uri": "https://localhost:8080/"
        },
        "id": "1ysAhdmN0Mds",
        "outputId": "5f772512-4cc8-495f-9079-32852628cfac"
      },
      "execution_count": 62,
      "outputs": [
        {
          "output_type": "stream",
          "name": "stdout",
          "text": [
            "My first function\n",
            "This is a function!\n"
          ]
        }
      ]
    },
    {
      "cell_type": "code",
      "source": [
        "def mySum(a,b = 0):\n",
        "  c = a + b\n",
        "  print(f'함수 잘 작동 중?{c}')\n",
        "\n",
        "a = 1\n",
        "result = mySum(a)\n",
        "print(result)\n",
        "# 결과값\n",
        "\n",
        "# 함수 잘 작동 중?1\n",
        "# None : 반환값 없다는 뜻"
      ],
      "metadata": {
        "colab": {
          "base_uri": "https://localhost:8080/"
        },
        "id": "fQfjPgIH06Qx",
        "outputId": "dd0f5c2a-a8d4-4fe5-89ae-ead3ff730425"
      },
      "execution_count": 63,
      "outputs": [
        {
          "output_type": "stream",
          "name": "stdout",
          "text": [
            "함수 잘 작동 중?1\n",
            "None\n"
          ]
        }
      ]
    },
    {
      "cell_type": "code",
      "source": [
        "def mySum(a,b = 0):\n",
        "  c = a + b\n",
        "  # print(f'함수 잘 작동 중?{c}')  위 코드처럼 결과값 확인했으면 주석처리하고 마무리\n",
        "  return c\n",
        "\n",
        "a = 1\n",
        "result = mySum(a)\n",
        "print(result)"
      ],
      "metadata": {
        "colab": {
          "base_uri": "https://localhost:8080/"
        },
        "id": "sdqUBrEd1mEv",
        "outputId": "76449389-8b3e-49fb-e597-0d42e5f5e3ae"
      },
      "execution_count": 64,
      "outputs": [
        {
          "output_type": "stream",
          "name": "stdout",
          "text": [
            "1\n"
          ]
        }
      ]
    },
    {
      "cell_type": "markdown",
      "source": [
        "### 변수의 유효범위\n",
        "- p.121\n",
        "- 지역 변수 & 전역 변수\n",
        "- Local Variable & Global Variable\n"
      ],
      "metadata": {
        "id": "zi00_Emy2E11"
      }
    },
    {
      "cell_type": "code",
      "source": [
        "a = 5 # 전역 변수\n",
        "\n",
        "def func1():\n",
        "  a = 1 # 지역 변수\n",
        "  print(f'func1 지역 변수 a = {a}')  # 함수 내부에서만 a값 1\n",
        "\n",
        "func1()\n",
        "print(f'전역 변수 a = {a}')"
      ],
      "metadata": {
        "colab": {
          "base_uri": "https://localhost:8080/"
        },
        "id": "N_NadKjm2b1m",
        "outputId": "49d3d94c-9b64-4cef-95d3-d94f3185c728"
      },
      "execution_count": 67,
      "outputs": [
        {
          "output_type": "stream",
          "name": "stdout",
          "text": [
            "func1 지역 변수 a = 1\n",
            "전역 변수 a = 5\n"
          ]
        }
      ]
    },
    {
      "cell_type": "code",
      "source": [
        "a = 5 # 전역 변수\n",
        "\n",
        "def func1():\n",
        "  # a = 1 # 지역 변수\n",
        "  print(f'func1 지역 변수 a = {a}')  # 내부에서 a값 지정 안하면 전역 변수가 함수 내부에도 영향 줌\n",
        "\n",
        "func1()\n",
        "print(f'전역 변수 a = {a}')"
      ],
      "metadata": {
        "colab": {
          "base_uri": "https://localhost:8080/"
        },
        "id": "xXhM6di03uD_",
        "outputId": "cca8816f-977c-47c3-e08c-b5af51671433"
      },
      "execution_count": 68,
      "outputs": [
        {
          "output_type": "stream",
          "name": "stdout",
          "text": [
            "func1 지역 변수 a = 5\n",
            "전역 변수 a = 5\n"
          ]
        }
      ]
    },
    {
      "cell_type": "code",
      "source": [
        "a = 5 # 전역 변수\n",
        "\n",
        "def func1():\n",
        "  a = 1 # 지역 변수\n",
        "  print(f'func1 지역 변수 a = {a}')\n",
        "\n",
        "def func2():\n",
        "  a = 4 # 지역 변수\n",
        "  print(f'func2 지역 변수 a = {a}')\n",
        "\n",
        "func1()\n",
        "func2()\n",
        "print(f'전역 변수 a = {a}')"
      ],
      "metadata": {
        "colab": {
          "base_uri": "https://localhost:8080/"
        },
        "id": "XlkxMH3D3-ND",
        "outputId": "cbf8dafc-9963-4520-ada7-92bc3ee3fc7a"
      },
      "execution_count": 70,
      "outputs": [
        {
          "output_type": "stream",
          "name": "stdout",
          "text": [
            "func1 지역 변수 a = 1\n",
            "func2 지역 변수 a = 4\n",
            "전역 변수 a = 5\n"
          ]
        }
      ]
    },
    {
      "cell_type": "code",
      "source": [
        "a = 5 # 전역 변수\n",
        "\n",
        "def func1():\n",
        "  a = 1 # 지역 변수\n",
        "  print(f'func1 지역 변수 a = {a}')\n",
        "\n",
        "def func2():\n",
        "  a = 4 # 지역 변수\n",
        "  print(f'func2 지역 변수 a = {a}')\n",
        "\n",
        "def func3():\n",
        "  print(f'func3 전역 변수 a = {a}')\n",
        "\n",
        "def func4():\n",
        "  global a # 함수 내에서 전역 변수를 변경하기 위함\n",
        "  a = 500\n",
        "  print(f'func4 전역 변수 a = {a}')\n",
        "\n",
        "func1()\n",
        "func2()\n",
        "func3()\n",
        "func4()  # 500 나오는 것은 이해 완료\n",
        "print(f'전역 변수 a = {a}')  # 여기도 500인 것이 포인트\n",
        "func3()  # 전역 변수 변경 이후 출력 > 결과값 바뀜\n",
        "func2()\n",
        "func1()"
      ],
      "metadata": {
        "colab": {
          "base_uri": "https://localhost:8080/"
        },
        "id": "emRz-XNl4WVj",
        "outputId": "d9a893c5-e81a-4b58-d36e-48679ac6d3ab"
      },
      "execution_count": 76,
      "outputs": [
        {
          "output_type": "stream",
          "name": "stdout",
          "text": [
            "func1 지역 변수 a = 1\n",
            "func2 지역 변수 a = 4\n",
            "func3 전역 변수 a = 5\n",
            "func4 전역 변수 a = 500\n",
            "전역 변수 a = 500\n",
            "func3 전역 변수 a = 500\n",
            "func2 지역 변수 a = 4\n",
            "func1 지역 변수 a = 1\n"
          ]
        }
      ]
    },
    {
      "cell_type": "markdown",
      "source": [
        "### 람다 함수\n",
        "- 'def' 함수 같은 경우에는 복잡한 함수 로직을 만들 때 주로 사용\n",
        "- 단순 기능을 수행할 때, lambda 함수\n",
        "  + 함수를 한 줄로 처리"
      ],
      "metadata": {
        "id": "Mzf6MUyO6wS_"
      }
    },
    {
      "cell_type": "code",
      "source": [
        "(lambda x : x ** 2)(3)"
      ],
      "metadata": {
        "colab": {
          "base_uri": "https://localhost:8080/"
        },
        "id": "haule_QK7KJ2",
        "outputId": "bb4430e0-4789-4ab6-bf1a-964f5b109d87"
      },
      "execution_count": 78,
      "outputs": [
        {
          "output_type": "execute_result",
          "data": {
            "text/plain": [
              "9"
            ]
          },
          "metadata": {},
          "execution_count": 78
        }
      ]
    },
    {
      "cell_type": "code",
      "source": [
        "(lambda 인자(=매개변수) : 인자를 활용한 코드)(원하는 인자 코드 입력)"
      ],
      "metadata": {
        "id": "FNuuAovM7uny"
      },
      "execution_count": null,
      "outputs": []
    },
    {
      "cell_type": "code",
      "source": [
        "mySquare = lambda x : x ** 2\n",
        "mySquare(5)"
      ],
      "metadata": {
        "colab": {
          "base_uri": "https://localhost:8080/"
        },
        "id": "XsQBaWG58OP7",
        "outputId": "56736423-88a6-412a-c5c5-1b7aad0f22e4"
      },
      "execution_count": 83,
      "outputs": [
        {
          "output_type": "execute_result",
          "data": {
            "text/plain": [
              "25"
            ]
          },
          "metadata": {},
          "execution_count": 83
        }
      ]
    },
    {
      "cell_type": "code",
      "source": [
        "def myPower(x):\n",
        "  y = x ** 2\n",
        "  print(y)\n",
        "# return y\n",
        "\n",
        "myPower(3)"
      ],
      "metadata": {
        "colab": {
          "base_uri": "https://localhost:8080/"
        },
        "id": "dlF6k3dE7Uod",
        "outputId": "6d1bd722-a40b-4d4c-bfae-e9eb9b3c859d"
      },
      "execution_count": 82,
      "outputs": [
        {
          "output_type": "stream",
          "name": "stdout",
          "text": [
            "9\n"
          ]
        }
      ]
    },
    {
      "cell_type": "markdown",
      "source": [
        "## 클래스 선언과 객체 생성\n",
        "- 교재 p.135\n",
        "- 함수의 확장\n",
        "- 함수와 클래스 비유적으로 비교\n",
        "  + 함수 : 각 덧셈함수, 뺄셈함수, 곱셈함수 등\n",
        "  + 클래스 : 사칙연산 클래스, (예: 계산기)\n",
        "  + 라이브러리 : 클래스들의 묶음\n",
        "    + 사칙연산 클래스\n",
        "    + 미분 클래스\n",
        "    + 적분 클래스\n",
        "    + etc..\n",
        "    + 수학 라이브러리"
      ],
      "metadata": {
        "id": "n4S2zWfpBFQS"
      }
    },
    {
      "cell_type": "code",
      "source": [
        "# 자전거의 속성 : data (바퀴의 크기, 자전거의 색상)\n",
        "# 자전거의 동작 : method (= function) 지정된 속도로 이동, 좌/우 회전, 정지 기능"
      ],
      "metadata": {
        "id": "2BngA6bsDceT"
      },
      "execution_count": null,
      "outputs": []
    },
    {
      "cell_type": "code",
      "source": [
        "class Bicycle() : # 클래스 선언\n",
        "  # 클래스 변수\n",
        "  데이터1 = 바퀴의 크기\n",
        "  데이터2 = 자전거의 색상\n",
        "\n",
        "  # 클래스 메서드\n",
        "  def 속도():\n",
        "    pass\n",
        "\n",
        "  def 방향():\n",
        "    pass\n",
        "\n",
        "  def 정지():\n",
        "    pass\n",
        "\n",
        "객체명 = Bicycle(데이터1, 데이터2) # 입력한 형태로 새로운 객체가 막 생기는 것"
      ],
      "metadata": {
        "id": "v0G87wZZEDL9"
      },
      "execution_count": null,
      "outputs": []
    },
    {
      "cell_type": "code",
      "source": [
        "fruits = ['orange', 'apple', 'pear', 'banana', 'kiwi', 'apple', 'banana']\n",
        "\n",
        "# 리스트를 만든 사람이 count() 동작을 만듦\n",
        "fruits.count('apple')\n",
        "\n",
        "# 리스트에서 숫자가 있음\n",
        "Fruits = [1,2,3,4,5,6,7]\n",
        "# 더하고 싶다 -> 리스트에는 숫자 덧셈 함수가 없음"
      ],
      "metadata": {
        "id": "xxEwT65LF7wX"
      },
      "execution_count": null,
      "outputs": []
    },
    {
      "cell_type": "markdown",
      "source": [
        "### why Class? 프로그래밍 관점\n"
      ],
      "metadata": {
        "id": "CmQEQ4KxHAZV"
      }
    },
    {
      "cell_type": "code",
      "source": [
        "result = 0\n",
        "def add(num):  # 계산기 1대를 보유한 상태\n",
        "  global result\n",
        "\n",
        "  result = result + num # 결과값(result)에 입력값(num) 더하기\n",
        "  return result\n",
        "\n",
        "print(add(3))  # +5 -> 8\n",
        "print(add(5))"
      ],
      "metadata": {
        "colab": {
          "base_uri": "https://localhost:8080/"
        },
        "id": "UlFsMxnqJXrv",
        "outputId": "57c41caf-1d36-4c81-8301-11a29e52cb16"
      },
      "execution_count": 84,
      "outputs": [
        {
          "output_type": "stream",
          "name": "stdout",
          "text": [
            "3\n",
            "8\n"
          ]
        }
      ]
    },
    {
      "cell_type": "markdown",
      "source": [
        "- 계산기 1대가 더 필요한 상태"
      ],
      "metadata": {
        "id": "fgJ6NDtLKDe6"
      }
    },
    {
      "cell_type": "code",
      "source": [
        "result1 = 0\n",
        "result2 = 0\n",
        "\n",
        "def add1(num):\n",
        "  global result1\n",
        "\n",
        "  result1 = result1 + num # 결괏값(result)에 입력값(num) 더하기\n",
        "  return result1\n",
        "\n",
        "def add2(num):\n",
        "  global result2\n",
        "\n",
        "  result2 = result2 + num # 결괏값(result)에 입력값(num) 더하기\n",
        "  return result2\n",
        "\n",
        "\n",
        "print(add1(3))\n",
        "print(add1(5))\n",
        "print(add2(3))\n",
        "print(add2(8))"
      ],
      "metadata": {
        "colab": {
          "base_uri": "https://localhost:8080/"
        },
        "id": "Z6iZk5g0KF7I",
        "outputId": "aaad1425-80fd-4a0c-f08c-3eb53f5d2d6b"
      },
      "execution_count": 85,
      "outputs": [
        {
          "output_type": "stream",
          "name": "stdout",
          "text": [
            "3\n",
            "8\n",
            "3\n",
            "11\n"
          ]
        }
      ]
    },
    {
      "cell_type": "markdown",
      "source": [
        "- 위 코드의 문제점 : 같은 기능(덧셈)을 수행하는 함수가 중복될 수 있음 / 코드의 가독성이 매우 급격하게 떨어지기 시작\n",
        "\n",
        "- 점프 투 파이썬 클래스 예제\n"
      ],
      "metadata": {
        "id": "hgtiDVGPKcHa"
      }
    },
    {
      "cell_type": "code",
      "source": [
        "class Calculator:\n",
        "\n",
        "  def __init__(self):\n",
        "    self.result = 0  # result값을 초기화\n",
        "\n",
        "  # 클래스 메서드\n",
        "  def add(self, num):\n",
        "    self.result = self.result + num\n",
        "    return self.result\n",
        "\n",
        "cal1 = Calculator() # 인스턴스화, 계산기 번호 1\n",
        "cal2 = Calculator() # 인스턴스화, 계산기 번호 2\n",
        "cal3 = Calculator()\n",
        "\n",
        "# 클래스의 위대함\n",
        "# 독립적으로 구현이 되면서, 동시에 실행이 되고 있음\n",
        "# 기능은 덧셈 기능\n",
        "# 계산기 댓수를 무한으로 생성가능\n",
        "\n",
        "print(cal1.add(3))\n",
        "print(cal1.add(5))\n",
        "print(cal2.add(3))\n",
        "print(cal2.add(100))"
      ],
      "metadata": {
        "colab": {
          "base_uri": "https://localhost:8080/"
        },
        "id": "Y4yKFTqKPJRK",
        "outputId": "ef5f96fe-47e2-44f5-a656-3473ecdfb04e"
      },
      "execution_count": 90,
      "outputs": [
        {
          "output_type": "stream",
          "name": "stdout",
          "text": [
            "3\n",
            "8\n",
            "3\n",
            "103\n"
          ]
        }
      ]
    },
    {
      "cell_type": "code",
      "source": [
        "print(cal3.multiple(100))\n",
        "\n",
        "# 오류 : AttributeError: 'Calculator' object has no attribute 'multiple'\n",
        "# 클래스가 없음"
      ],
      "metadata": {
        "colab": {
          "base_uri": "https://localhost:8080/",
          "height": 184
        },
        "id": "9mrEoCb8S47G",
        "outputId": "250be859-966f-496e-b683-47b2f60a9120"
      },
      "execution_count": 91,
      "outputs": [
        {
          "output_type": "error",
          "ename": "AttributeError",
          "evalue": "ignored",
          "traceback": [
            "\u001b[0;31m---------------------------------------------------------------------------\u001b[0m",
            "\u001b[0;31mAttributeError\u001b[0m                            Traceback (most recent call last)",
            "\u001b[0;32m<ipython-input-91-da385e1c90de>\u001b[0m in \u001b[0;36m<cell line: 1>\u001b[0;34m()\u001b[0m\n\u001b[0;32m----> 1\u001b[0;31m \u001b[0mprint\u001b[0m\u001b[0;34m(\u001b[0m\u001b[0mcal3\u001b[0m\u001b[0;34m.\u001b[0m\u001b[0mmultiple\u001b[0m\u001b[0;34m(\u001b[0m\u001b[0;36m100\u001b[0m\u001b[0;34m)\u001b[0m\u001b[0;34m)\u001b[0m\u001b[0;34m\u001b[0m\u001b[0;34m\u001b[0m\u001b[0m\n\u001b[0m",
            "\u001b[0;31mAttributeError\u001b[0m: 'Calculator' object has no attribute 'multiple'"
          ]
        }
      ]
    },
    {
      "cell_type": "code",
      "source": [
        "print(cal3.Add(100))  # 오류 : 대소문자 확인!"
      ],
      "metadata": {
        "colab": {
          "base_uri": "https://localhost:8080/",
          "height": 184
        },
        "id": "9Kr4EpKATysK",
        "outputId": "e9a063c0-e443-4251-86c6-fe2477ff9a77"
      },
      "execution_count": 92,
      "outputs": [
        {
          "output_type": "error",
          "ename": "AttributeError",
          "evalue": "ignored",
          "traceback": [
            "\u001b[0;31m---------------------------------------------------------------------------\u001b[0m",
            "\u001b[0;31mAttributeError\u001b[0m                            Traceback (most recent call last)",
            "\u001b[0;32m<ipython-input-92-8a2a7f147476>\u001b[0m in \u001b[0;36m<cell line: 1>\u001b[0;34m()\u001b[0m\n\u001b[0;32m----> 1\u001b[0;31m \u001b[0mprint\u001b[0m\u001b[0;34m(\u001b[0m\u001b[0mcal3\u001b[0m\u001b[0;34m.\u001b[0m\u001b[0mAdd\u001b[0m\u001b[0;34m(\u001b[0m\u001b[0;36m100\u001b[0m\u001b[0;34m)\u001b[0m\u001b[0;34m)\u001b[0m\u001b[0;34m\u001b[0m\u001b[0;34m\u001b[0m\u001b[0m\n\u001b[0m",
            "\u001b[0;31mAttributeError\u001b[0m: 'Calculator' object has no attribute 'Add'"
          ]
        }
      ]
    },
    {
      "cell_type": "markdown",
      "source": [
        "### 객체 초기화\n",
        "- __ init __() : 객체 생성과 동시에 속성값을 지정할 수 있다.\n",
        "  + 주로 클래스 선언 시 변수 초기화"
      ],
      "metadata": {
        "id": "aN36fDquU4E9"
      }
    },
    {
      "cell_type": "code",
      "source": [
        "class Bicycle():\n",
        "\n",
        "  # 변수 초기화\n",
        "  def __init__(self, wheel_size, color):\n",
        "    self.wheel_size = wheel_size\n",
        "    self.color = color\n",
        "\n",
        "  def stop(self):\n",
        "    print('자전거({0}, {1}) : 정지'.format(self.wheel_size, self.color))"
      ],
      "metadata": {
        "id": "VlfHC8MbVZkd"
      },
      "execution_count": 93,
      "outputs": []
    },
    {
      "cell_type": "code",
      "source": [
        "my_bicycle = Bicycle(26, 'black')\n",
        "ur_bicycle = Bicycle(30, 'pink')\n",
        "\n",
        "my_bicycle.stop()\n",
        "ur_bicycle.stop()"
      ],
      "metadata": {
        "colab": {
          "base_uri": "https://localhost:8080/"
        },
        "id": "GNTB8weYWJGA",
        "outputId": "1aad2d88-351d-411b-b85f-e8eeb13eda8f"
      },
      "execution_count": 95,
      "outputs": [
        {
          "output_type": "stream",
          "name": "stdout",
          "text": [
            "자전거(26, black) : 정지\n",
            "자전거(30, pink) : 정지\n"
          ]
        }
      ]
    }
  ]
}